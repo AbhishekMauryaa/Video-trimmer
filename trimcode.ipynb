{
 "cells": [
  {
   "cell_type": "code",
   "execution_count": 5,
   "id": "66863ea0",
   "metadata": {},
   "outputs": [
    {
     "name": "stderr",
     "output_type": "stream",
     "text": [
      "                                                                     \n",
      "\u001b[A                                                                 \n",
      "chunk:   0%|          | 2/1985 [19:58<330:05:40, 599.26s/it, now=None]\u001b[A\n",
      "\u001b[A                                                                   \n",
      "chunk:   0%|          | 2/1985 [19:58<330:05:40, 599.26s/it, now=None]\u001b[A"
     ]
    },
    {
     "name": "stdout",
     "output_type": "stream",
     "text": [
      "Moviepy - Building video C:\\Users\\Abhishek Maurya\\Desktop\\strt\\trim\\clip_0.mp4.\n",
      "MoviePy - Writing audio in clip_0TEMP_MPY_wvf_snd.mp3\n"
     ]
    },
    {
     "name": "stderr",
     "output_type": "stream",
     "text": [
      "                                                                   \n",
      "\u001b[A                                                                   \n",
      "chunk:   0%|          | 2/1985 [19:59<330:16:19, 599.59s/it, now=None]\u001b[A\n",
      "\u001b[A                                                                   \n",
      "chunk:   0%|          | 2/1985 [19:59<330:16:19, 599.59s/it, now=None]\u001b[A"
     ]
    },
    {
     "name": "stdout",
     "output_type": "stream",
     "text": [
      "MoviePy - Done.\n",
      "Moviepy - Writing video C:\\Users\\Abhishek Maurya\\Desktop\\strt\\trim\\clip_0.mp4\n",
      "\n"
     ]
    },
    {
     "name": "stderr",
     "output_type": "stream",
     "text": [
      "                                                               \n",
      "\u001b[A                                                                   \n",
      "chunk:   0%|          | 2/1985 [20:02<331:12:45, 601.29s/it, now=None]\u001b[A\n",
      "\u001b[A                                                                   \n",
      "chunk:   0%|          | 2/1985 [20:02<331:13:03, 601.30s/it, now=None]\u001b[A\n",
      "\u001b[A                                                                   \n",
      "chunk:   0%|          | 2/1985 [20:02<331:13:11, 601.31s/it, now=None]\u001b[A\n",
      "\u001b[A                                                                   \n",
      "chunk:   0%|          | 2/1985 [20:02<331:13:13, 601.31s/it, now=None]\u001b[A"
     ]
    },
    {
     "name": "stdout",
     "output_type": "stream",
     "text": [
      "Moviepy - Done !\n",
      "Moviepy - video ready C:\\Users\\Abhishek Maurya\\Desktop\\strt\\trim\\clip_0.mp4\n",
      "Moviepy - Building video C:\\Users\\Abhishek Maurya\\Desktop\\strt\\trim\\clip_1.mp4.\n",
      "MoviePy - Writing audio in clip_1TEMP_MPY_wvf_snd.mp3\n"
     ]
    },
    {
     "name": "stderr",
     "output_type": "stream",
     "text": [
      "                                                                     \n",
      "\u001b[A                                                                   \n",
      "chunk:   0%|          | 2/1985 [20:05<331:59:29, 602.71s/it, now=None]\u001b[A\n",
      "\u001b[A                                                                   \n",
      "chunk:   0%|          | 2/1985 [20:05<331:59:29, 602.71s/it, now=None]\u001b[A"
     ]
    },
    {
     "name": "stdout",
     "output_type": "stream",
     "text": [
      "MoviePy - Done.\n",
      "Moviepy - Writing video C:\\Users\\Abhishek Maurya\\Desktop\\strt\\trim\\clip_1.mp4\n",
      "\n"
     ]
    },
    {
     "name": "stderr",
     "output_type": "stream",
     "text": [
      "                                                                 \n",
      "\u001b[A                                                                   \n",
      "chunk:   0%|          | 2/1985 [20:30<339:02:02, 615.49s/it, now=None]\u001b[A\n",
      "\u001b[A                                                                   \n",
      "chunk:   0%|          | 2/1985 [20:31<339:02:17, 615.50s/it, now=None]\u001b[A\n",
      "\u001b[A                                                                   \n",
      "chunk:   0%|          | 2/1985 [20:31<339:02:20, 615.50s/it, now=None]\u001b[A\n",
      "\u001b[A                                                                   \n",
      "chunk:   0%|          | 2/1985 [20:31<339:02:23, 615.50s/it, now=None]\u001b[A"
     ]
    },
    {
     "name": "stdout",
     "output_type": "stream",
     "text": [
      "Moviepy - Done !\n",
      "Moviepy - video ready C:\\Users\\Abhishek Maurya\\Desktop\\strt\\trim\\clip_1.mp4\n",
      "Moviepy - Building video C:\\Users\\Abhishek Maurya\\Desktop\\strt\\trim\\clip_2.mp4.\n",
      "MoviePy - Writing audio in clip_2TEMP_MPY_wvf_snd.mp3\n"
     ]
    },
    {
     "name": "stderr",
     "output_type": "stream",
     "text": [
      "                                                                      \n",
      "\u001b[A                                                                   \n",
      "chunk:   0%|          | 2/1985 [20:33<339:36:28, 616.53s/it, now=None]\u001b[A\n",
      "\u001b[A                                                                   \n",
      "chunk:   0%|          | 2/1985 [20:33<339:36:28, 616.53s/it, now=None]\u001b[A"
     ]
    },
    {
     "name": "stdout",
     "output_type": "stream",
     "text": [
      "MoviePy - Done.\n",
      "Moviepy - Writing video C:\\Users\\Abhishek Maurya\\Desktop\\strt\\trim\\clip_2.mp4\n",
      "\n"
     ]
    },
    {
     "name": "stderr",
     "output_type": "stream",
     "text": [
      "                                                                \n",
      "\u001b[A                                                                   \n",
      "chunk:   0%|          | 2/1985 [21:01<347:25:29, 630.73s/it, now=None]\u001b[A\n",
      "\u001b[A                                                                   \n",
      "chunk:   0%|          | 2/1985 [21:01<347:25:34, 630.73s/it, now=None]\u001b[A\n",
      "\u001b[A                                                                   \n",
      "chunk:   0%|          | 2/1985 [21:01<347:25:38, 630.73s/it, now=None]\u001b[A\n",
      "\u001b[A                                                                   \n",
      "chunk:   0%|          | 2/1985 [21:01<347:25:45, 630.73s/it, now=None]\u001b[A"
     ]
    },
    {
     "name": "stdout",
     "output_type": "stream",
     "text": [
      "Moviepy - Done !\n",
      "Moviepy - video ready C:\\Users\\Abhishek Maurya\\Desktop\\strt\\trim\\clip_2.mp4\n",
      "Moviepy - Building video C:\\Users\\Abhishek Maurya\\Desktop\\strt\\trim\\clip_3.mp4.\n",
      "MoviePy - Writing audio in clip_3TEMP_MPY_wvf_snd.mp3\n"
     ]
    },
    {
     "name": "stderr",
     "output_type": "stream",
     "text": [
      "                                                                      \n",
      "\u001b[A                                                                   \n",
      "chunk:   0%|          | 2/1985 [21:03<348:02:01, 631.83s/it, now=None]\u001b[A\n",
      "\u001b[A                                                                   \n",
      "chunk:   0%|          | 2/1985 [21:03<348:02:08, 631.83s/it, now=None]\u001b[A"
     ]
    },
    {
     "name": "stdout",
     "output_type": "stream",
     "text": [
      "MoviePy - Done.\n",
      "Moviepy - Writing video C:\\Users\\Abhishek Maurya\\Desktop\\strt\\trim\\clip_3.mp4\n",
      "\n"
     ]
    },
    {
     "name": "stderr",
     "output_type": "stream",
     "text": [
      "                                                                 \n",
      "\u001b[A                                                                   \n",
      "chunk:   0%|          | 2/1985 [21:33<356:20:52, 646.92s/it, now=None]\u001b[A\n",
      "\u001b[A                                                                   \n",
      "chunk:   0%|          | 2/1985 [21:33<356:20:56, 646.93s/it, now=None]\u001b[A\n",
      "\u001b[A                                                                   \n",
      "chunk:   0%|          | 2/1985 [21:33<356:21:02, 646.93s/it, now=None]\u001b[A\n",
      "\u001b[A                                                                   \n",
      "chunk:   0%|          | 2/1985 [21:33<356:21:05, 646.93s/it, now=None]\u001b[A"
     ]
    },
    {
     "name": "stdout",
     "output_type": "stream",
     "text": [
      "Moviepy - Done !\n",
      "Moviepy - video ready C:\\Users\\Abhishek Maurya\\Desktop\\strt\\trim\\clip_3.mp4\n",
      "Moviepy - Building video C:\\Users\\Abhishek Maurya\\Desktop\\strt\\trim\\clip_4.mp4.\n",
      "MoviePy - Writing audio in clip_4TEMP_MPY_wvf_snd.mp3\n"
     ]
    },
    {
     "name": "stderr",
     "output_type": "stream",
     "text": [
      "                                                                      \n",
      "\u001b[A                                                                   \n",
      "chunk:   0%|          | 2/1985 [21:36<356:59:26, 648.09s/it, now=None]\u001b[A\n",
      "\u001b[A                                                                   \n",
      "chunk:   0%|          | 2/1985 [21:36<356:59:37, 648.10s/it, now=None]\u001b[A"
     ]
    },
    {
     "name": "stdout",
     "output_type": "stream",
     "text": [
      "MoviePy - Done.\n",
      "Moviepy - Writing video C:\\Users\\Abhishek Maurya\\Desktop\\strt\\trim\\clip_4.mp4\n",
      "\n"
     ]
    },
    {
     "name": "stderr",
     "output_type": "stream",
     "text": [
      "                                                                \n",
      "\u001b[A                                                                   \n",
      "chunk:   0%|          | 2/1985 [22:17<368:18:07, 668.63s/it, now=None]\u001b[A\n",
      "\u001b[A                                                                   \n",
      "chunk:   0%|          | 2/1985 [22:17<368:18:27, 668.64s/it, now=None]\u001b[A\n",
      "\u001b[A                                                                   \n",
      "chunk:   0%|          | 2/1985 [22:17<368:18:30, 668.64s/it, now=None]\u001b[A\n",
      "\u001b[A                                                                   \n",
      "chunk:   0%|          | 2/1985 [22:17<368:18:32, 668.64s/it, now=None]\u001b[A"
     ]
    },
    {
     "name": "stdout",
     "output_type": "stream",
     "text": [
      "Moviepy - Done !\n",
      "Moviepy - video ready C:\\Users\\Abhishek Maurya\\Desktop\\strt\\trim\\clip_4.mp4\n",
      "Moviepy - Building video C:\\Users\\Abhishek Maurya\\Desktop\\strt\\trim\\clip_5.mp4.\n",
      "MoviePy - Writing audio in clip_5TEMP_MPY_wvf_snd.mp3\n"
     ]
    },
    {
     "name": "stderr",
     "output_type": "stream",
     "text": [
      "                                                                      \n",
      "\u001b[A                                                                   \n",
      "chunk:   0%|          | 2/1985 [22:19<368:48:51, 669.56s/it, now=None]\u001b[A\n",
      "\u001b[A                                                                   \n",
      "chunk:   0%|          | 2/1985 [22:19<368:48:59, 669.56s/it, now=None]\u001b[A"
     ]
    },
    {
     "name": "stdout",
     "output_type": "stream",
     "text": [
      "MoviePy - Done.\n",
      "Moviepy - Writing video C:\\Users\\Abhishek Maurya\\Desktop\\strt\\trim\\clip_5.mp4\n",
      "\n"
     ]
    },
    {
     "name": "stderr",
     "output_type": "stream",
     "text": [
      "                                                                 \n",
      "\u001b[A                                                                   \n",
      "chunk:   0%|          | 2/1985 [22:53<378:17:34, 686.76s/it, now=None]\u001b[A\n",
      "\u001b[A                                                                   \n",
      "chunk:   0%|          | 2/1985 [22:53<378:17:42, 686.77s/it, now=None]\u001b[A\n",
      "\u001b[A                                                                   \n",
      "chunk:   0%|          | 2/1985 [22:53<378:17:46, 686.77s/it, now=None]\u001b[A\n",
      "\u001b[A                                                                   \n",
      "chunk:   0%|          | 2/1985 [22:53<378:17:46, 686.77s/it, now=None]\u001b[A"
     ]
    },
    {
     "name": "stdout",
     "output_type": "stream",
     "text": [
      "Moviepy - Done !\n",
      "Moviepy - video ready C:\\Users\\Abhishek Maurya\\Desktop\\strt\\trim\\clip_5.mp4\n",
      "Moviepy - Building video C:\\Users\\Abhishek Maurya\\Desktop\\strt\\trim\\clip_6.mp4.\n",
      "MoviePy - Writing audio in clip_6TEMP_MPY_wvf_snd.mp3\n"
     ]
    },
    {
     "name": "stderr",
     "output_type": "stream",
     "text": [
      "                                                                      \n",
      "\u001b[A                                                                   \n",
      "chunk:   0%|          | 2/1985 [22:55<378:50:10, 687.75s/it, now=None]\u001b[A\n",
      "\u001b[A                                                                   \n",
      "chunk:   0%|          | 2/1985 [22:55<378:50:14, 687.75s/it, now=None]\u001b[A"
     ]
    },
    {
     "name": "stdout",
     "output_type": "stream",
     "text": [
      "MoviePy - Done.\n",
      "Moviepy - Writing video C:\\Users\\Abhishek Maurya\\Desktop\\strt\\trim\\clip_6.mp4\n",
      "\n"
     ]
    },
    {
     "name": "stderr",
     "output_type": "stream",
     "text": [
      "                                                                \n",
      "\u001b[A                                                                   \n",
      "chunk:   0%|          | 2/1985 [23:34<389:42:04, 707.48s/it, now=None]\u001b[A\n",
      "\u001b[A                                                                   \n",
      "chunk:   0%|          | 2/1985 [23:34<389:42:13, 707.48s/it, now=None]\u001b[A\n",
      "\u001b[A                                                                   \n",
      "chunk:   0%|          | 2/1985 [23:34<389:42:13, 707.48s/it, now=None]\u001b[A\n",
      "\u001b[A                                                                   \n",
      "chunk:   0%|          | 2/1985 [23:34<389:42:21, 707.48s/it, now=None]\u001b[A"
     ]
    },
    {
     "name": "stdout",
     "output_type": "stream",
     "text": [
      "Moviepy - Done !\n",
      "Moviepy - video ready C:\\Users\\Abhishek Maurya\\Desktop\\strt\\trim\\clip_6.mp4\n",
      "Moviepy - Building video C:\\Users\\Abhishek Maurya\\Desktop\\strt\\trim\\clip_7.mp4.\n",
      "MoviePy - Writing audio in clip_7TEMP_MPY_wvf_snd.mp3\n"
     ]
    },
    {
     "name": "stderr",
     "output_type": "stream",
     "text": [
      "                                                                      \n",
      "\u001b[A                                                                   \n",
      "chunk:   0%|          | 2/1985 [23:36<390:14:04, 708.44s/it, now=None]\u001b[A\n",
      "\u001b[A                                                                   \n",
      "chunk:   0%|          | 2/1985 [23:36<390:14:04, 708.44s/it, now=None]\u001b[A"
     ]
    },
    {
     "name": "stdout",
     "output_type": "stream",
     "text": [
      "MoviePy - Done.\n",
      "Moviepy - Writing video C:\\Users\\Abhishek Maurya\\Desktop\\strt\\trim\\clip_7.mp4\n",
      "\n"
     ]
    },
    {
     "name": "stderr",
     "output_type": "stream",
     "text": [
      "                                                                \n",
      "\u001b[A                                                                   \n",
      "chunk:   0%|          | 2/1985 [24:21<402:23:33, 730.52s/it, now=None]\u001b[A\n",
      "\u001b[A                                                                   \n",
      "chunk:   0%|          | 2/1985 [24:21<402:23:51, 730.53s/it, now=None]\u001b[A\n",
      "\u001b[A                                                                   \n",
      "chunk:   0%|          | 2/1985 [24:21<402:23:51, 730.53s/it, now=None]\u001b[A\n",
      "\u001b[A                                                                   \n",
      "chunk:   0%|          | 2/1985 [24:21<402:23:51, 730.53s/it, now=None]\u001b[A"
     ]
    },
    {
     "name": "stdout",
     "output_type": "stream",
     "text": [
      "Moviepy - Done !\n",
      "Moviepy - video ready C:\\Users\\Abhishek Maurya\\Desktop\\strt\\trim\\clip_7.mp4\n",
      "Moviepy - Building video C:\\Users\\Abhishek Maurya\\Desktop\\strt\\trim\\clip_8.mp4.\n",
      "MoviePy - Writing audio in clip_8TEMP_MPY_wvf_snd.mp3\n"
     ]
    },
    {
     "name": "stderr",
     "output_type": "stream",
     "text": [
      "                                                                      \n",
      "\u001b[A                                                                   \n",
      "chunk:   0%|          | 2/1985 [24:23<402:58:52, 731.58s/it, now=None]\u001b[A\n",
      "\u001b[A                                                                   \n",
      "chunk:   0%|          | 2/1985 [24:23<402:58:57, 731.59s/it, now=None]\u001b[A"
     ]
    },
    {
     "name": "stdout",
     "output_type": "stream",
     "text": [
      "MoviePy - Done.\n",
      "Moviepy - Writing video C:\\Users\\Abhishek Maurya\\Desktop\\strt\\trim\\clip_8.mp4\n",
      "\n"
     ]
    },
    {
     "name": "stderr",
     "output_type": "stream",
     "text": [
      "                                                                \n",
      "\u001b[A                                                                   \n",
      "chunk:   0%|          | 2/1985 [25:01<413:34:34, 750.82s/it, now=None]\u001b[A\n",
      "\u001b[A                                                                   \n",
      "chunk:   0%|          | 2/1985 [25:01<413:34:49, 750.83s/it, now=None]\u001b[A\n",
      "\u001b[A                                                                   \n",
      "chunk:   0%|          | 2/1985 [25:01<413:34:50, 750.83s/it, now=None]\u001b[A\n",
      "\u001b[A                                                                   \n",
      "chunk:   0%|          | 2/1985 [25:01<413:34:50, 750.83s/it, now=None]\u001b[A"
     ]
    },
    {
     "name": "stdout",
     "output_type": "stream",
     "text": [
      "Moviepy - Done !\n",
      "Moviepy - video ready C:\\Users\\Abhishek Maurya\\Desktop\\strt\\trim\\clip_8.mp4\n",
      "Moviepy - Building video C:\\Users\\Abhishek Maurya\\Desktop\\strt\\trim\\clip_9.mp4.\n",
      "MoviePy - Writing audio in clip_9TEMP_MPY_wvf_snd.mp3\n"
     ]
    },
    {
     "name": "stderr",
     "output_type": "stream",
     "text": [
      "                                                                      \n",
      "\u001b[A                                                                   \n",
      "chunk:   0%|          | 2/1985 [25:03<414:08:42, 751.85s/it, now=None]\u001b[A\n",
      "\u001b[A                                                                   \n",
      "chunk:   0%|          | 2/1985 [25:03<414:08:45, 751.85s/it, now=None]\u001b[A"
     ]
    },
    {
     "name": "stdout",
     "output_type": "stream",
     "text": [
      "MoviePy - Done.\n",
      "Moviepy - Writing video C:\\Users\\Abhishek Maurya\\Desktop\\strt\\trim\\clip_9.mp4\n",
      "\n"
     ]
    },
    {
     "name": "stderr",
     "output_type": "stream",
     "text": [
      "                                                                \n",
      "\u001b[A                                                                   \n",
      "chunk:   0%|          | 2/1985 [25:45<425:45:42, 772.94s/it, now=None]\u001b[A\n",
      "\u001b[A                                                                   \n",
      "chunk:   0%|          | 2/1985 [25:45<425:45:57, 772.95s/it, now=None]\u001b[A\n",
      "\u001b[A                                                                   \n",
      "chunk:   0%|          | 2/1985 [25:45<425:46:01, 772.95s/it, now=None]\u001b[A\n",
      "\u001b[A                                                                   \n",
      "chunk:   0%|          | 2/1985 [25:45<425:46:01, 772.95s/it, now=None]\u001b[A"
     ]
    },
    {
     "name": "stdout",
     "output_type": "stream",
     "text": [
      "Moviepy - Done !\n",
      "Moviepy - video ready C:\\Users\\Abhishek Maurya\\Desktop\\strt\\trim\\clip_9.mp4\n",
      "Moviepy - Building video C:\\Users\\Abhishek Maurya\\Desktop\\strt\\trim\\clip_10.mp4.\n",
      "MoviePy - Writing audio in clip_10TEMP_MPY_wvf_snd.mp3\n"
     ]
    },
    {
     "name": "stderr",
     "output_type": "stream",
     "text": [
      "                                                                      \n",
      "\u001b[A                                                                   \n",
      "chunk:   0%|          | 2/1985 [25:47<426:18:50, 773.94s/it, now=None]\u001b[A\n",
      "\u001b[A                                                                   \n",
      "chunk:   0%|          | 2/1985 [25:47<426:18:54, 773.95s/it, now=None]\u001b[A"
     ]
    },
    {
     "name": "stdout",
     "output_type": "stream",
     "text": [
      "MoviePy - Done.\n",
      "Moviepy - Writing video C:\\Users\\Abhishek Maurya\\Desktop\\strt\\trim\\clip_10.mp4\n",
      "\n"
     ]
    },
    {
     "name": "stderr",
     "output_type": "stream",
     "text": [
      "                                                                \n",
      "\u001b[A                                                                   \n",
      "chunk:   0%|          | 2/1985 [26:41<441:08:33, 800.86s/it, now=None]\u001b[A\n",
      "\u001b[A                                                                   \n",
      "chunk:   0%|          | 2/1985 [26:41<441:08:38, 800.87s/it, now=None]\u001b[A\n",
      "\u001b[A                                                                   \n",
      "chunk:   0%|          | 2/1985 [26:41<441:08:38, 800.87s/it, now=None]\u001b[A\n",
      "\u001b[A                                                                   \n",
      "chunk:   0%|          | 2/1985 [26:41<441:08:38, 800.87s/it, now=None]\u001b[A"
     ]
    },
    {
     "name": "stdout",
     "output_type": "stream",
     "text": [
      "Moviepy - Done !\n",
      "Moviepy - video ready C:\\Users\\Abhishek Maurya\\Desktop\\strt\\trim\\clip_10.mp4\n",
      "Moviepy - Building video C:\\Users\\Abhishek Maurya\\Desktop\\strt\\trim\\clip_11.mp4.\n",
      "MoviePy - Writing audio in clip_11TEMP_MPY_wvf_snd.mp3\n"
     ]
    },
    {
     "name": "stderr",
     "output_type": "stream",
     "text": [
      "                                                                     \n",
      "\u001b[A                                                                   \n",
      "chunk:   0%|          | 2/1985 [26:44<441:47:16, 802.04s/it, now=None]\u001b[A\n",
      "\u001b[A                                                                   \n",
      "chunk:   0%|          | 2/1985 [26:44<441:47:19, 802.04s/it, now=None]\u001b[A"
     ]
    },
    {
     "name": "stdout",
     "output_type": "stream",
     "text": [
      "MoviePy - Done.\n",
      "Moviepy - Writing video C:\\Users\\Abhishek Maurya\\Desktop\\strt\\trim\\clip_11.mp4\n",
      "\n"
     ]
    },
    {
     "name": "stderr",
     "output_type": "stream",
     "text": [
      "                                                                \n",
      "\u001b[A                                                                   \n",
      "chunk:   0%|          | 2/1985 [27:28<454:08:58, 824.48s/it, now=None]\u001b[A\n",
      "\u001b[A                                                                   \n",
      "chunk:   0%|          | 2/1985 [27:28<454:09:01, 824.48s/it, now=None]\u001b[A\n",
      "\u001b[A                                                                   \n",
      "chunk:   0%|          | 2/1985 [27:28<454:09:04, 824.48s/it, now=None]\u001b[A\n",
      "\u001b[A                                                                   \n",
      "chunk:   0%|          | 2/1985 [27:28<454:09:06, 824.48s/it, now=None]\u001b[A"
     ]
    },
    {
     "name": "stdout",
     "output_type": "stream",
     "text": [
      "Moviepy - Done !\n",
      "Moviepy - video ready C:\\Users\\Abhishek Maurya\\Desktop\\strt\\trim\\clip_11.mp4\n",
      "Moviepy - Building video C:\\Users\\Abhishek Maurya\\Desktop\\strt\\trim\\clip_12.mp4.\n",
      "MoviePy - Writing audio in clip_12TEMP_MPY_wvf_snd.mp3\n"
     ]
    },
    {
     "name": "stderr",
     "output_type": "stream",
     "text": [
      "                                                                     \n",
      "\u001b[A                                                                   \n",
      "chunk:   0%|          | 2/1985 [27:31<454:47:53, 825.65s/it, now=None]\u001b[A\n",
      "\u001b[A                                                                   \n",
      "chunk:   0%|          | 2/1985 [27:31<454:47:56, 825.66s/it, now=None]\u001b[A"
     ]
    },
    {
     "name": "stdout",
     "output_type": "stream",
     "text": [
      "MoviePy - Done.\n",
      "Moviepy - Writing video C:\\Users\\Abhishek Maurya\\Desktop\\strt\\trim\\clip_12.mp4\n",
      "\n"
     ]
    },
    {
     "name": "stderr",
     "output_type": "stream",
     "text": [
      "                                                                \n",
      "\u001b[A                                                                   \n",
      "chunk:   0%|          | 2/1985 [28:12<466:01:55, 846.05s/it, now=None]\u001b[A\n",
      "\u001b[A                                                                   \n",
      "chunk:   0%|          | 2/1985 [28:12<466:01:59, 846.05s/it, now=None]\u001b[A\n",
      "\u001b[A                                                                   \n",
      "chunk:   0%|          | 2/1985 [28:12<466:02:02, 846.05s/it, now=None]\u001b[A\n",
      "\u001b[A                                                                   \n",
      "chunk:   0%|          | 2/1985 [28:12<466:02:04, 846.05s/it, now=None]\u001b[A"
     ]
    },
    {
     "name": "stdout",
     "output_type": "stream",
     "text": [
      "Moviepy - Done !\n",
      "Moviepy - video ready C:\\Users\\Abhishek Maurya\\Desktop\\strt\\trim\\clip_12.mp4\n",
      "Moviepy - Building video C:\\Users\\Abhishek Maurya\\Desktop\\strt\\trim\\clip_13.mp4.\n",
      "MoviePy - Writing audio in clip_13TEMP_MPY_wvf_snd.mp3\n"
     ]
    },
    {
     "name": "stderr",
     "output_type": "stream",
     "text": [
      "                                                                      \n",
      "\u001b[A                                                                   \n",
      "chunk:   0%|          | 2/1985 [28:14<466:34:34, 847.04s/it, now=None]\u001b[A\n",
      "\u001b[A                                                                   \n",
      "chunk:   0%|          | 2/1985 [28:14<466:34:34, 847.04s/it, now=None]\u001b[A"
     ]
    },
    {
     "name": "stdout",
     "output_type": "stream",
     "text": [
      "MoviePy - Done.\n",
      "Moviepy - Writing video C:\\Users\\Abhishek Maurya\\Desktop\\strt\\trim\\clip_13.mp4\n",
      "\n"
     ]
    },
    {
     "name": "stderr",
     "output_type": "stream",
     "text": [
      "                                                                \n",
      "\u001b[A                                                                   \n",
      "chunk:   0%|          | 2/1985 [29:01<479:41:48, 870.86s/it, now=None]\u001b[A\n",
      "\u001b[A                                                                   \n",
      "chunk:   0%|          | 2/1985 [29:01<479:41:52, 870.86s/it, now=None]\u001b[A\n",
      "\u001b[A                                                                   \n",
      "chunk:   0%|          | 2/1985 [29:01<479:41:56, 870.86s/it, now=None]\u001b[A\n",
      "\u001b[A                                                                   \n",
      "chunk:   0%|          | 2/1985 [29:01<479:41:59, 870.86s/it, now=None]\u001b[A"
     ]
    },
    {
     "name": "stdout",
     "output_type": "stream",
     "text": [
      "Moviepy - Done !\n",
      "Moviepy - video ready C:\\Users\\Abhishek Maurya\\Desktop\\strt\\trim\\clip_13.mp4\n",
      "Moviepy - Building video C:\\Users\\Abhishek Maurya\\Desktop\\strt\\trim\\clip_14.mp4.\n",
      "MoviePy - Writing audio in clip_14TEMP_MPY_wvf_snd.mp3\n"
     ]
    },
    {
     "name": "stderr",
     "output_type": "stream",
     "text": [
      "                                                                     \n",
      "\u001b[A                                                                   \n",
      "chunk:   0%|          | 2/1985 [29:03<480:17:33, 871.94s/it, now=None]\u001b[A\n",
      "\u001b[A                                                                   \n",
      "chunk:   0%|          | 2/1985 [29:03<480:17:37, 871.94s/it, now=None]\u001b[A"
     ]
    },
    {
     "name": "stdout",
     "output_type": "stream",
     "text": [
      "MoviePy - Done.\n",
      "Moviepy - Writing video C:\\Users\\Abhishek Maurya\\Desktop\\strt\\trim\\clip_14.mp4\n",
      "\n"
     ]
    },
    {
     "name": "stderr",
     "output_type": "stream",
     "text": [
      "                                                                \n",
      "\u001b[A                                                                   \n",
      "chunk:   0%|          | 2/1985 [29:50<493:03:07, 895.10s/it, now=None]\u001b[A\n",
      "\u001b[A                                                                   \n",
      "chunk:   0%|          | 2/1985 [29:50<493:03:12, 895.10s/it, now=None]\u001b[A\n",
      "\u001b[A                                                                   \n",
      "chunk:   0%|          | 2/1985 [29:50<493:03:16, 895.11s/it, now=None]\u001b[A\n",
      "\u001b[A                                                                   \n",
      "chunk:   0%|          | 2/1985 [29:50<493:03:19, 895.11s/it, now=None]\u001b[A"
     ]
    },
    {
     "name": "stdout",
     "output_type": "stream",
     "text": [
      "Moviepy - Done !\n",
      "Moviepy - video ready C:\\Users\\Abhishek Maurya\\Desktop\\strt\\trim\\clip_14.mp4\n",
      "Moviepy - Building video C:\\Users\\Abhishek Maurya\\Desktop\\strt\\trim\\clip_15.mp4.\n",
      "MoviePy - Writing audio in clip_15TEMP_MPY_wvf_snd.mp3\n"
     ]
    },
    {
     "name": "stderr",
     "output_type": "stream",
     "text": [
      "                                                                      \n",
      "\u001b[A                                                                   \n",
      "chunk:   0%|          | 2/1985 [29:52<493:41:03, 896.25s/it, now=None]\u001b[A\n",
      "\u001b[A                                                                   \n",
      "chunk:   0%|          | 2/1985 [29:52<493:41:07, 896.25s/it, now=None]\u001b[A"
     ]
    },
    {
     "name": "stdout",
     "output_type": "stream",
     "text": [
      "MoviePy - Done.\n",
      "Moviepy - Writing video C:\\Users\\Abhishek Maurya\\Desktop\\strt\\trim\\clip_15.mp4\n",
      "\n"
     ]
    },
    {
     "name": "stderr",
     "output_type": "stream",
     "text": [
      "                                                                \n",
      "\u001b[A                                                                   \n",
      "chunk:   0%|          | 2/1985 [30:37<506:02:35, 918.69s/it, now=None]\u001b[A\n",
      "\u001b[A                                                                   \n",
      "chunk:   0%|          | 2/1985 [30:37<506:02:38, 918.69s/it, now=None]\u001b[A\n",
      "\u001b[A                                                                   \n",
      "chunk:   0%|          | 2/1985 [30:37<506:02:41, 918.69s/it, now=None]\u001b[A\n",
      "\u001b[A                                                                   \n",
      "chunk:   0%|          | 2/1985 [30:37<506:02:45, 918.69s/it, now=None]\u001b[A"
     ]
    },
    {
     "name": "stdout",
     "output_type": "stream",
     "text": [
      "Moviepy - Done !\n",
      "Moviepy - video ready C:\\Users\\Abhishek Maurya\\Desktop\\strt\\trim\\clip_15.mp4\n",
      "Moviepy - Building video C:\\Users\\Abhishek Maurya\\Desktop\\strt\\trim\\clip_16.mp4.\n",
      "MoviePy - Writing audio in clip_16TEMP_MPY_wvf_snd.mp3\n"
     ]
    },
    {
     "name": "stderr",
     "output_type": "stream",
     "text": [
      "                                                                      \n",
      "\u001b[A                                                                   \n",
      "chunk:   0%|          | 2/1985 [30:39<506:34:34, 919.65s/it, now=None]\u001b[A\n",
      "\u001b[A                                                                   \n",
      "chunk:   0%|          | 2/1985 [30:39<506:34:44, 919.66s/it, now=None]\u001b[A"
     ]
    },
    {
     "name": "stdout",
     "output_type": "stream",
     "text": [
      "MoviePy - Done.\n",
      "Moviepy - Writing video C:\\Users\\Abhishek Maurya\\Desktop\\strt\\trim\\clip_16.mp4\n",
      "\n"
     ]
    },
    {
     "name": "stderr",
     "output_type": "stream",
     "text": [
      "                                                                \n",
      "\u001b[A                                                                   \n",
      "chunk:   0%|          | 2/1985 [31:34<521:47:55, 947.29s/it, now=None]\u001b[A\n",
      "\u001b[A                                                                   \n",
      "chunk:   0%|          | 2/1985 [31:34<521:48:03, 947.29s/it, now=None]\u001b[A\n",
      "\u001b[A                                                                   \n",
      "chunk:   0%|          | 2/1985 [31:34<521:48:07, 947.30s/it, now=None]\u001b[A\n",
      "\u001b[A                                                                   \n",
      "chunk:   0%|          | 2/1985 [31:34<521:48:12, 947.30s/it, now=None]\u001b[A"
     ]
    },
    {
     "name": "stdout",
     "output_type": "stream",
     "text": [
      "Moviepy - Done !\n",
      "Moviepy - video ready C:\\Users\\Abhishek Maurya\\Desktop\\strt\\trim\\clip_16.mp4\n",
      "Moviepy - Building video C:\\Users\\Abhishek Maurya\\Desktop\\strt\\trim\\clip_17.mp4.\n",
      "MoviePy - Writing audio in clip_17TEMP_MPY_wvf_snd.mp3\n"
     ]
    },
    {
     "name": "stderr",
     "output_type": "stream",
     "text": [
      "                                                                     \n",
      "\u001b[A                                                                   \n",
      "chunk:   0%|          | 2/1985 [31:37<522:36:32, 948.76s/it, now=None]\u001b[A\n",
      "\u001b[A                                                                   \n",
      "chunk:   0%|          | 2/1985 [31:37<522:36:39, 948.76s/it, now=None]\u001b[A"
     ]
    },
    {
     "name": "stdout",
     "output_type": "stream",
     "text": [
      "MoviePy - Done.\n",
      "Moviepy - Writing video C:\\Users\\Abhishek Maurya\\Desktop\\strt\\trim\\clip_17.mp4\n",
      "\n"
     ]
    },
    {
     "name": "stderr",
     "output_type": "stream",
     "text": [
      "                                                                \n",
      "\u001b[A                                                                   \n",
      "chunk:   0%|          | 2/1985 [32:36<538:54:53, 978.36s/it, now=None]\u001b[A\n",
      "\u001b[A                                                                   \n",
      "chunk:   0%|          | 2/1985 [32:36<538:55:01, 978.37s/it, now=None]\u001b[A\n",
      "\u001b[A                                                                   \n",
      "chunk:   0%|          | 2/1985 [32:36<538:55:05, 978.37s/it, now=None]\u001b[A\n",
      "\u001b[A                                                                   \n",
      "chunk:   0%|          | 2/1985 [32:36<538:55:09, 978.37s/it, now=None]\u001b[A"
     ]
    },
    {
     "name": "stdout",
     "output_type": "stream",
     "text": [
      "Moviepy - Done !\n",
      "Moviepy - video ready C:\\Users\\Abhishek Maurya\\Desktop\\strt\\trim\\clip_17.mp4\n",
      "Moviepy - Building video C:\\Users\\Abhishek Maurya\\Desktop\\strt\\trim\\clip_18.mp4.\n",
      "MoviePy - Writing audio in clip_18TEMP_MPY_wvf_snd.mp3\n"
     ]
    },
    {
     "name": "stderr",
     "output_type": "stream",
     "text": [
      "                                                                     \n",
      "\u001b[A                                                                   \n",
      "chunk:   0%|          | 2/1985 [32:39<539:48:52, 980.00s/it, now=None]\u001b[A\n",
      "\u001b[A                                                                   \n",
      "chunk:   0%|          | 2/1985 [32:39<539:48:56, 980.00s/it, now=None]\u001b[A"
     ]
    },
    {
     "name": "stdout",
     "output_type": "stream",
     "text": [
      "MoviePy - Done.\n",
      "Moviepy - Writing video C:\\Users\\Abhishek Maurya\\Desktop\\strt\\trim\\clip_18.mp4\n",
      "\n"
     ]
    },
    {
     "name": "stderr",
     "output_type": "stream",
     "text": [
      "                                                                \n",
      "\u001b[A                                                                   \n",
      "chunk:   0%|          | 2/1985 [33:36<555:26:55, 1008.38s/it, now=None]\u001b[A\n",
      "\u001b[A                                                                    \n",
      "chunk:   0%|          | 2/1985 [33:36<555:27:04, 1008.38s/it, now=None]\u001b[A\n",
      "\u001b[A                                                                    \n",
      "chunk:   0%|          | 2/1985 [33:36<555:27:09, 1008.39s/it, now=None]\u001b[A\n",
      "\u001b[A                                                                    \n",
      "chunk:   0%|          | 2/1985 [33:36<555:27:13, 1008.39s/it, now=None]\u001b[A"
     ]
    },
    {
     "name": "stdout",
     "output_type": "stream",
     "text": [
      "Moviepy - Done !\n",
      "Moviepy - video ready C:\\Users\\Abhishek Maurya\\Desktop\\strt\\trim\\clip_18.mp4\n",
      "Moviepy - Building video C:\\Users\\Abhishek Maurya\\Desktop\\strt\\trim\\clip_19.mp4.\n",
      "MoviePy - Writing audio in clip_19TEMP_MPY_wvf_snd.mp3\n"
     ]
    },
    {
     "name": "stderr",
     "output_type": "stream",
     "text": [
      "                                                                     \n",
      "\u001b[A                                                                    \n",
      "chunk:   0%|          | 2/1985 [33:40<556:22:25, 1010.06s/it, now=None]\u001b[A\n",
      "\u001b[A                                                                    \n",
      "chunk:   0%|          | 2/1985 [33:40<556:22:28, 1010.06s/it, now=None]\u001b[A"
     ]
    },
    {
     "name": "stdout",
     "output_type": "stream",
     "text": [
      "MoviePy - Done.\n",
      "Moviepy - Writing video C:\\Users\\Abhishek Maurya\\Desktop\\strt\\trim\\clip_19.mp4\n",
      "\n"
     ]
    },
    {
     "name": "stderr",
     "output_type": "stream",
     "text": [
      "                                                                \n",
      "\u001b[A                                                                    \n",
      "chunk:   0%|          | 2/1985 [34:26<569:07:14, 1033.20s/it, now=None]\u001b[A\n",
      "\u001b[A                                                                    \n",
      "chunk:   0%|          | 2/1985 [34:26<569:07:18, 1033.20s/it, now=None]\u001b[A\n",
      "\u001b[A                                                                    \n",
      "chunk:   0%|          | 2/1985 [34:26<569:07:22, 1033.20s/it, now=None]\u001b[A\n",
      "\u001b[A                                                                    \n",
      "chunk:   0%|          | 2/1985 [34:26<569:07:25, 1033.20s/it, now=None]\u001b[A"
     ]
    },
    {
     "name": "stdout",
     "output_type": "stream",
     "text": [
      "Moviepy - Done !\n",
      "Moviepy - video ready C:\\Users\\Abhishek Maurya\\Desktop\\strt\\trim\\clip_19.mp4\n",
      "Moviepy - Building video C:\\Users\\Abhishek Maurya\\Desktop\\strt\\trim\\clip_20.mp4.\n",
      "MoviePy - Writing audio in clip_20TEMP_MPY_wvf_snd.mp3\n"
     ]
    },
    {
     "name": "stderr",
     "output_type": "stream",
     "text": [
      "                                                                     \n",
      "\u001b[A                                                                    \n",
      "chunk:   0%|          | 2/1985 [34:29<570:02:22, 1034.87s/it, now=None]\u001b[A\n",
      "\u001b[A                                                                    \n",
      "chunk:   0%|          | 2/1985 [34:29<570:02:26, 1034.87s/it, now=None]\u001b[A"
     ]
    },
    {
     "name": "stdout",
     "output_type": "stream",
     "text": [
      "MoviePy - Done.\n",
      "Moviepy - Writing video C:\\Users\\Abhishek Maurya\\Desktop\\strt\\trim\\clip_20.mp4\n",
      "\n"
     ]
    },
    {
     "name": "stderr",
     "output_type": "stream",
     "text": [
      "                                                                \n",
      "\u001b[A                                                                    \n",
      "chunk:   0%|          | 2/1985 [35:09<581:05:04, 1054.92s/it, now=None]\u001b[A\n",
      "\u001b[A                                                                    \n",
      "chunk:   0%|          | 2/1985 [35:09<581:05:04, 1054.92s/it, now=None]\u001b[A\n",
      "\u001b[A                                                                    \n",
      "chunk:   0%|          | 2/1985 [35:09<581:05:04, 1054.92s/it, now=None]\u001b[A\n",
      "\u001b[A                                                                    \n",
      "chunk:   0%|          | 2/1985 [35:09<581:05:04, 1054.92s/it, now=None]\u001b[A"
     ]
    },
    {
     "name": "stdout",
     "output_type": "stream",
     "text": [
      "Moviepy - Done !\n",
      "Moviepy - video ready C:\\Users\\Abhishek Maurya\\Desktop\\strt\\trim\\clip_20.mp4\n",
      "Moviepy - Building video C:\\Users\\Abhishek Maurya\\Desktop\\strt\\trim\\clip_21.mp4.\n",
      "MoviePy - Writing audio in clip_21TEMP_MPY_wvf_snd.mp3\n"
     ]
    },
    {
     "name": "stderr",
     "output_type": "stream",
     "text": [
      "                                                                      \n",
      "\u001b[A                                                                    \n",
      "chunk:   0%|          | 2/1985 [35:11<581:40:07, 1055.98s/it, now=None]\u001b[A\n",
      "\u001b[A                                                                    \n",
      "chunk:   0%|          | 2/1985 [35:11<581:40:09, 1055.98s/it, now=None]\u001b[A"
     ]
    },
    {
     "name": "stdout",
     "output_type": "stream",
     "text": [
      "MoviePy - Done.\n",
      "Moviepy - Writing video C:\\Users\\Abhishek Maurya\\Desktop\\strt\\trim\\clip_21.mp4\n",
      "\n"
     ]
    },
    {
     "name": "stderr",
     "output_type": "stream",
     "text": [
      "                                                                \n",
      "\u001b[A                                                                    \n",
      "chunk:   0%|          | 2/1985 [35:56<593:57:34, 1078.29s/it, now=None]\u001b[A\n",
      "\u001b[A                                                                    \n",
      "chunk:   0%|          | 2/1985 [35:56<593:57:50, 1078.30s/it, now=None]\u001b[A\n",
      "\u001b[A                                                                    \n",
      "chunk:   0%|          | 2/1985 [35:56<593:57:50, 1078.30s/it, now=None]\u001b[A\n",
      "\u001b[A                                                                    \n",
      "chunk:   0%|          | 2/1985 [35:56<593:57:50, 1078.30s/it, now=None]\u001b[A"
     ]
    },
    {
     "name": "stdout",
     "output_type": "stream",
     "text": [
      "Moviepy - Done !\n",
      "Moviepy - video ready C:\\Users\\Abhishek Maurya\\Desktop\\strt\\trim\\clip_21.mp4\n",
      "Moviepy - Building video C:\\Users\\Abhishek Maurya\\Desktop\\strt\\trim\\clip_22.mp4.\n",
      "MoviePy - Writing audio in clip_22TEMP_MPY_wvf_snd.mp3\n"
     ]
    },
    {
     "name": "stderr",
     "output_type": "stream",
     "text": [
      "                                                                      \n",
      "\u001b[A                                                                    \n",
      "chunk:   0%|          | 2/1985 [35:58<594:29:09, 1079.25s/it, now=None]\u001b[A\n",
      "\u001b[A                                                                    \n",
      "chunk:   0%|          | 2/1985 [35:58<594:29:18, 1079.25s/it, now=None]\u001b[A"
     ]
    },
    {
     "name": "stdout",
     "output_type": "stream",
     "text": [
      "MoviePy - Done.\n",
      "Moviepy - Writing video C:\\Users\\Abhishek Maurya\\Desktop\\strt\\trim\\clip_22.mp4\n",
      "\n"
     ]
    },
    {
     "name": "stderr",
     "output_type": "stream",
     "text": [
      "                                                                \n",
      "\u001b[A                                                                    \n",
      "chunk:   0%|          | 2/1985 [36:45<607:19:03, 1102.54s/it, now=None]\u001b[A\n",
      "\u001b[A                                                                    \n",
      "chunk:   0%|          | 2/1985 [36:45<607:19:17, 1102.55s/it, now=None]\u001b[A\n",
      "\u001b[A                                                                    \n",
      "chunk:   0%|          | 2/1985 [36:45<607:19:19, 1102.55s/it, now=None]\u001b[A\n",
      "\u001b[A                                                                    \n",
      "chunk:   0%|          | 2/1985 [36:45<607:19:19, 1102.55s/it, now=None]\u001b[A"
     ]
    },
    {
     "name": "stdout",
     "output_type": "stream",
     "text": [
      "Moviepy - Done !\n",
      "Moviepy - video ready C:\\Users\\Abhishek Maurya\\Desktop\\strt\\trim\\clip_22.mp4\n",
      "Moviepy - Building video C:\\Users\\Abhishek Maurya\\Desktop\\strt\\trim\\clip_23.mp4.\n",
      "MoviePy - Writing audio in clip_23TEMP_MPY_wvf_snd.mp3\n"
     ]
    },
    {
     "name": "stderr",
     "output_type": "stream",
     "text": [
      "                                                                      \n",
      "\u001b[A                                                                    \n",
      "chunk:   0%|          | 2/1985 [36:46<607:50:35, 1103.50s/it, now=None]\u001b[A\n",
      "\u001b[A                                                                    \n",
      "chunk:   0%|          | 2/1985 [36:47<607:50:51, 1103.51s/it, now=None]\u001b[A"
     ]
    },
    {
     "name": "stdout",
     "output_type": "stream",
     "text": [
      "MoviePy - Done.\n",
      "Moviepy - Writing video C:\\Users\\Abhishek Maurya\\Desktop\\strt\\trim\\clip_23.mp4\n",
      "\n"
     ]
    },
    {
     "name": "stderr",
     "output_type": "stream",
     "text": [
      "                                                                \n",
      "\u001b[A                                                                    \n",
      "chunk:   0%|          | 2/1985 [37:25<618:24:00, 1122.66s/it, now=None]\u001b[A\n",
      "\u001b[A                                                                    \n",
      "chunk:   0%|          | 2/1985 [37:25<618:24:07, 1122.67s/it, now=None]\u001b[A\n",
      "\u001b[A                                                                    \n",
      "chunk:   0%|          | 2/1985 [37:25<618:24:12, 1122.67s/it, now=None]\u001b[A\n",
      "\u001b[A                                                                    \n",
      "chunk:   0%|          | 2/1985 [37:25<618:24:15, 1122.67s/it, now=None]\u001b[A"
     ]
    },
    {
     "name": "stdout",
     "output_type": "stream",
     "text": [
      "Moviepy - Done !\n",
      "Moviepy - video ready C:\\Users\\Abhishek Maurya\\Desktop\\strt\\trim\\clip_23.mp4\n",
      "Moviepy - Building video C:\\Users\\Abhishek Maurya\\Desktop\\strt\\trim\\clip_24.mp4.\n",
      "MoviePy - Writing audio in clip_24TEMP_MPY_wvf_snd.mp3\n"
     ]
    },
    {
     "name": "stderr",
     "output_type": "stream",
     "text": [
      "                                                                      \n",
      "\u001b[A                                                                    \n",
      "chunk:   0%|          | 2/1985 [37:27<618:59:06, 1123.72s/it, now=None]\u001b[A\n",
      "\u001b[A                                                                    \n",
      "chunk:   0%|          | 2/1985 [37:27<618:59:09, 1123.73s/it, now=None]\u001b[A"
     ]
    },
    {
     "name": "stdout",
     "output_type": "stream",
     "text": [
      "MoviePy - Done.\n",
      "Moviepy - Writing video C:\\Users\\Abhishek Maurya\\Desktop\\strt\\trim\\clip_24.mp4\n",
      "\n"
     ]
    },
    {
     "name": "stderr",
     "output_type": "stream",
     "text": [
      "                                                                \n",
      "\u001b[A                                                                    \n",
      "chunk:   0%|          | 2/1985 [38:16<632:25:48, 1148.13s/it, now=None]\u001b[A\n",
      "\u001b[A                                                                    \n",
      "chunk:   0%|          | 2/1985 [38:16<632:25:48, 1148.13s/it, now=None]\u001b[A\n",
      "\u001b[A                                                                    \n",
      "chunk:   0%|          | 2/1985 [38:16<632:26:03, 1148.14s/it, now=None]\u001b[A\n",
      "\u001b[A                                                                    \n",
      "chunk:   0%|          | 2/1985 [38:16<632:26:07, 1148.14s/it, now=None]\u001b[A"
     ]
    },
    {
     "name": "stdout",
     "output_type": "stream",
     "text": [
      "Moviepy - Done !\n",
      "Moviepy - video ready C:\\Users\\Abhishek Maurya\\Desktop\\strt\\trim\\clip_24.mp4\n",
      "Moviepy - Building video C:\\Users\\Abhishek Maurya\\Desktop\\strt\\trim\\clip_25.mp4.\n",
      "MoviePy - Writing audio in clip_25TEMP_MPY_wvf_snd.mp3\n"
     ]
    },
    {
     "name": "stderr",
     "output_type": "stream",
     "text": [
      "                                                                      \n",
      "\u001b[A                                                                    \n",
      "chunk:   0%|          | 2/1985 [38:18<633:01:02, 1149.20s/it, now=None]\u001b[A\n",
      "\u001b[A                                                                    \n",
      "chunk:   0%|          | 2/1985 [38:18<633:01:11, 1149.20s/it, now=None]\u001b[A"
     ]
    },
    {
     "name": "stdout",
     "output_type": "stream",
     "text": [
      "MoviePy - Done.\n",
      "Moviepy - Writing video C:\\Users\\Abhishek Maurya\\Desktop\\strt\\trim\\clip_25.mp4\n",
      "\n"
     ]
    },
    {
     "name": "stderr",
     "output_type": "stream",
     "text": [
      "                                                                \n",
      "\u001b[A                                                                    \n",
      "chunk:   0%|          | 2/1985 [39:11<647:31:43, 1175.54s/it, now=None]\u001b[A\n",
      "\u001b[A                                                                    \n",
      "chunk:   0%|          | 2/1985 [39:11<647:31:50, 1175.55s/it, now=None]\u001b[A\n",
      "\u001b[A                                                                    \n",
      "chunk:   0%|          | 2/1985 [39:11<647:31:58, 1175.55s/it, now=None]\u001b[A\n",
      "\u001b[A                                                                    \n",
      "chunk:   0%|          | 2/1985 [39:11<647:32:03, 1175.55s/it, now=None]\u001b[A"
     ]
    },
    {
     "name": "stdout",
     "output_type": "stream",
     "text": [
      "Moviepy - Done !\n",
      "Moviepy - video ready C:\\Users\\Abhishek Maurya\\Desktop\\strt\\trim\\clip_25.mp4\n",
      "Moviepy - Building video C:\\Users\\Abhishek Maurya\\Desktop\\strt\\trim\\clip_26.mp4.\n",
      "MoviePy - Writing audio in clip_26TEMP_MPY_wvf_snd.mp3\n"
     ]
    },
    {
     "name": "stderr",
     "output_type": "stream",
     "text": [
      "                                                                      \n",
      "\u001b[A                                                                    \n",
      "chunk:   0%|          | 2/1985 [39:13<648:06:16, 1176.59s/it, now=None]\u001b[A\n",
      "\u001b[A                                                                    \n",
      "chunk:   0%|          | 2/1985 [39:13<648:06:30, 1176.60s/it, now=None]\u001b[A"
     ]
    },
    {
     "name": "stdout",
     "output_type": "stream",
     "text": [
      "MoviePy - Done.\n",
      "Moviepy - Writing video C:\\Users\\Abhishek Maurya\\Desktop\\strt\\trim\\clip_26.mp4\n",
      "\n"
     ]
    },
    {
     "name": "stderr",
     "output_type": "stream",
     "text": [
      "                                                                \n",
      "\u001b[A                                                                    \n",
      "chunk:   0%|          | 2/1985 [40:08<663:12:22, 1204.01s/it, now=None]\u001b[A\n",
      "\u001b[A                                                                    \n",
      "chunk:   0%|          | 2/1985 [40:08<663:12:28, 1204.01s/it, now=None]\u001b[A\n",
      "\u001b[A                                                                    \n",
      "chunk:   0%|          | 2/1985 [40:08<663:12:34, 1204.01s/it, now=None]\u001b[A\n",
      "\u001b[A                                                                    \n",
      "chunk:   0%|          | 2/1985 [40:08<663:12:39, 1204.01s/it, now=None]\u001b[A"
     ]
    },
    {
     "name": "stdout",
     "output_type": "stream",
     "text": [
      "Moviepy - Done !\n",
      "Moviepy - video ready C:\\Users\\Abhishek Maurya\\Desktop\\strt\\trim\\clip_26.mp4\n",
      "Moviepy - Building video C:\\Users\\Abhishek Maurya\\Desktop\\strt\\trim\\clip_27.mp4.\n",
      "MoviePy - Writing audio in clip_27TEMP_MPY_wvf_snd.mp3\n"
     ]
    },
    {
     "name": "stderr",
     "output_type": "stream",
     "text": [
      "                                                                      \n",
      "\u001b[A                                                                    \n",
      "chunk:   0%|          | 2/1985 [40:10<663:54:21, 1205.28s/it, now=None]\u001b[A\n",
      "\u001b[A                                                                    \n",
      "chunk:   0%|          | 2/1985 [40:10<663:54:24, 1205.28s/it, now=None]\u001b[A"
     ]
    },
    {
     "name": "stdout",
     "output_type": "stream",
     "text": [
      "MoviePy - Done.\n",
      "Moviepy - Writing video C:\\Users\\Abhishek Maurya\\Desktop\\strt\\trim\\clip_27.mp4\n",
      "\n"
     ]
    },
    {
     "name": "stderr",
     "output_type": "stream",
     "text": [
      "                                                                \n",
      "\u001b[A                                                                    \n",
      "chunk:   0%|          | 2/1985 [40:50<674:59:36, 1225.40s/it, now=None]\u001b[A\n",
      "\u001b[A                                                                    \n",
      "chunk:   0%|          | 2/1985 [40:50<674:59:54, 1225.41s/it, now=None]\u001b[A\n",
      "\u001b[A                                                                    \n",
      "chunk:   0%|          | 2/1985 [40:50<674:59:57, 1225.41s/it, now=None]\u001b[A\n",
      "\u001b[A                                                                    \n",
      "chunk:   0%|          | 2/1985 [40:50<675:00:01, 1225.42s/it, now=None]\u001b[A"
     ]
    },
    {
     "name": "stdout",
     "output_type": "stream",
     "text": [
      "Moviepy - Done !\n",
      "Moviepy - video ready C:\\Users\\Abhishek Maurya\\Desktop\\strt\\trim\\clip_27.mp4\n",
      "Moviepy - Building video C:\\Users\\Abhishek Maurya\\Desktop\\strt\\trim\\clip_28.mp4.\n",
      "MoviePy - Writing audio in clip_28TEMP_MPY_wvf_snd.mp3\n"
     ]
    },
    {
     "name": "stderr",
     "output_type": "stream",
     "text": [
      "                                                                     \n",
      "\u001b[A                                                                    \n",
      "chunk:   0%|          | 2/1985 [40:53<675:40:40, 1226.65s/it, now=None]\u001b[A\n",
      "\u001b[A                                                                    \n",
      "chunk:   0%|          | 2/1985 [40:53<675:40:43, 1226.65s/it, now=None]\u001b[A"
     ]
    },
    {
     "name": "stdout",
     "output_type": "stream",
     "text": [
      "MoviePy - Done.\n",
      "Moviepy - Writing video C:\\Users\\Abhishek Maurya\\Desktop\\strt\\trim\\clip_28.mp4\n",
      "\n"
     ]
    },
    {
     "name": "stderr",
     "output_type": "stream",
     "text": [
      "                                                                \n",
      "\u001b[A                                                                    \n",
      "chunk:   0%|          | 2/1985 [41:37<687:51:20, 1248.75s/it, now=None]\u001b[A\n",
      "\u001b[A                                                                    \n",
      "chunk:   0%|          | 2/1985 [41:37<687:51:20, 1248.75s/it, now=None]\u001b[A\n",
      "\u001b[A                                                                    \n",
      "chunk:   0%|          | 2/1985 [41:37<687:51:20, 1248.75s/it, now=None]\u001b[A\n",
      "\u001b[A                                                                    \n",
      "chunk:   0%|          | 2/1985 [41:37<687:51:20, 1248.75s/it, now=None]\u001b[A"
     ]
    },
    {
     "name": "stdout",
     "output_type": "stream",
     "text": [
      "Moviepy - Done !\n",
      "Moviepy - video ready C:\\Users\\Abhishek Maurya\\Desktop\\strt\\trim\\clip_28.mp4\n",
      "Moviepy - Building video C:\\Users\\Abhishek Maurya\\Desktop\\strt\\trim\\clip_29.mp4.\n",
      "MoviePy - Writing audio in clip_29TEMP_MPY_wvf_snd.mp3\n"
     ]
    },
    {
     "name": "stderr",
     "output_type": "stream",
     "text": [
      "                                                                     \n",
      "\u001b[A                                                                    \n",
      "chunk:   0%|          | 2/1985 [41:39<688:30:10, 1249.93s/it, now=None]\u001b[A\n",
      "\u001b[A                                                                    \n",
      "chunk:   0%|          | 2/1985 [41:39<688:30:10, 1249.93s/it, now=None]\u001b[A"
     ]
    },
    {
     "name": "stdout",
     "output_type": "stream",
     "text": [
      "MoviePy - Done.\n",
      "Moviepy - Writing video C:\\Users\\Abhishek Maurya\\Desktop\\strt\\trim\\clip_29.mp4\n",
      "\n"
     ]
    },
    {
     "name": "stderr",
     "output_type": "stream",
     "text": [
      "                                                                \n",
      "\u001b[A                                                                    \n",
      "chunk:   0%|          | 2/1985 [42:17<698:56:10, 1268.87s/it, now=None]\u001b[A\n",
      "\u001b[A                                                                    \n",
      "chunk:   0%|          | 2/1985 [42:17<698:56:29, 1268.88s/it, now=None]\u001b[A\n",
      "\u001b[A                                                                    \n",
      "chunk:   0%|          | 2/1985 [42:17<698:56:32, 1268.88s/it, now=None]\u001b[A\n",
      "\u001b[A                                                                    \n",
      "chunk:   0%|          | 2/1985 [42:17<698:56:33, 1268.88s/it, now=None]\u001b[A"
     ]
    },
    {
     "name": "stdout",
     "output_type": "stream",
     "text": [
      "Moviepy - Done !\n",
      "Moviepy - video ready C:\\Users\\Abhishek Maurya\\Desktop\\strt\\trim\\clip_29.mp4\n",
      "Moviepy - Building video C:\\Users\\Abhishek Maurya\\Desktop\\strt\\trim\\clip_30.mp4.\n",
      "MoviePy - Writing audio in clip_30TEMP_MPY_wvf_snd.mp3\n"
     ]
    },
    {
     "name": "stderr",
     "output_type": "stream",
     "text": [
      "                                                                      \n",
      "\u001b[A                                                                    \n",
      "chunk:   0%|          | 2/1985 [42:19<699:29:48, 1269.89s/it, now=None]\u001b[A\n",
      "\u001b[A                                                                    \n",
      "chunk:   0%|          | 2/1985 [42:19<699:29:55, 1269.89s/it, now=None]\u001b[A"
     ]
    },
    {
     "name": "stdout",
     "output_type": "stream",
     "text": [
      "MoviePy - Done.\n",
      "Moviepy - Writing video C:\\Users\\Abhishek Maurya\\Desktop\\strt\\trim\\clip_30.mp4\n",
      "\n"
     ]
    },
    {
     "name": "stderr",
     "output_type": "stream",
     "text": [
      "                                                                \n",
      "\u001b[A                                                                    \n",
      "chunk:   0%|          | 2/1985 [43:03<711:38:16, 1291.93s/it, now=None]\u001b[A\n",
      "\u001b[A                                                                    \n",
      "chunk:   0%|          | 2/1985 [43:03<711:38:20, 1291.93s/it, now=None]\u001b[A\n",
      "\u001b[A                                                                    \n",
      "chunk:   0%|          | 2/1985 [43:03<711:38:24, 1291.93s/it, now=None]\u001b[A\n",
      "\u001b[A                                                                    \n",
      "chunk:   0%|          | 2/1985 [43:03<711:38:28, 1291.94s/it, now=None]\u001b[A"
     ]
    },
    {
     "name": "stdout",
     "output_type": "stream",
     "text": [
      "Moviepy - Done !\n",
      "Moviepy - video ready C:\\Users\\Abhishek Maurya\\Desktop\\strt\\trim\\clip_30.mp4\n",
      "Moviepy - Building video C:\\Users\\Abhishek Maurya\\Desktop\\strt\\trim\\clip_31.mp4.\n",
      "MoviePy - Writing audio in clip_31TEMP_MPY_wvf_snd.mp3\n"
     ]
    },
    {
     "name": "stderr",
     "output_type": "stream",
     "text": [
      "                                                                      \n",
      "\u001b[A                                                                    \n",
      "chunk:   0%|          | 2/1985 [43:06<712:14:45, 1293.03s/it, now=None]\u001b[A\n",
      "\u001b[A                                                                    \n",
      "chunk:   0%|          | 2/1985 [43:06<712:14:51, 1293.04s/it, now=None]\u001b[A"
     ]
    },
    {
     "name": "stdout",
     "output_type": "stream",
     "text": [
      "MoviePy - Done.\n",
      "Moviepy - Writing video C:\\Users\\Abhishek Maurya\\Desktop\\strt\\trim\\clip_31.mp4\n",
      "\n"
     ]
    },
    {
     "name": "stderr",
     "output_type": "stream",
     "text": [
      "                                                                \n",
      "\u001b[A                                                                    \n",
      "chunk:   0%|          | 2/1985 [43:57<726:21:52, 1318.66s/it, now=None]\u001b[A\n",
      "\u001b[A                                                                    \n",
      "chunk:   0%|          | 2/1985 [43:57<726:22:09, 1318.67s/it, now=None]\u001b[A\n",
      "\u001b[A                                                                    \n",
      "chunk:   0%|          | 2/1985 [43:57<726:22:12, 1318.67s/it, now=None]\u001b[A\n",
      "\u001b[A                                                                    \n",
      "chunk:   0%|          | 2/1985 [43:57<726:22:15, 1318.68s/it, now=None]\u001b[A"
     ]
    },
    {
     "name": "stdout",
     "output_type": "stream",
     "text": [
      "Moviepy - Done !\n",
      "Moviepy - video ready C:\\Users\\Abhishek Maurya\\Desktop\\strt\\trim\\clip_31.mp4\n",
      "Moviepy - Building video C:\\Users\\Abhishek Maurya\\Desktop\\strt\\trim\\clip_32.mp4.\n",
      "MoviePy - Writing audio in clip_32TEMP_MPY_wvf_snd.mp3\n"
     ]
    },
    {
     "name": "stderr",
     "output_type": "stream",
     "text": [
      "                                                                      \n",
      "\u001b[A                                                                    \n",
      "chunk:   0%|          | 2/1985 [43:59<726:55:13, 1319.67s/it, now=None]\u001b[A\n",
      "\u001b[A                                                                    \n",
      "chunk:   0%|          | 2/1985 [43:59<726:55:13, 1319.67s/it, now=None]\u001b[A"
     ]
    },
    {
     "name": "stdout",
     "output_type": "stream",
     "text": [
      "MoviePy - Done.\n",
      "Moviepy - Writing video C:\\Users\\Abhishek Maurya\\Desktop\\strt\\trim\\clip_32.mp4\n",
      "\n"
     ]
    },
    {
     "name": "stderr",
     "output_type": "stream",
     "text": [
      "                                                                \n",
      "\u001b[A                                                                    \n",
      "chunk:   0%|          | 2/1985 [44:47<740:18:42, 1343.99s/it, now=None]\u001b[A\n",
      "\u001b[A                                                                    \n",
      "chunk:   0%|          | 2/1985 [44:47<740:18:42, 1343.99s/it, now=None]\u001b[A\n",
      "\u001b[A                                                                    \n",
      "chunk:   0%|          | 2/1985 [44:47<740:18:42, 1343.99s/it, now=None]\u001b[A\n",
      "\u001b[A                                                                    \n",
      "chunk:   0%|          | 2/1985 [44:47<740:18:58, 1343.99s/it, now=None]\u001b[A"
     ]
    },
    {
     "name": "stdout",
     "output_type": "stream",
     "text": [
      "Moviepy - Done !\n",
      "Moviepy - video ready C:\\Users\\Abhishek Maurya\\Desktop\\strt\\trim\\clip_32.mp4\n",
      "Moviepy - Building video C:\\Users\\Abhishek Maurya\\Desktop\\strt\\trim\\clip_33.mp4.\n",
      "MoviePy - Writing audio in clip_33TEMP_MPY_wvf_snd.mp3\n"
     ]
    },
    {
     "name": "stderr",
     "output_type": "stream",
     "text": [
      "                                                                      \n",
      "\u001b[A                                                                    \n",
      "chunk:   0%|          | 2/1985 [44:50<740:53:37, 1345.04s/it, now=None]\u001b[A\n",
      "\u001b[A                                                                    \n",
      "chunk:   0%|          | 2/1985 [44:50<740:53:46, 1345.05s/it, now=None]\u001b[A"
     ]
    },
    {
     "name": "stdout",
     "output_type": "stream",
     "text": [
      "MoviePy - Done.\n",
      "Moviepy - Writing video C:\\Users\\Abhishek Maurya\\Desktop\\strt\\trim\\clip_33.mp4\n",
      "\n"
     ]
    },
    {
     "name": "stderr",
     "output_type": "stream",
     "text": [
      "                                                                \n",
      "\u001b[A                                                                    \n",
      "chunk:   0%|          | 2/1985 [45:33<752:55:29, 1366.88s/it, now=None]\u001b[A\n",
      "\u001b[A                                                                    \n",
      "chunk:   0%|          | 2/1985 [45:33<752:55:32, 1366.88s/it, now=None]\u001b[A\n",
      "\u001b[A                                                                    \n",
      "chunk:   0%|          | 2/1985 [45:33<752:55:38, 1366.89s/it, now=None]\u001b[A\n",
      "\u001b[A                                                                    \n",
      "chunk:   0%|          | 2/1985 [45:33<752:55:42, 1366.89s/it, now=None]\u001b[A"
     ]
    },
    {
     "name": "stdout",
     "output_type": "stream",
     "text": [
      "Moviepy - Done !\n",
      "Moviepy - video ready C:\\Users\\Abhishek Maurya\\Desktop\\strt\\trim\\clip_33.mp4\n",
      "Moviepy - Building video C:\\Users\\Abhishek Maurya\\Desktop\\strt\\trim\\clip_34.mp4.\n",
      "MoviePy - Writing audio in clip_34TEMP_MPY_wvf_snd.mp3\n"
     ]
    },
    {
     "name": "stderr",
     "output_type": "stream",
     "text": [
      "                                                                      \n",
      "\u001b[A                                                                    \n",
      "chunk:   0%|          | 2/1985 [45:35<753:26:53, 1367.83s/it, now=None]\u001b[A\n",
      "\u001b[A                                                                    \n",
      "chunk:   0%|          | 2/1985 [45:35<753:26:57, 1367.84s/it, now=None]\u001b[A"
     ]
    },
    {
     "name": "stdout",
     "output_type": "stream",
     "text": [
      "MoviePy - Done.\n",
      "Moviepy - Writing video C:\\Users\\Abhishek Maurya\\Desktop\\strt\\trim\\clip_34.mp4\n",
      "\n"
     ]
    },
    {
     "name": "stderr",
     "output_type": "stream",
     "text": [
      "                                                                \n",
      "\u001b[A                                                                    \n",
      "chunk:   0%|          | 2/1985 [46:16<764:35:18, 1388.06s/it, now=None]\u001b[A\n",
      "\u001b[A                                                                    \n",
      "chunk:   0%|          | 2/1985 [46:16<764:35:18, 1388.06s/it, now=None]\u001b[A\n",
      "\u001b[A                                                                    \n",
      "chunk:   0%|          | 2/1985 [46:16<764:35:33, 1388.07s/it, now=None]\u001b[A\n",
      "\u001b[A                                                                    \n",
      "chunk:   0%|          | 2/1985 [46:16<764:35:33, 1388.07s/it, now=None]\u001b[A"
     ]
    },
    {
     "name": "stdout",
     "output_type": "stream",
     "text": [
      "Moviepy - Done !\n",
      "Moviepy - video ready C:\\Users\\Abhishek Maurya\\Desktop\\strt\\trim\\clip_34.mp4\n",
      "Moviepy - Building video C:\\Users\\Abhishek Maurya\\Desktop\\strt\\trim\\clip_35.mp4.\n",
      "MoviePy - Writing audio in clip_35TEMP_MPY_wvf_snd.mp3\n"
     ]
    },
    {
     "name": "stderr",
     "output_type": "stream",
     "text": [
      "                                                                      \n",
      "\u001b[A                                                                    \n",
      "chunk:   0%|          | 2/1985 [46:18<765:08:22, 1389.06s/it, now=None]\u001b[A\n",
      "\u001b[A                                                                    \n",
      "chunk:   0%|          | 2/1985 [46:18<765:08:37, 1389.07s/it, now=None]\u001b[A"
     ]
    },
    {
     "name": "stdout",
     "output_type": "stream",
     "text": [
      "MoviePy - Done.\n",
      "Moviepy - Writing video C:\\Users\\Abhishek Maurya\\Desktop\\strt\\trim\\clip_35.mp4\n",
      "\n"
     ]
    },
    {
     "name": "stderr",
     "output_type": "stream",
     "text": [
      "                                                                \n",
      "\u001b[A                                                                    \n",
      "chunk:   0%|          | 2/1985 [47:02<777:26:12, 1411.38s/it, now=None]\u001b[A\n",
      "\u001b[A                                                                    \n",
      "chunk:   0%|          | 2/1985 [47:02<777:26:28, 1411.39s/it, now=None]\u001b[A\n",
      "\u001b[A                                                                    \n",
      "chunk:   0%|          | 2/1985 [47:02<777:26:28, 1411.39s/it, now=None]\u001b[A\n",
      "\u001b[A                                                                    \n",
      "chunk:   0%|          | 2/1985 [47:02<777:26:28, 1411.39s/it, now=None]\u001b[A"
     ]
    },
    {
     "name": "stdout",
     "output_type": "stream",
     "text": [
      "Moviepy - Done !\n",
      "Moviepy - video ready C:\\Users\\Abhishek Maurya\\Desktop\\strt\\trim\\clip_35.mp4\n",
      "Moviepy - Building video C:\\Users\\Abhishek Maurya\\Desktop\\strt\\trim\\clip_36.mp4.\n",
      "MoviePy - Writing audio in clip_36TEMP_MPY_wvf_snd.mp3\n"
     ]
    },
    {
     "name": "stderr",
     "output_type": "stream",
     "text": [
      "                                                                      \n",
      "\u001b[A                                                                    \n",
      "chunk:   0%|          | 2/1985 [47:04<777:59:02, 1412.38s/it, now=None]\u001b[A\n",
      "\u001b[A                                                                    \n",
      "chunk:   0%|          | 2/1985 [47:04<777:59:02, 1412.38s/it, now=None]\u001b[A"
     ]
    },
    {
     "name": "stdout",
     "output_type": "stream",
     "text": [
      "MoviePy - Done.\n",
      "Moviepy - Writing video C:\\Users\\Abhishek Maurya\\Desktop\\strt\\trim\\clip_36.mp4\n",
      "\n"
     ]
    },
    {
     "name": "stderr",
     "output_type": "stream",
     "text": [
      "                                                                \n",
      "\u001b[A                                                                    \n",
      "chunk:   0%|          | 2/1985 [47:44<788:56:42, 1432.28s/it, now=None]\u001b[A\n",
      "\u001b[A                                                                    \n",
      "chunk:   0%|          | 2/1985 [47:44<788:56:42, 1432.28s/it, now=None]\u001b[A\n",
      "\u001b[A                                                                    \n",
      "chunk:   0%|          | 2/1985 [47:44<788:56:42, 1432.28s/it, now=None]\u001b[A\n",
      "\u001b[A                                                                    \n",
      "chunk:   0%|          | 2/1985 [47:44<788:56:42, 1432.28s/it, now=None]\u001b[A"
     ]
    },
    {
     "name": "stdout",
     "output_type": "stream",
     "text": [
      "Moviepy - Done !\n",
      "Moviepy - video ready C:\\Users\\Abhishek Maurya\\Desktop\\strt\\trim\\clip_36.mp4\n",
      "Moviepy - Building video C:\\Users\\Abhishek Maurya\\Desktop\\strt\\trim\\clip_37.mp4.\n",
      "MoviePy - Writing audio in clip_37TEMP_MPY_wvf_snd.mp3\n"
     ]
    },
    {
     "name": "stderr",
     "output_type": "stream",
     "text": [
      "                                                                     \n",
      "\u001b[A                                                                    \n",
      "chunk:   0%|          | 2/1985 [47:46<789:31:05, 1433.32s/it, now=None]\u001b[A\n",
      "\u001b[A                                                                    \n",
      "chunk:   0%|          | 2/1985 [47:46<789:31:05, 1433.32s/it, now=None]\u001b[A"
     ]
    },
    {
     "name": "stdout",
     "output_type": "stream",
     "text": [
      "MoviePy - Done.\n",
      "Moviepy - Writing video C:\\Users\\Abhishek Maurya\\Desktop\\strt\\trim\\clip_37.mp4\n",
      "\n"
     ]
    },
    {
     "name": "stderr",
     "output_type": "stream",
     "text": [
      "                                                                \n",
      "\u001b[A                                                                    \n",
      "chunk:   0%|          | 2/1985 [48:23<799:45:50, 1451.92s/it, now=None]\u001b[A\n",
      "\u001b[A                                                                    \n",
      "chunk:   0%|          | 2/1985 [48:23<799:45:50, 1451.92s/it, now=None]\u001b[A\n",
      "\u001b[A                                                                    \n",
      "chunk:   0%|          | 2/1985 [48:23<799:45:50, 1451.92s/it, now=None]\u001b[A\n",
      "\u001b[A                                                                    \n",
      "chunk:   0%|          | 2/1985 [48:23<799:45:50, 1451.92s/it, now=None]\u001b[A"
     ]
    },
    {
     "name": "stdout",
     "output_type": "stream",
     "text": [
      "Moviepy - Done !\n",
      "Moviepy - video ready C:\\Users\\Abhishek Maurya\\Desktop\\strt\\trim\\clip_37.mp4\n",
      "Moviepy - Building video C:\\Users\\Abhishek Maurya\\Desktop\\strt\\trim\\clip_38.mp4.\n",
      "MoviePy - Writing audio in clip_38TEMP_MPY_wvf_snd.mp3\n"
     ]
    },
    {
     "name": "stderr",
     "output_type": "stream",
     "text": [
      "                                                                      \n",
      "\u001b[A                                                                    \n",
      "chunk:   0%|          | 2/1985 [48:25<800:19:07, 1452.92s/it, now=None]\u001b[A\n",
      "\u001b[A                                                                    \n",
      "chunk:   0%|          | 2/1985 [48:25<800:19:15, 1452.93s/it, now=None]\u001b[A"
     ]
    },
    {
     "name": "stdout",
     "output_type": "stream",
     "text": [
      "MoviePy - Done.\n",
      "Moviepy - Writing video C:\\Users\\Abhishek Maurya\\Desktop\\strt\\trim\\clip_38.mp4\n",
      "\n"
     ]
    },
    {
     "name": "stderr",
     "output_type": "stream",
     "text": [
      "                                                                \n",
      "\u001b[A                                                                    \n",
      "chunk:   0%|          | 2/1985 [49:05<811:08:04, 1472.56s/it, now=None]\u001b[A\n",
      "\u001b[A                                                                    \n",
      "chunk:   0%|          | 2/1985 [49:05<811:08:19, 1472.57s/it, now=None]\u001b[A\n",
      "\u001b[A                                                                    \n",
      "chunk:   0%|          | 2/1985 [49:05<811:08:19, 1472.57s/it, now=None]\u001b[A\n",
      "\u001b[A                                                                    \n",
      "chunk:   0%|          | 2/1985 [49:05<811:08:19, 1472.57s/it, now=None]\u001b[A"
     ]
    },
    {
     "name": "stdout",
     "output_type": "stream",
     "text": [
      "Moviepy - Done !\n",
      "Moviepy - video ready C:\\Users\\Abhishek Maurya\\Desktop\\strt\\trim\\clip_38.mp4\n",
      "Moviepy - Building video C:\\Users\\Abhishek Maurya\\Desktop\\strt\\trim\\clip_39.mp4.\n",
      "MoviePy - Writing audio in clip_39TEMP_MPY_wvf_snd.mp3\n"
     ]
    },
    {
     "name": "stderr",
     "output_type": "stream",
     "text": [
      "                                                                      \n",
      "\u001b[A                                                                    \n",
      "chunk:   0%|          | 2/1985 [49:07<811:44:46, 1473.67s/it, now=None]\u001b[A\n",
      "\u001b[A                                                                    \n",
      "chunk:   0%|          | 2/1985 [49:07<811:44:46, 1473.67s/it, now=None]\u001b[A"
     ]
    },
    {
     "name": "stdout",
     "output_type": "stream",
     "text": [
      "MoviePy - Done.\n",
      "Moviepy - Writing video C:\\Users\\Abhishek Maurya\\Desktop\\strt\\trim\\clip_39.mp4\n",
      "\n"
     ]
    },
    {
     "name": "stderr",
     "output_type": "stream",
     "text": [
      "                                                                \n",
      "\u001b[A                                                                    \n",
      "chunk:   0%|          | 2/1985 [49:45<822:07:38, 1492.52s/it, now=None]\u001b[A\n",
      "\u001b[A                                                                    \n",
      "chunk:   0%|          | 2/1985 [49:45<822:07:38, 1492.52s/it, now=None]\u001b[A\n",
      "\u001b[A                                                                    \n",
      "chunk:   0%|          | 2/1985 [49:45<822:07:38, 1492.52s/it, now=None]\u001b[A\n",
      "\u001b[A                                                                    \n",
      "chunk:   0%|          | 2/1985 [49:45<822:07:38, 1492.52s/it, now=None]\u001b[A"
     ]
    },
    {
     "name": "stdout",
     "output_type": "stream",
     "text": [
      "Moviepy - Done !\n",
      "Moviepy - video ready C:\\Users\\Abhishek Maurya\\Desktop\\strt\\trim\\clip_39.mp4\n",
      "Moviepy - Building video C:\\Users\\Abhishek Maurya\\Desktop\\strt\\trim\\clip_40.mp4.\n",
      "MoviePy - Writing audio in clip_40TEMP_MPY_wvf_snd.mp3\n"
     ]
    },
    {
     "name": "stderr",
     "output_type": "stream",
     "text": [
      "                                                                      \n",
      "\u001b[A                                                                    \n",
      "chunk:   0%|          | 2/1985 [49:47<822:41:39, 1493.55s/it, now=None]\u001b[A\n",
      "\u001b[A                                                                    \n",
      "chunk:   0%|          | 2/1985 [49:47<822:41:47, 1493.55s/it, now=None]\u001b[A"
     ]
    },
    {
     "name": "stdout",
     "output_type": "stream",
     "text": [
      "MoviePy - Done.\n",
      "Moviepy - Writing video C:\\Users\\Abhishek Maurya\\Desktop\\strt\\trim\\clip_40.mp4\n",
      "\n"
     ]
    },
    {
     "name": "stderr",
     "output_type": "stream",
     "text": [
      "                                                                \n",
      "\u001b[A                                                                    \n",
      "chunk:   0%|          | 2/1985 [50:26<833:29:00, 1513.13s/it, now=None]\u001b[A\n",
      "\u001b[A                                                                    \n",
      "chunk:   0%|          | 2/1985 [50:26<833:29:00, 1513.13s/it, now=None]\u001b[A\n",
      "\u001b[A                                                                    \n",
      "chunk:   0%|          | 2/1985 [50:26<833:29:16, 1513.14s/it, now=None]\u001b[A\n",
      "\u001b[A                                                                    \n",
      "chunk:   0%|          | 2/1985 [50:26<833:29:16, 1513.14s/it, now=None]\u001b[A"
     ]
    },
    {
     "name": "stdout",
     "output_type": "stream",
     "text": [
      "Moviepy - Done !\n",
      "Moviepy - video ready C:\\Users\\Abhishek Maurya\\Desktop\\strt\\trim\\clip_40.mp4\n",
      "Moviepy - Building video C:\\Users\\Abhishek Maurya\\Desktop\\strt\\trim\\clip_41.mp4.\n",
      "MoviePy - Writing audio in clip_41TEMP_MPY_wvf_snd.mp3\n"
     ]
    },
    {
     "name": "stderr",
     "output_type": "stream",
     "text": [
      "                                                                      \n",
      "\u001b[A                                                                    \n",
      "chunk:   0%|          | 2/1985 [50:28<834:06:47, 1514.28s/it, now=None]\u001b[A\n",
      "\u001b[A                                                                    \n",
      "chunk:   0%|          | 2/1985 [50:28<834:06:47, 1514.28s/it, now=None]\u001b[A"
     ]
    },
    {
     "name": "stdout",
     "output_type": "stream",
     "text": [
      "MoviePy - Done.\n",
      "Moviepy - Writing video C:\\Users\\Abhishek Maurya\\Desktop\\strt\\trim\\clip_41.mp4\n",
      "\n"
     ]
    },
    {
     "name": "stderr",
     "output_type": "stream",
     "text": [
      "                                                                \n",
      "\u001b[A                                                                    \n",
      "chunk:   0%|          | 2/1985 [51:13<846:29:09, 1536.74s/it, now=None]\u001b[A\n",
      "\u001b[A                                                                    \n",
      "chunk:   0%|          | 2/1985 [51:13<846:29:19, 1536.74s/it, now=None]\u001b[A\n",
      "\u001b[A                                                                    \n",
      "chunk:   0%|          | 2/1985 [51:13<846:29:21, 1536.74s/it, now=None]\u001b[A\n",
      "\u001b[A                                                                    \n",
      "chunk:   0%|          | 2/1985 [51:13<846:29:24, 1536.74s/it, now=None]\u001b[A"
     ]
    },
    {
     "name": "stdout",
     "output_type": "stream",
     "text": [
      "Moviepy - Done !\n",
      "Moviepy - video ready C:\\Users\\Abhishek Maurya\\Desktop\\strt\\trim\\clip_41.mp4\n",
      "Moviepy - Building video C:\\Users\\Abhishek Maurya\\Desktop\\strt\\trim\\clip_42.mp4.\n",
      "MoviePy - Writing audio in clip_42TEMP_MPY_wvf_snd.mp3\n"
     ]
    },
    {
     "name": "stderr",
     "output_type": "stream",
     "text": [
      "                                                                     \n",
      "\u001b[A                                                                    \n",
      "chunk:   0%|          | 2/1985 [51:15<847:07:33, 1537.90s/it, now=None]\u001b[A\n",
      "\u001b[A                                                                    \n",
      "chunk:   0%|          | 2/1985 [51:15<847:07:41, 1537.90s/it, now=None]\u001b[A"
     ]
    },
    {
     "name": "stdout",
     "output_type": "stream",
     "text": [
      "MoviePy - Done.\n",
      "Moviepy - Writing video C:\\Users\\Abhishek Maurya\\Desktop\\strt\\trim\\clip_42.mp4\n",
      "\n"
     ]
    },
    {
     "name": "stderr",
     "output_type": "stream",
     "text": [
      "                                                                \n",
      "\u001b[A                                                                    \n",
      "chunk:   0%|          | 2/1985 [51:55<857:59:36, 1557.63s/it, now=None]\u001b[A\n",
      "\u001b[A                                                                    \n",
      "chunk:   0%|          | 2/1985 [51:55<857:59:53, 1557.64s/it, now=None]\u001b[A\n",
      "\u001b[A                                                                    \n",
      "chunk:   0%|          | 2/1985 [51:55<857:59:56, 1557.64s/it, now=None]\u001b[A\n",
      "\u001b[A                                                                    \n",
      "chunk:   0%|          | 2/1985 [51:55<858:00:00, 1557.64s/it, now=None]\u001b[A"
     ]
    },
    {
     "name": "stdout",
     "output_type": "stream",
     "text": [
      "Moviepy - Done !\n",
      "Moviepy - video ready C:\\Users\\Abhishek Maurya\\Desktop\\strt\\trim\\clip_42.mp4\n",
      "Moviepy - Building video C:\\Users\\Abhishek Maurya\\Desktop\\strt\\trim\\clip_43.mp4.\n",
      "MoviePy - Writing audio in clip_43TEMP_MPY_wvf_snd.mp3\n"
     ]
    },
    {
     "name": "stderr",
     "output_type": "stream",
     "text": [
      "                                                                      \n",
      "\u001b[A                                                                    \n",
      "chunk:   0%|          | 2/1985 [51:57<858:34:16, 1558.68s/it, now=None]\u001b[A\n",
      "\u001b[A                                                                    \n",
      "chunk:   0%|          | 2/1985 [51:57<858:34:16, 1558.68s/it, now=None]\u001b[A"
     ]
    },
    {
     "name": "stdout",
     "output_type": "stream",
     "text": [
      "MoviePy - Done.\n",
      "Moviepy - Writing video C:\\Users\\Abhishek Maurya\\Desktop\\strt\\trim\\clip_43.mp4\n",
      "\n"
     ]
    },
    {
     "name": "stderr",
     "output_type": "stream",
     "text": [
      "                                                                \n",
      "\u001b[A                                                                    \n",
      "chunk:   0%|          | 2/1985 [52:40<870:19:26, 1580.01s/it, now=None]\u001b[A\n",
      "\u001b[A                                                                    \n",
      "chunk:   0%|          | 2/1985 [52:40<870:19:26, 1580.01s/it, now=None]\u001b[A\n",
      "\u001b[A                                                                    \n",
      "chunk:   0%|          | 2/1985 [52:40<870:19:26, 1580.01s/it, now=None]\u001b[A\n",
      "\u001b[A                                                                    \n",
      "chunk:   0%|          | 2/1985 [52:40<870:19:26, 1580.01s/it, now=None]\u001b[A"
     ]
    },
    {
     "name": "stdout",
     "output_type": "stream",
     "text": [
      "Moviepy - Done !\n",
      "Moviepy - video ready C:\\Users\\Abhishek Maurya\\Desktop\\strt\\trim\\clip_43.mp4\n",
      "Moviepy - Building video C:\\Users\\Abhishek Maurya\\Desktop\\strt\\trim\\clip_44.mp4.\n",
      "MoviePy - Writing audio in clip_44TEMP_MPY_wvf_snd.mp3\n"
     ]
    },
    {
     "name": "stderr",
     "output_type": "stream",
     "text": [
      "                                                                      \n",
      "\u001b[A                                                                    \n",
      "chunk:   0%|          | 2/1985 [52:42<870:53:16, 1581.04s/it, now=None]\u001b[A\n",
      "\u001b[A                                                                    \n",
      "chunk:   0%|          | 2/1985 [52:42<870:53:23, 1581.04s/it, now=None]\u001b[A"
     ]
    },
    {
     "name": "stdout",
     "output_type": "stream",
     "text": [
      "MoviePy - Done.\n",
      "Moviepy - Writing video C:\\Users\\Abhishek Maurya\\Desktop\\strt\\trim\\clip_44.mp4\n",
      "\n"
     ]
    },
    {
     "name": "stderr",
     "output_type": "stream",
     "text": [
      "                                                                \n",
      "\u001b[A                                                                    \n",
      "chunk:   0%|          | 2/1985 [53:26<883:06:40, 1603.23s/it, now=None]\u001b[A\n",
      "\u001b[A                                                                    \n",
      "chunk:   0%|          | 2/1985 [53:26<883:06:57, 1603.24s/it, now=None]\u001b[A\n",
      "\u001b[A                                                                    \n",
      "chunk:   0%|          | 2/1985 [53:26<883:06:57, 1603.24s/it, now=None]\u001b[A\n",
      "\u001b[A                                                                    \n",
      "chunk:   0%|          | 2/1985 [53:26<883:07:00, 1603.24s/it, now=None]\u001b[A"
     ]
    },
    {
     "name": "stdout",
     "output_type": "stream",
     "text": [
      "Moviepy - Done !\n",
      "Moviepy - video ready C:\\Users\\Abhishek Maurya\\Desktop\\strt\\trim\\clip_44.mp4\n",
      "Moviepy - Building video C:\\Users\\Abhishek Maurya\\Desktop\\strt\\trim\\clip_45.mp4.\n",
      "MoviePy - Writing audio in clip_45TEMP_MPY_wvf_snd.mp3\n"
     ]
    },
    {
     "name": "stderr",
     "output_type": "stream",
     "text": [
      "                                                                      \n",
      "\u001b[A                                                                    \n",
      "chunk:   0%|          | 2/1985 [53:28<883:39:47, 1604.23s/it, now=None]\u001b[A\n",
      "\u001b[A                                                                    \n",
      "chunk:   0%|          | 2/1985 [53:28<883:39:51, 1604.23s/it, now=None]\u001b[A"
     ]
    },
    {
     "name": "stdout",
     "output_type": "stream",
     "text": [
      "MoviePy - Done.\n",
      "Moviepy - Writing video C:\\Users\\Abhishek Maurya\\Desktop\\strt\\trim\\clip_45.mp4\n",
      "\n"
     ]
    },
    {
     "name": "stderr",
     "output_type": "stream",
     "text": [
      "                                                                \n",
      "\u001b[A                                                                    \n",
      "chunk:   0%|          | 2/1985 [54:16<896:45:43, 1628.01s/it, now=None]\u001b[A\n",
      "\u001b[A                                                                    \n",
      "chunk:   0%|          | 2/1985 [54:16<896:45:50, 1628.01s/it, now=None]\u001b[A\n",
      "\u001b[A                                                                    \n",
      "chunk:   0%|          | 2/1985 [54:16<896:45:53, 1628.01s/it, now=None]\u001b[A\n",
      "\u001b[A                                                                    \n",
      "chunk:   0%|          | 2/1985 [54:16<896:45:56, 1628.02s/it, now=None]\u001b[A"
     ]
    },
    {
     "name": "stdout",
     "output_type": "stream",
     "text": [
      "Moviepy - Done !\n",
      "Moviepy - video ready C:\\Users\\Abhishek Maurya\\Desktop\\strt\\trim\\clip_45.mp4\n",
      "Moviepy - Building video C:\\Users\\Abhishek Maurya\\Desktop\\strt\\trim\\clip_46.mp4.\n",
      "MoviePy - Writing audio in clip_46TEMP_MPY_wvf_snd.mp3\n"
     ]
    },
    {
     "name": "stderr",
     "output_type": "stream",
     "text": [
      "                                                                      \n",
      "\u001b[A                                                                    \n",
      "chunk:   0%|          | 2/1985 [54:17<897:16:44, 1628.95s/it, now=None]\u001b[A\n",
      "\u001b[A                                                                    \n",
      "chunk:   0%|          | 2/1985 [54:17<897:16:44, 1628.95s/it, now=None]\u001b[A"
     ]
    },
    {
     "name": "stdout",
     "output_type": "stream",
     "text": [
      "MoviePy - Done.\n",
      "Moviepy - Writing video C:\\Users\\Abhishek Maurya\\Desktop\\strt\\trim\\clip_46.mp4\n",
      "\n"
     ]
    },
    {
     "name": "stderr",
     "output_type": "stream",
     "text": [
      "                                                                \n",
      "\u001b[A                                                                    \n",
      "chunk:   0%|          | 2/1985 [55:02<909:27:38, 1651.06s/it, now=None]\u001b[A\n",
      "\u001b[A                                                                    \n",
      "chunk:   0%|          | 2/1985 [55:02<909:27:38, 1651.06s/it, now=None]\u001b[A\n",
      "\u001b[A                                                                    \n",
      "chunk:   0%|          | 2/1985 [55:02<909:27:50, 1651.07s/it, now=None]\u001b[A\n",
      "\u001b[A                                                                    \n",
      "chunk:   0%|          | 2/1985 [55:02<909:27:54, 1651.07s/it, now=None]\u001b[A"
     ]
    },
    {
     "name": "stdout",
     "output_type": "stream",
     "text": [
      "Moviepy - Done !\n",
      "Moviepy - video ready C:\\Users\\Abhishek Maurya\\Desktop\\strt\\trim\\clip_46.mp4\n",
      "Moviepy - Building video C:\\Users\\Abhishek Maurya\\Desktop\\strt\\trim\\clip_47.mp4.\n",
      "MoviePy - Writing audio in clip_47TEMP_MPY_wvf_snd.mp3\n"
     ]
    },
    {
     "name": "stderr",
     "output_type": "stream",
     "text": [
      "                                                                      \n",
      "\u001b[A                                                                    \n",
      "chunk:   0%|          | 2/1985 [55:04<909:59:28, 1652.03s/it, now=None]\u001b[A\n",
      "\u001b[A                                                                    \n",
      "chunk:   0%|          | 2/1985 [55:04<909:59:28, 1652.03s/it, now=None]\u001b[A"
     ]
    },
    {
     "name": "stdout",
     "output_type": "stream",
     "text": [
      "MoviePy - Done.\n",
      "Moviepy - Writing video C:\\Users\\Abhishek Maurya\\Desktop\\strt\\trim\\clip_47.mp4\n",
      "\n"
     ]
    },
    {
     "name": "stderr",
     "output_type": "stream",
     "text": [
      "                                                                \n",
      "\u001b[A                                                                    \n",
      "chunk:   0%|          | 2/1985 [55:46<921:45:56, 1673.40s/it, now=None]\u001b[A\n",
      "\u001b[A                                                                    \n",
      "chunk:   0%|          | 2/1985 [55:46<921:45:56, 1673.40s/it, now=None]\u001b[A\n",
      "\u001b[A                                                                    \n",
      "chunk:   0%|          | 2/1985 [55:46<921:45:56, 1673.40s/it, now=None]\u001b[A\n",
      "\u001b[A                                                                    \n",
      "chunk:   0%|          | 2/1985 [55:46<921:45:56, 1673.40s/it, now=None]\u001b[A"
     ]
    },
    {
     "name": "stdout",
     "output_type": "stream",
     "text": [
      "Moviepy - Done !\n",
      "Moviepy - video ready C:\\Users\\Abhishek Maurya\\Desktop\\strt\\trim\\clip_47.mp4\n",
      "Moviepy - Building video C:\\Users\\Abhishek Maurya\\Desktop\\strt\\trim\\clip_48.mp4.\n",
      "MoviePy - Writing audio in clip_48TEMP_MPY_wvf_snd.mp3\n"
     ]
    },
    {
     "name": "stderr",
     "output_type": "stream",
     "text": [
      "                                                                      \n",
      "\u001b[A                                                                    \n",
      "chunk:   0%|          | 2/1985 [55:49<922:22:43, 1674.52s/it, now=None]\u001b[A\n",
      "\u001b[A                                                                    \n",
      "chunk:   0%|          | 2/1985 [55:49<922:22:49, 1674.52s/it, now=None]\u001b[A"
     ]
    },
    {
     "name": "stdout",
     "output_type": "stream",
     "text": [
      "MoviePy - Done.\n",
      "Moviepy - Writing video C:\\Users\\Abhishek Maurya\\Desktop\\strt\\trim\\clip_48.mp4\n",
      "\n"
     ]
    },
    {
     "name": "stderr",
     "output_type": "stream",
     "text": [
      "                                                                \n",
      "\u001b[A                                                                    \n",
      "chunk:   0%|          | 2/1985 [56:30<933:51:00, 1695.34s/it, now=None]\u001b[A\n",
      "\u001b[A                                                                    \n",
      "chunk:   0%|          | 2/1985 [56:30<933:51:15, 1695.35s/it, now=None]\u001b[A\n",
      "\u001b[A                                                                    \n",
      "chunk:   0%|          | 2/1985 [56:30<933:51:15, 1695.35s/it, now=None]\u001b[A\n",
      "\u001b[A                                                                    \n",
      "chunk:   0%|          | 2/1985 [56:30<933:51:15, 1695.35s/it, now=None]\u001b[A"
     ]
    },
    {
     "name": "stdout",
     "output_type": "stream",
     "text": [
      "Moviepy - Done !\n",
      "Moviepy - video ready C:\\Users\\Abhishek Maurya\\Desktop\\strt\\trim\\clip_48.mp4\n",
      "Moviepy - Building video C:\\Users\\Abhishek Maurya\\Desktop\\strt\\trim\\clip_49.mp4.\n",
      "MoviePy - Writing audio in clip_49TEMP_MPY_wvf_snd.mp3\n"
     ]
    },
    {
     "name": "stderr",
     "output_type": "stream",
     "text": [
      "                                                                      \n",
      "\u001b[A                                                                    \n",
      "chunk:   0%|          | 2/1985 [56:32<934:22:47, 1696.30s/it, now=None]\u001b[A\n",
      "\u001b[A                                                                    \n",
      "chunk:   0%|          | 2/1985 [56:32<934:22:47, 1696.30s/it, now=None]\u001b[A"
     ]
    },
    {
     "name": "stdout",
     "output_type": "stream",
     "text": [
      "MoviePy - Done.\n",
      "Moviepy - Writing video C:\\Users\\Abhishek Maurya\\Desktop\\strt\\trim\\clip_49.mp4\n",
      "\n"
     ]
    },
    {
     "name": "stderr",
     "output_type": "stream",
     "text": [
      "                                                                \n",
      "\u001b[A                                                                    \n",
      "chunk:   0%|          | 2/1985 [57:17<946:46:27, 1718.80s/it, now=None]\u001b[A\n",
      "\u001b[A                                                                    \n",
      "chunk:   0%|          | 2/1985 [57:17<946:46:27, 1718.80s/it, now=None]\u001b[A\n",
      "\u001b[A                                                                    \n",
      "chunk:   0%|          | 2/1985 [57:17<946:46:27, 1718.80s/it, now=None]\u001b[A\n",
      "\u001b[A                                                                    \n",
      "chunk:   0%|          | 2/1985 [57:17<946:46:27, 1718.80s/it, now=None]\u001b[A"
     ]
    },
    {
     "name": "stdout",
     "output_type": "stream",
     "text": [
      "Moviepy - Done !\n",
      "Moviepy - video ready C:\\Users\\Abhishek Maurya\\Desktop\\strt\\trim\\clip_49.mp4\n",
      "Moviepy - Building video C:\\Users\\Abhishek Maurya\\Desktop\\strt\\trim\\clip_50.mp4.\n",
      "MoviePy - Writing audio in clip_50TEMP_MPY_wvf_snd.mp3\n"
     ]
    },
    {
     "name": "stderr",
     "output_type": "stream",
     "text": [
      "                                                                      \n",
      "\u001b[A                                                                    \n",
      "chunk:   0%|          | 2/1985 [57:19<947:18:13, 1719.76s/it, now=None]\u001b[A\n",
      "\u001b[A                                                                    \n",
      "chunk:   0%|          | 2/1985 [57:19<947:18:16, 1719.77s/it, now=None]\u001b[A"
     ]
    },
    {
     "name": "stdout",
     "output_type": "stream",
     "text": [
      "MoviePy - Done.\n",
      "Moviepy - Writing video C:\\Users\\Abhishek Maurya\\Desktop\\strt\\trim\\clip_50.mp4\n",
      "\n"
     ]
    },
    {
     "name": "stderr",
     "output_type": "stream",
     "text": [
      "                                                                \n",
      "\u001b[A                                                                    \n",
      "chunk:   0%|          | 2/1985 [58:00<958:27:24, 1740.01s/it, now=None]\u001b[A\n",
      "\u001b[A                                                                    \n",
      "chunk:   0%|          | 2/1985 [58:00<958:27:40, 1740.02s/it, now=None]\u001b[A\n",
      "\u001b[A                                                                    \n",
      "chunk:   0%|          | 2/1985 [58:00<958:27:40, 1740.02s/it, now=None]\u001b[A\n",
      "\u001b[A                                                                    \n",
      "chunk:   0%|          | 2/1985 [58:00<958:27:40, 1740.02s/it, now=None]\u001b[A"
     ]
    },
    {
     "name": "stdout",
     "output_type": "stream",
     "text": [
      "Moviepy - Done !\n",
      "Moviepy - video ready C:\\Users\\Abhishek Maurya\\Desktop\\strt\\trim\\clip_50.mp4\n",
      "Moviepy - Building video C:\\Users\\Abhishek Maurya\\Desktop\\strt\\trim\\clip_51.mp4.\n",
      "MoviePy - Writing audio in clip_51TEMP_MPY_wvf_snd.mp3\n"
     ]
    },
    {
     "name": "stderr",
     "output_type": "stream",
     "text": [
      "                                                                      \n",
      "\u001b[A                                                                    \n",
      "chunk:   0%|          | 2/1985 [58:01<958:59:19, 1740.98s/it, now=None]\u001b[A\n",
      "\u001b[A                                                                    \n",
      "chunk:   0%|          | 2/1985 [58:01<958:59:27, 1740.98s/it, now=None]\u001b[A"
     ]
    },
    {
     "name": "stdout",
     "output_type": "stream",
     "text": [
      "MoviePy - Done.\n",
      "Moviepy - Writing video C:\\Users\\Abhishek Maurya\\Desktop\\strt\\trim\\clip_51.mp4\n",
      "\n"
     ]
    },
    {
     "name": "stderr",
     "output_type": "stream",
     "text": [
      "                                                                \n",
      "\u001b[A                                                                    \n",
      "chunk:   0%|          | 2/1985 [58:41<969:45:07, 1760.52s/it, now=None]\u001b[A\n",
      "\u001b[A                                                                    \n",
      "chunk:   0%|          | 2/1985 [58:41<969:45:11, 1760.52s/it, now=None]\u001b[A\n",
      "\u001b[A                                                                    \n",
      "chunk:   0%|          | 2/1985 [58:41<969:45:13, 1760.52s/it, now=None]\u001b[A\n",
      "\u001b[A                                                                    \n",
      "chunk:   0%|          | 2/1985 [58:41<969:45:16, 1760.52s/it, now=None]\u001b[A"
     ]
    },
    {
     "name": "stdout",
     "output_type": "stream",
     "text": [
      "Moviepy - Done !\n",
      "Moviepy - video ready C:\\Users\\Abhishek Maurya\\Desktop\\strt\\trim\\clip_51.mp4\n",
      "Moviepy - Building video C:\\Users\\Abhishek Maurya\\Desktop\\strt\\trim\\clip_52.mp4.\n",
      "MoviePy - Writing audio in clip_52TEMP_MPY_wvf_snd.mp3\n"
     ]
    },
    {
     "name": "stderr",
     "output_type": "stream",
     "text": [
      "                                                                     \n",
      "\u001b[A                                                                    \n",
      "chunk:   0%|          | 2/1985 [58:43<970:20:52, 1761.60s/it, now=None]\u001b[A\n",
      "\u001b[A                                                                    \n",
      "chunk:   0%|          | 2/1985 [58:43<970:21:01, 1761.60s/it, now=None]\u001b[A"
     ]
    },
    {
     "name": "stdout",
     "output_type": "stream",
     "text": [
      "MoviePy - Done.\n",
      "Moviepy - Writing video C:\\Users\\Abhishek Maurya\\Desktop\\strt\\trim\\clip_52.mp4\n",
      "\n"
     ]
    },
    {
     "name": "stderr",
     "output_type": "stream",
     "text": [
      "                                                                \n",
      "\u001b[A                                                                    \n",
      "chunk:   0%|          | 2/1985 [59:29<983:05:04, 1784.72s/it, now=None]\u001b[A\n",
      "\u001b[A                                                                    \n",
      "chunk:   0%|          | 2/1985 [59:29<983:05:04, 1784.72s/it, now=None]\u001b[A\n",
      "\u001b[A                                                                    \n",
      "chunk:   0%|          | 2/1985 [59:29<983:05:04, 1784.72s/it, now=None]\u001b[A\n",
      "\u001b[A                                                                    \n",
      "chunk:   0%|          | 2/1985 [59:29<983:05:04, 1784.72s/it, now=None]\u001b[A"
     ]
    },
    {
     "name": "stdout",
     "output_type": "stream",
     "text": [
      "Moviepy - Done !\n",
      "Moviepy - video ready C:\\Users\\Abhishek Maurya\\Desktop\\strt\\trim\\clip_52.mp4\n",
      "Moviepy - Building video C:\\Users\\Abhishek Maurya\\Desktop\\strt\\trim\\clip_53.mp4.\n",
      "MoviePy - Writing audio in clip_53TEMP_MPY_wvf_snd.mp3\n"
     ]
    },
    {
     "name": "stderr",
     "output_type": "stream",
     "text": [
      "                                                                     \n",
      "\u001b[A                                                                    \n",
      "chunk:   0%|          | 2/1985 [59:31<983:42:18, 1785.85s/it, now=None]\u001b[A\n",
      "\u001b[A                                                                    \n",
      "chunk:   0%|          | 2/1985 [59:31<983:42:18, 1785.85s/it, now=None]\u001b[A"
     ]
    },
    {
     "name": "stdout",
     "output_type": "stream",
     "text": [
      "MoviePy - Done.\n",
      "Moviepy - Writing video C:\\Users\\Abhishek Maurya\\Desktop\\strt\\trim\\clip_53.mp4\n",
      "\n"
     ]
    },
    {
     "name": "stderr",
     "output_type": "stream",
     "text": [
      "                                                                \n",
      "\u001b[A                                                                    \n",
      "chunk:   0%|          | 2/1985 [1:00:13<995:16:05, 1806.84s/it, now=None]\u001b[A\n",
      "\u001b[A                                                                      \n",
      "chunk:   0%|          | 2/1985 [1:00:13<995:16:12, 1806.84s/it, now=None]\u001b[A\n",
      "\u001b[A                                                                      \n",
      "chunk:   0%|          | 2/1985 [1:00:13<995:16:12, 1806.84s/it, now=None]\u001b[A\n",
      "\u001b[A                                                                      \n",
      "chunk:   0%|          | 2/1985 [1:00:13<995:16:19, 1806.85s/it, now=None]\u001b[A"
     ]
    },
    {
     "name": "stdout",
     "output_type": "stream",
     "text": [
      "Moviepy - Done !\n",
      "Moviepy - video ready C:\\Users\\Abhishek Maurya\\Desktop\\strt\\trim\\clip_53.mp4\n",
      "Moviepy - Building video C:\\Users\\Abhishek Maurya\\Desktop\\strt\\trim\\clip_54.mp4.\n",
      "MoviePy - Writing audio in clip_54TEMP_MPY_wvf_snd.mp3\n"
     ]
    },
    {
     "name": "stderr",
     "output_type": "stream",
     "text": [
      "                                                                      \n",
      "\u001b[A                                                                      \n",
      "chunk:   0%|          | 2/1985 [1:00:15<995:48:54, 1807.83s/it, now=None]\u001b[A\n",
      "\u001b[A                                                                      \n",
      "chunk:   0%|          | 2/1985 [1:00:15<995:48:54, 1807.83s/it, now=None]\u001b[A"
     ]
    },
    {
     "name": "stdout",
     "output_type": "stream",
     "text": [
      "MoviePy - Done.\n",
      "Moviepy - Writing video C:\\Users\\Abhishek Maurya\\Desktop\\strt\\trim\\clip_54.mp4\n",
      "\n"
     ]
    },
    {
     "name": "stderr",
     "output_type": "stream",
     "text": [
      "                                                                \n",
      "\u001b[A                                                                      \n",
      "chunk:   0%|          | 2/1985 [1:00:57<1007:21:58, 1828.80s/it, now=None]\u001b[A\n",
      "\u001b[A                                                                       \n",
      "chunk:   0%|          | 2/1985 [1:00:57<1007:22:14, 1828.81s/it, now=None]\u001b[A\n",
      "\u001b[A                                                                       \n",
      "chunk:   0%|          | 2/1985 [1:00:57<1007:22:14, 1828.81s/it, now=None]\u001b[A\n",
      "\u001b[A                                                                       \n",
      "chunk:   0%|          | 2/1985 [1:00:57<1007:22:19, 1828.81s/it, now=None]\u001b[A"
     ]
    },
    {
     "name": "stdout",
     "output_type": "stream",
     "text": [
      "Moviepy - Done !\n",
      "Moviepy - video ready C:\\Users\\Abhishek Maurya\\Desktop\\strt\\trim\\clip_54.mp4\n",
      "Moviepy - Building video C:\\Users\\Abhishek Maurya\\Desktop\\strt\\trim\\clip_55.mp4.\n",
      "MoviePy - Writing audio in clip_55TEMP_MPY_wvf_snd.mp3\n"
     ]
    },
    {
     "name": "stderr",
     "output_type": "stream",
     "text": [
      "                                                                      \n",
      "\u001b[A                                                                       \n",
      "chunk:   0%|          | 2/1985 [1:00:59<1007:54:22, 1829.78s/it, now=None]\u001b[A\n",
      "\u001b[A                                                                       \n",
      "chunk:   0%|          | 2/1985 [1:00:59<1007:54:27, 1829.79s/it, now=None]\u001b[A"
     ]
    },
    {
     "name": "stdout",
     "output_type": "stream",
     "text": [
      "MoviePy - Done.\n",
      "Moviepy - Writing video C:\\Users\\Abhishek Maurya\\Desktop\\strt\\trim\\clip_55.mp4\n",
      "\n"
     ]
    },
    {
     "name": "stderr",
     "output_type": "stream",
     "text": [
      "                                                                \n",
      "\u001b[A                                                                       \n",
      "chunk:   0%|          | 2/1985 [1:01:45<1020:29:09, 1852.62s/it, now=None]\u001b[A\n",
      "\u001b[A                                                                       \n",
      "chunk:   0%|          | 2/1985 [1:01:45<1020:29:28, 1852.63s/it, now=None]\u001b[A\n",
      "\u001b[A                                                                       \n",
      "chunk:   0%|          | 2/1985 [1:01:45<1020:29:30, 1852.63s/it, now=None]\u001b[A\n",
      "\u001b[A                                                                       \n",
      "chunk:   0%|          | 2/1985 [1:01:45<1020:29:33, 1852.63s/it, now=None]\u001b[A"
     ]
    },
    {
     "name": "stdout",
     "output_type": "stream",
     "text": [
      "Moviepy - Done !\n",
      "Moviepy - video ready C:\\Users\\Abhishek Maurya\\Desktop\\strt\\trim\\clip_55.mp4\n",
      "Moviepy - Building video C:\\Users\\Abhishek Maurya\\Desktop\\strt\\trim\\clip_56.mp4.\n",
      "MoviePy - Writing audio in clip_56TEMP_MPY_wvf_snd.mp3\n"
     ]
    },
    {
     "name": "stderr",
     "output_type": "stream",
     "text": [
      "                                                                      \n",
      "\u001b[A                                                                       \n",
      "chunk:   0%|          | 2/1985 [1:01:47<1021:02:15, 1853.62s/it, now=None]\u001b[A\n",
      "\u001b[A                                                                       \n",
      "chunk:   0%|          | 2/1985 [1:01:47<1021:02:24, 1853.63s/it, now=None]\u001b[A"
     ]
    },
    {
     "name": "stdout",
     "output_type": "stream",
     "text": [
      "MoviePy - Done.\n",
      "Moviepy - Writing video C:\\Users\\Abhishek Maurya\\Desktop\\strt\\trim\\clip_56.mp4\n",
      "\n"
     ]
    },
    {
     "name": "stderr",
     "output_type": "stream",
     "text": [
      "                                                                \n",
      "\u001b[A                                                                       \n",
      "chunk:   0%|          | 2/1985 [1:02:30<1032:57:50, 1875.28s/it, now=None]\u001b[A\n",
      "\u001b[A                                                                       \n",
      "chunk:   0%|          | 2/1985 [1:02:30<1032:58:04, 1875.28s/it, now=None]\u001b[A\n",
      "\u001b[A                                                                       \n",
      "chunk:   0%|          | 2/1985 [1:02:30<1032:58:07, 1875.28s/it, now=None]\u001b[A\n",
      "\u001b[A                                                                       \n",
      "chunk:   0%|          | 2/1985 [1:02:30<1032:58:10, 1875.29s/it, now=None]\u001b[A"
     ]
    },
    {
     "name": "stdout",
     "output_type": "stream",
     "text": [
      "Moviepy - Done !\n",
      "Moviepy - video ready C:\\Users\\Abhishek Maurya\\Desktop\\strt\\trim\\clip_56.mp4\n",
      "Moviepy - Building video C:\\Users\\Abhishek Maurya\\Desktop\\strt\\trim\\clip_57.mp4.\n",
      "MoviePy - Writing audio in clip_57TEMP_MPY_wvf_snd.mp3\n"
     ]
    },
    {
     "name": "stderr",
     "output_type": "stream",
     "text": [
      "                                                                      \n",
      "\u001b[A                                                                       \n",
      "chunk:   0%|          | 2/1985 [1:02:32<1033:29:38, 1876.24s/it, now=None]\u001b[A\n",
      "\u001b[A                                                                       \n",
      "chunk:   0%|          | 2/1985 [1:02:32<1033:29:53, 1876.25s/it, now=None]\u001b[A"
     ]
    },
    {
     "name": "stdout",
     "output_type": "stream",
     "text": [
      "MoviePy - Done.\n",
      "Moviepy - Writing video C:\\Users\\Abhishek Maurya\\Desktop\\strt\\trim\\clip_57.mp4\n",
      "\n"
     ]
    },
    {
     "name": "stderr",
     "output_type": "stream",
     "text": [
      "                                                                \n",
      "\u001b[A                                                                       \n",
      "chunk:   0%|          | 2/1985 [1:03:14<1044:57:37, 1897.05s/it, now=None]\u001b[A\n",
      "\u001b[A                                                                       \n",
      "chunk:   0%|          | 2/1985 [1:03:14<1044:57:53, 1897.06s/it, now=None]\u001b[A\n",
      "\u001b[A                                                                       \n",
      "chunk:   0%|          | 2/1985 [1:03:14<1044:57:55, 1897.06s/it, now=None]\u001b[A\n",
      "\u001b[A                                                                       \n",
      "chunk:   0%|          | 2/1985 [1:03:14<1044:58:00, 1897.07s/it, now=None]\u001b[A"
     ]
    },
    {
     "name": "stdout",
     "output_type": "stream",
     "text": [
      "Moviepy - Done !\n",
      "Moviepy - video ready C:\\Users\\Abhishek Maurya\\Desktop\\strt\\trim\\clip_57.mp4\n",
      "Moviepy - Building video C:\\Users\\Abhishek Maurya\\Desktop\\strt\\trim\\clip_58.mp4.\n",
      "MoviePy - Writing audio in clip_58TEMP_MPY_wvf_snd.mp3\n"
     ]
    },
    {
     "name": "stderr",
     "output_type": "stream",
     "text": [
      "                                                                      \n",
      "\u001b[A                                                                       \n",
      "chunk:   0%|          | 2/1985 [1:03:16<1045:35:08, 1898.19s/it, now=None]\u001b[A\n",
      "\u001b[A                                                                       \n",
      "chunk:   0%|          | 2/1985 [1:03:16<1045:35:10, 1898.19s/it, now=None]\u001b[A"
     ]
    },
    {
     "name": "stdout",
     "output_type": "stream",
     "text": [
      "MoviePy - Done.\n",
      "Moviepy - Writing video C:\\Users\\Abhishek Maurya\\Desktop\\strt\\trim\\clip_58.mp4\n",
      "\n"
     ]
    },
    {
     "name": "stderr",
     "output_type": "stream",
     "text": [
      "                                                                \n",
      "\u001b[A                                                                       \n",
      "chunk:   0%|          | 2/1985 [1:03:57<1056:51:04, 1918.64s/it, now=None]\u001b[A\n",
      "\u001b[A                                                                       \n",
      "chunk:   0%|          | 2/1985 [1:03:57<1056:51:18, 1918.65s/it, now=None]\u001b[A\n",
      "\u001b[A                                                                       \n",
      "chunk:   0%|          | 2/1985 [1:03:57<1056:51:22, 1918.65s/it, now=None]\u001b[A\n",
      "\u001b[A                                                                       \n",
      "chunk:   0%|          | 2/1985 [1:03:57<1056:51:25, 1918.65s/it, now=None]\u001b[A"
     ]
    },
    {
     "name": "stdout",
     "output_type": "stream",
     "text": [
      "Moviepy - Done !\n",
      "Moviepy - video ready C:\\Users\\Abhishek Maurya\\Desktop\\strt\\trim\\clip_58.mp4\n",
      "Moviepy - Building video C:\\Users\\Abhishek Maurya\\Desktop\\strt\\trim\\clip_59.mp4.\n",
      "MoviePy - Writing audio in clip_59TEMP_MPY_wvf_snd.mp3\n"
     ]
    },
    {
     "name": "stderr",
     "output_type": "stream",
     "text": [
      "                                                                      \n",
      "\u001b[A                                                                       \n",
      "chunk:   0%|          | 2/1985 [1:03:59<1057:24:58, 1919.67s/it, now=None]\u001b[A\n",
      "\u001b[A                                                                       \n",
      "chunk:   0%|          | 2/1985 [1:03:59<1057:25:06, 1919.67s/it, now=None]\u001b[A"
     ]
    },
    {
     "name": "stdout",
     "output_type": "stream",
     "text": [
      "MoviePy - Done.\n",
      "Moviepy - Writing video C:\\Users\\Abhishek Maurya\\Desktop\\strt\\trim\\clip_59.mp4\n",
      "\n"
     ]
    },
    {
     "name": "stderr",
     "output_type": "stream",
     "text": [
      "                                                                \n",
      "\u001b[A                                                                       \n",
      "chunk:   0%|          | 2/1985 [1:04:41<1068:58:15, 1940.64s/it, now=None]\u001b[A\n",
      "\u001b[A                                                                       \n",
      "chunk:   0%|          | 2/1985 [1:04:41<1068:58:31, 1940.65s/it, now=None]\u001b[A\n",
      "\u001b[A                                                                       \n",
      "chunk:   0%|          | 2/1985 [1:04:41<1068:58:32, 1940.65s/it, now=None]\u001b[A\n",
      "\u001b[A                                                                       \n",
      "chunk:   0%|          | 2/1985 [1:04:41<1068:58:32, 1940.65s/it, now=None]\u001b[A"
     ]
    },
    {
     "name": "stdout",
     "output_type": "stream",
     "text": [
      "Moviepy - Done !\n",
      "Moviepy - video ready C:\\Users\\Abhishek Maurya\\Desktop\\strt\\trim\\clip_59.mp4\n",
      "Moviepy - Building video C:\\Users\\Abhishek Maurya\\Desktop\\strt\\trim\\clip_60.mp4.\n",
      "MoviePy - Writing audio in clip_60TEMP_MPY_wvf_snd.mp3\n"
     ]
    },
    {
     "name": "stderr",
     "output_type": "stream",
     "text": [
      "                                                                      \n",
      "\u001b[A                                                                       \n",
      "chunk:   0%|          | 2/1985 [1:04:43<1069:30:49, 1941.63s/it, now=None]\u001b[A\n",
      "\u001b[A                                                                       \n",
      "chunk:   0%|          | 2/1985 [1:04:43<1069:31:07, 1941.64s/it, now=None]\u001b[A"
     ]
    },
    {
     "name": "stdout",
     "output_type": "stream",
     "text": [
      "MoviePy - Done.\n",
      "Moviepy - Writing video C:\\Users\\Abhishek Maurya\\Desktop\\strt\\trim\\clip_60.mp4\n",
      "\n"
     ]
    },
    {
     "name": "stderr",
     "output_type": "stream",
     "text": [
      "                                                                \n",
      "\u001b[A                                                                       \n",
      "chunk:   0%|          | 2/1985 [1:05:23<1080:35:16, 1961.73s/it, now=None]\u001b[A\n",
      "\u001b[A                                                                       \n",
      "chunk:   0%|          | 2/1985 [1:05:23<1080:35:33, 1961.74s/it, now=None]\u001b[A\n",
      "\u001b[A                                                                       \n",
      "chunk:   0%|          | 2/1985 [1:05:23<1080:35:39, 1961.74s/it, now=None]\u001b[A\n",
      "\u001b[A                                                                       \n",
      "chunk:   0%|          | 2/1985 [1:05:23<1080:35:43, 1961.75s/it, now=None]\u001b[A"
     ]
    },
    {
     "name": "stdout",
     "output_type": "stream",
     "text": [
      "Moviepy - Done !\n",
      "Moviepy - video ready C:\\Users\\Abhishek Maurya\\Desktop\\strt\\trim\\clip_60.mp4\n",
      "Moviepy - Building video C:\\Users\\Abhishek Maurya\\Desktop\\strt\\trim\\clip_61.mp4.\n",
      "MoviePy - Writing audio in clip_61TEMP_MPY_wvf_snd.mp3\n"
     ]
    },
    {
     "name": "stderr",
     "output_type": "stream",
     "text": [
      "                                                                      \n",
      "\u001b[A                                                                       \n",
      "chunk:   0%|          | 2/1985 [1:05:25<1081:12:20, 1962.85s/it, now=None]\u001b[A\n",
      "\u001b[A                                                                       \n",
      "chunk:   0%|          | 2/1985 [1:05:25<1081:12:20, 1962.85s/it, now=None]\u001b[A"
     ]
    },
    {
     "name": "stdout",
     "output_type": "stream",
     "text": [
      "MoviePy - Done.\n",
      "Moviepy - Writing video C:\\Users\\Abhishek Maurya\\Desktop\\strt\\trim\\clip_61.mp4\n",
      "\n"
     ]
    },
    {
     "name": "stderr",
     "output_type": "stream",
     "text": [
      "                                                                \n",
      "\u001b[A                                                                       \n",
      "chunk:   0%|          | 2/1985 [1:06:01<1091:01:56, 1980.69s/it, now=None]\u001b[A\n",
      "\u001b[A                                                                       \n",
      "chunk:   0%|          | 2/1985 [1:06:01<1091:02:07, 1980.70s/it, now=None]\u001b[A\n",
      "\u001b[A                                                                       \n",
      "chunk:   0%|          | 2/1985 [1:06:01<1091:02:07, 1980.70s/it, now=None]\u001b[A\n",
      "\u001b[A                                                                       \n",
      "chunk:   0%|          | 2/1985 [1:06:01<1091:02:12, 1980.70s/it, now=None]\u001b[A"
     ]
    },
    {
     "name": "stdout",
     "output_type": "stream",
     "text": [
      "Moviepy - Done !\n",
      "Moviepy - video ready C:\\Users\\Abhishek Maurya\\Desktop\\strt\\trim\\clip_61.mp4\n",
      "Moviepy - Building video C:\\Users\\Abhishek Maurya\\Desktop\\strt\\trim\\clip_62.mp4.\n",
      "MoviePy - Writing audio in clip_62TEMP_MPY_wvf_snd.mp3\n"
     ]
    },
    {
     "name": "stderr",
     "output_type": "stream",
     "text": [
      "                                                                      \n",
      "\u001b[A                                                                       \n",
      "chunk:   0%|          | 2/1985 [1:06:03<1091:35:33, 1981.71s/it, now=None]\u001b[A\n",
      "\u001b[A                                                                       \n",
      "chunk:   0%|          | 2/1985 [1:06:03<1091:35:38, 1981.71s/it, now=None]\u001b[A"
     ]
    },
    {
     "name": "stdout",
     "output_type": "stream",
     "text": [
      "MoviePy - Done.\n",
      "Moviepy - Writing video C:\\Users\\Abhishek Maurya\\Desktop\\strt\\trim\\clip_62.mp4\n",
      "\n"
     ]
    },
    {
     "name": "stderr",
     "output_type": "stream",
     "text": [
      "                                                                \n",
      "\u001b[A                                                                       \n",
      "chunk:   0%|          | 2/1985 [1:06:46<1103:26:51, 2003.23s/it, now=None]\u001b[A\n",
      "\u001b[A                                                                       \n",
      "chunk:   0%|          | 2/1985 [1:06:46<1103:26:51, 2003.23s/it, now=None]\u001b[A\n",
      "\u001b[A                                                                       \n",
      "chunk:   0%|          | 2/1985 [1:06:46<1103:27:06, 2003.24s/it, now=None]\u001b[A\n",
      "\u001b[A                                                                       \n",
      "chunk:   0%|          | 2/1985 [1:06:46<1103:27:06, 2003.24s/it, now=None]\u001b[A"
     ]
    },
    {
     "name": "stdout",
     "output_type": "stream",
     "text": [
      "Moviepy - Done !\n",
      "Moviepy - video ready C:\\Users\\Abhishek Maurya\\Desktop\\strt\\trim\\clip_62.mp4\n",
      "Moviepy - Building video C:\\Users\\Abhishek Maurya\\Desktop\\strt\\trim\\clip_63.mp4.\n",
      "MoviePy - Writing audio in clip_63TEMP_MPY_wvf_snd.mp3\n"
     ]
    },
    {
     "name": "stderr",
     "output_type": "stream",
     "text": [
      "                                                                      \n",
      "\u001b[A                                                                       \n",
      "chunk:   0%|          | 2/1985 [1:06:48<1103:59:39, 2004.23s/it, now=None]\u001b[A\n",
      "\u001b[A                                                                       \n",
      "chunk:   0%|          | 2/1985 [1:06:48<1103:59:46, 2004.23s/it, now=None]\u001b[A"
     ]
    },
    {
     "name": "stdout",
     "output_type": "stream",
     "text": [
      "MoviePy - Done.\n",
      "Moviepy - Writing video C:\\Users\\Abhishek Maurya\\Desktop\\strt\\trim\\clip_63.mp4\n",
      "\n"
     ]
    },
    {
     "name": "stderr",
     "output_type": "stream",
     "text": [
      "                                                                \n",
      "\u001b[A                                                                       \n",
      "chunk:   0%|          | 2/1985 [1:07:25<1114:18:05, 2022.94s/it, now=None]\u001b[A\n",
      "\u001b[A                                                                       \n",
      "chunk:   0%|          | 2/1985 [1:07:25<1114:18:05, 2022.94s/it, now=None]\u001b[A\n",
      "\u001b[A                                                                       \n",
      "chunk:   0%|          | 2/1985 [1:07:25<1114:18:05, 2022.94s/it, now=None]\u001b[A\n",
      "\u001b[A                                                                       \n",
      "chunk:   0%|          | 2/1985 [1:07:25<1114:18:05, 2022.94s/it, now=None]\u001b[A"
     ]
    },
    {
     "name": "stdout",
     "output_type": "stream",
     "text": [
      "Moviepy - Done !\n",
      "Moviepy - video ready C:\\Users\\Abhishek Maurya\\Desktop\\strt\\trim\\clip_63.mp4\n",
      "Moviepy - Building video C:\\Users\\Abhishek Maurya\\Desktop\\strt\\trim\\clip_64.mp4.\n",
      "MoviePy - Writing audio in clip_64TEMP_MPY_wvf_snd.mp3\n"
     ]
    },
    {
     "name": "stderr",
     "output_type": "stream",
     "text": [
      "                                                                      \n",
      "\u001b[A                                                                       \n",
      "chunk:   0%|          | 2/1985 [1:07:27<1114:47:33, 2023.83s/it, now=None]\u001b[A\n",
      "\u001b[A                                                                       \n",
      "chunk:   0%|          | 2/1985 [1:07:27<1114:47:40, 2023.83s/it, now=None]\u001b[A"
     ]
    },
    {
     "name": "stdout",
     "output_type": "stream",
     "text": [
      "MoviePy - Done.\n",
      "Moviepy - Writing video C:\\Users\\Abhishek Maurya\\Desktop\\strt\\trim\\clip_64.mp4\n",
      "\n"
     ]
    },
    {
     "name": "stderr",
     "output_type": "stream",
     "text": [
      "                                                                \n",
      "\u001b[A                                                                       \n",
      "chunk:   0%|          | 2/1985 [1:08:08<1125:55:12, 2044.03s/it, now=None]\u001b[A\n",
      "\u001b[A                                                                       \n",
      "chunk:   0%|          | 2/1985 [1:08:08<1125:55:12, 2044.03s/it, now=None]\u001b[A\n",
      "\u001b[A                                                                       \n",
      "chunk:   0%|          | 2/1985 [1:08:08<1125:55:12, 2044.03s/it, now=None]\u001b[A\n",
      "\u001b[A                                                                       \n",
      "chunk:   0%|          | 2/1985 [1:08:08<1125:55:12, 2044.03s/it, now=None]\u001b[A"
     ]
    },
    {
     "name": "stdout",
     "output_type": "stream",
     "text": [
      "Moviepy - Done !\n",
      "Moviepy - video ready C:\\Users\\Abhishek Maurya\\Desktop\\strt\\trim\\clip_64.mp4\n",
      "Moviepy - Building video C:\\Users\\Abhishek Maurya\\Desktop\\strt\\trim\\clip_65.mp4.\n",
      "MoviePy - Writing audio in clip_65TEMP_MPY_wvf_snd.mp3\n"
     ]
    },
    {
     "name": "stderr",
     "output_type": "stream",
     "text": [
      "                                                                      \n",
      "\u001b[A                                                                       \n",
      "chunk:   0%|          | 2/1985 [1:08:09<1126:26:05, 2044.96s/it, now=None]\u001b[A\n",
      "\u001b[A                                                                       \n",
      "chunk:   0%|          | 2/1985 [1:08:09<1126:26:13, 2044.97s/it, now=None]\u001b[A"
     ]
    },
    {
     "name": "stdout",
     "output_type": "stream",
     "text": [
      "MoviePy - Done.\n",
      "Moviepy - Writing video C:\\Users\\Abhishek Maurya\\Desktop\\strt\\trim\\clip_65.mp4\n",
      "\n"
     ]
    },
    {
     "name": "stderr",
     "output_type": "stream",
     "text": [
      "                                                                \n",
      "\u001b[A                                                                       \n",
      "chunk:   0%|          | 2/1985 [1:08:54<1138:35:59, 2067.05s/it, now=None]\u001b[A\n",
      "\u001b[A                                                                       \n",
      "chunk:   0%|          | 2/1985 [1:08:54<1138:36:04, 2067.05s/it, now=None]\u001b[A\n",
      "\u001b[A                                                                       \n",
      "chunk:   0%|          | 2/1985 [1:08:54<1138:36:04, 2067.05s/it, now=None]\u001b[A\n",
      "\u001b[A                                                                       \n",
      "chunk:   0%|          | 2/1985 [1:08:54<1138:36:04, 2067.05s/it, now=None]\u001b[A"
     ]
    },
    {
     "name": "stdout",
     "output_type": "stream",
     "text": [
      "Moviepy - Done !\n",
      "Moviepy - video ready C:\\Users\\Abhishek Maurya\\Desktop\\strt\\trim\\clip_65.mp4\n",
      "Moviepy - Building video C:\\Users\\Abhishek Maurya\\Desktop\\strt\\trim\\clip_66.mp4.\n",
      "MoviePy - Writing audio in clip_66TEMP_MPY_wvf_snd.mp3\n"
     ]
    },
    {
     "name": "stderr",
     "output_type": "stream",
     "text": [
      "                                                                      \n",
      "\u001b[A                                                                       \n",
      "chunk:   0%|          | 2/1985 [1:08:56<1139:08:34, 2068.04s/it, now=None]\u001b[A\n",
      "\u001b[A                                                                       \n",
      "chunk:   0%|          | 2/1985 [1:08:56<1139:08:41, 2068.04s/it, now=None]\u001b[A"
     ]
    },
    {
     "name": "stdout",
     "output_type": "stream",
     "text": [
      "MoviePy - Done.\n",
      "Moviepy - Writing video C:\\Users\\Abhishek Maurya\\Desktop\\strt\\trim\\clip_66.mp4\n",
      "\n"
     ]
    },
    {
     "name": "stderr",
     "output_type": "stream",
     "text": [
      "                                                                 \n",
      "\u001b[A                                                                       \n",
      "chunk:   0%|          | 2/1985 [1:14:35<1232:30:11, 2237.52s/it, now=None]\u001b[A\n",
      "\u001b[A                                                                       \n",
      "chunk:   0%|          | 2/1985 [1:14:35<1232:30:17, 2237.53s/it, now=None]\u001b[A\n",
      "\u001b[A                                                                       \n",
      "chunk:   0%|          | 2/1985 [1:14:35<1232:30:21, 2237.53s/it, now=None]\u001b[A\n",
      "\u001b[A                                                                       \n",
      "chunk:   0%|          | 2/1985 [1:14:35<1232:30:25, 2237.53s/it, now=None]\u001b[A"
     ]
    },
    {
     "name": "stdout",
     "output_type": "stream",
     "text": [
      "Moviepy - Done !\n",
      "Moviepy - video ready C:\\Users\\Abhishek Maurya\\Desktop\\strt\\trim\\clip_66.mp4\n",
      "Moviepy - Building video C:\\Users\\Abhishek Maurya\\Desktop\\strt\\trim\\clip_67.mp4.\n",
      "MoviePy - Writing audio in clip_67TEMP_MPY_wvf_snd.mp3\n"
     ]
    },
    {
     "name": "stderr",
     "output_type": "stream",
     "text": [
      "                                                                      \n",
      "\u001b[A                                                                       \n",
      "chunk:   0%|          | 2/1985 [1:14:37<1233:14:08, 2238.85s/it, now=None]\u001b[A\n",
      "\u001b[A                                                                       \n",
      "chunk:   0%|          | 2/1985 [1:14:37<1233:14:23, 2238.86s/it, now=None]\u001b[A"
     ]
    },
    {
     "name": "stdout",
     "output_type": "stream",
     "text": [
      "MoviePy - Done.\n",
      "Moviepy - Writing video C:\\Users\\Abhishek Maurya\\Desktop\\strt\\trim\\clip_67.mp4\n",
      "\n"
     ]
    },
    {
     "name": "stderr",
     "output_type": "stream",
     "text": [
      "                                                                \n",
      "\u001b[A                                                                       \n",
      "chunk:   0%|          | 2/1985 [1:15:25<1246:19:15, 2262.61s/it, now=None]\u001b[A\n",
      "\u001b[A                                                                       \n",
      "chunk:   0%|          | 2/1985 [1:15:25<1246:19:20, 2262.61s/it, now=None]\u001b[A\n",
      "\u001b[A                                                                       \n",
      "chunk:   0%|          | 2/1985 [1:15:25<1246:19:25, 2262.61s/it, now=None]\u001b[A\n",
      "\u001b[A                                                                       \n",
      "chunk:   0%|          | 2/1985 [1:15:25<1246:19:25, 2262.61s/it, now=None]\u001b[A"
     ]
    },
    {
     "name": "stdout",
     "output_type": "stream",
     "text": [
      "Moviepy - Done !\n",
      "Moviepy - video ready C:\\Users\\Abhishek Maurya\\Desktop\\strt\\trim\\clip_67.mp4\n",
      "Moviepy - Building video C:\\Users\\Abhishek Maurya\\Desktop\\strt\\trim\\clip_68.mp4.\n",
      "MoviePy - Writing audio in clip_68TEMP_MPY_wvf_snd.mp3\n"
     ]
    },
    {
     "name": "stderr",
     "output_type": "stream",
     "text": [
      "                                                                      \n",
      "\u001b[A                                                                       \n",
      "chunk:   0%|          | 2/1985 [1:15:27<1246:55:04, 2263.69s/it, now=None]\u001b[A\n",
      "\u001b[A                                                                       \n",
      "chunk:   0%|          | 2/1985 [1:15:27<1246:55:04, 2263.69s/it, now=None]\u001b[A"
     ]
    },
    {
     "name": "stdout",
     "output_type": "stream",
     "text": [
      "MoviePy - Done.\n",
      "Moviepy - Writing video C:\\Users\\Abhishek Maurya\\Desktop\\strt\\trim\\clip_68.mp4\n",
      "\n"
     ]
    },
    {
     "name": "stderr",
     "output_type": "stream",
     "text": [
      "                                                                \n",
      "\u001b[A                                                                       \n",
      "chunk:   0%|          | 2/1985 [1:16:16<1260:19:19, 2288.03s/it, now=None]\u001b[A\n",
      "\u001b[A                                                                       \n",
      "chunk:   0%|          | 2/1985 [1:16:16<1260:19:25, 2288.03s/it, now=None]\u001b[A\n",
      "\u001b[A                                                                       \n",
      "chunk:   0%|          | 2/1985 [1:16:16<1260:19:29, 2288.03s/it, now=None]\u001b[A\n",
      "\u001b[A                                                                       \n",
      "chunk:   0%|          | 2/1985 [1:16:16<1260:19:29, 2288.03s/it, now=None]\u001b[A"
     ]
    },
    {
     "name": "stdout",
     "output_type": "stream",
     "text": [
      "Moviepy - Done !\n",
      "Moviepy - video ready C:\\Users\\Abhishek Maurya\\Desktop\\strt\\trim\\clip_68.mp4\n",
      "Moviepy - Building video C:\\Users\\Abhishek Maurya\\Desktop\\strt\\trim\\clip_69.mp4.\n",
      "MoviePy - Writing audio in clip_69TEMP_MPY_wvf_snd.mp3\n"
     ]
    },
    {
     "name": "stderr",
     "output_type": "stream",
     "text": [
      "                                                                      \n",
      "\u001b[A                                                                       \n",
      "chunk:   0%|          | 2/1985 [1:16:17<1260:50:56, 2288.98s/it, now=None]\u001b[A\n",
      "\u001b[A                                                                       \n",
      "chunk:   0%|          | 2/1985 [1:16:17<1260:51:00, 2288.99s/it, now=None]\u001b[A"
     ]
    },
    {
     "name": "stdout",
     "output_type": "stream",
     "text": [
      "MoviePy - Done.\n",
      "Moviepy - Writing video C:\\Users\\Abhishek Maurya\\Desktop\\strt\\trim\\clip_69.mp4\n",
      "\n"
     ]
    },
    {
     "name": "stderr",
     "output_type": "stream",
     "text": [
      "                                                                \n",
      "\u001b[A                                                                       \n",
      "chunk:   0%|          | 2/1985 [1:17:03<1273:15:06, 2311.50s/it, now=None]\u001b[A\n",
      "\u001b[A                                                                       \n",
      "chunk:   0%|          | 2/1985 [1:17:03<1273:15:09, 2311.50s/it, now=None]\u001b[A\n",
      "\u001b[A                                                                       \n",
      "chunk:   0%|          | 2/1985 [1:17:03<1273:15:13, 2311.50s/it, now=None]\u001b[A\n",
      "\u001b[A                                                                       \n",
      "chunk:   0%|          | 2/1985 [1:17:03<1273:15:15, 2311.51s/it, now=None]\u001b[A"
     ]
    },
    {
     "name": "stdout",
     "output_type": "stream",
     "text": [
      "Moviepy - Done !\n",
      "Moviepy - video ready C:\\Users\\Abhishek Maurya\\Desktop\\strt\\trim\\clip_69.mp4\n",
      "Moviepy - Building video C:\\Users\\Abhishek Maurya\\Desktop\\strt\\trim\\clip_70.mp4.\n",
      "MoviePy - Writing audio in clip_70TEMP_MPY_wvf_snd.mp3\n"
     ]
    },
    {
     "name": "stderr",
     "output_type": "stream",
     "text": [
      "                                                                     \n",
      "\u001b[A                                                                       \n",
      "chunk:   0%|          | 2/1985 [1:17:05<1273:56:24, 2312.75s/it, now=None]\u001b[A\n",
      "\u001b[A                                                                       \n",
      "chunk:   0%|          | 2/1985 [1:17:05<1273:56:27, 2312.75s/it, now=None]\u001b[A"
     ]
    },
    {
     "name": "stdout",
     "output_type": "stream",
     "text": [
      "MoviePy - Done.\n",
      "Moviepy - Writing video C:\\Users\\Abhishek Maurya\\Desktop\\strt\\trim\\clip_70.mp4\n",
      "\n"
     ]
    },
    {
     "name": "stderr",
     "output_type": "stream",
     "text": [
      "                                                                \n",
      "\u001b[A                                                                       \n",
      "chunk:   0%|          | 2/1985 [1:17:50<1286:22:12, 2335.32s/it, now=None]\u001b[A\n",
      "\u001b[A                                                                       \n",
      "chunk:   0%|          | 2/1985 [1:17:50<1286:22:28, 2335.32s/it, now=None]\u001b[A\n",
      "\u001b[A                                                                       \n",
      "chunk:   0%|          | 2/1985 [1:17:50<1286:22:29, 2335.33s/it, now=None]\u001b[A\n",
      "\u001b[A                                                                       \n",
      "chunk:   0%|          | 2/1985 [1:17:50<1286:22:33, 2335.33s/it, now=None]\u001b[A"
     ]
    },
    {
     "name": "stdout",
     "output_type": "stream",
     "text": [
      "Moviepy - Done !\n",
      "Moviepy - video ready C:\\Users\\Abhishek Maurya\\Desktop\\strt\\trim\\clip_70.mp4\n",
      "Moviepy - Building video C:\\Users\\Abhishek Maurya\\Desktop\\strt\\trim\\clip_71.mp4.\n",
      "MoviePy - Writing audio in clip_71TEMP_MPY_wvf_snd.mp3\n"
     ]
    },
    {
     "name": "stderr",
     "output_type": "stream",
     "text": [
      "                                                                      \n",
      "\u001b[A                                                                       \n",
      "chunk:   0%|          | 2/1985 [1:17:52<1286:52:11, 2336.22s/it, now=None]\u001b[A\n",
      "\u001b[A                                                                       \n",
      "chunk:   0%|          | 2/1985 [1:17:52<1286:52:15, 2336.23s/it, now=None]\u001b[A"
     ]
    },
    {
     "name": "stdout",
     "output_type": "stream",
     "text": [
      "MoviePy - Done.\n",
      "Moviepy - Writing video C:\\Users\\Abhishek Maurya\\Desktop\\strt\\trim\\clip_71.mp4\n",
      "\n"
     ]
    },
    {
     "name": "stderr",
     "output_type": "stream",
     "text": [
      "                                                                \n",
      "\u001b[A                                                                       \n",
      "chunk:   0%|          | 2/1985 [1:18:31<1297:38:55, 2355.79s/it, now=None]\u001b[A\n",
      "\u001b[A                                                                       \n",
      "chunk:   0%|          | 2/1985 [1:18:31<1297:39:00, 2355.79s/it, now=None]\u001b[A\n",
      "\u001b[A                                                                       \n",
      "chunk:   0%|          | 2/1985 [1:18:31<1297:39:03, 2355.80s/it, now=None]\u001b[A\n",
      "\u001b[A                                                                       \n",
      "chunk:   0%|          | 2/1985 [1:18:31<1297:39:07, 2355.80s/it, now=None]\u001b[A"
     ]
    },
    {
     "name": "stdout",
     "output_type": "stream",
     "text": [
      "Moviepy - Done !\n",
      "Moviepy - video ready C:\\Users\\Abhishek Maurya\\Desktop\\strt\\trim\\clip_71.mp4\n",
      "Moviepy - Building video C:\\Users\\Abhishek Maurya\\Desktop\\strt\\trim\\clip_72.mp4.\n",
      "MoviePy - Writing audio in clip_72TEMP_MPY_wvf_snd.mp3\n"
     ]
    },
    {
     "name": "stderr",
     "output_type": "stream",
     "text": [
      "                                                                      \n",
      "\u001b[A                                                                       \n",
      "chunk:   0%|          | 2/1985 [1:18:33<1298:17:10, 2356.95s/it, now=None]\u001b[A\n",
      "\u001b[A                                                                       \n",
      "chunk:   0%|          | 2/1985 [1:18:33<1298:17:16, 2356.95s/it, now=None]\u001b[A"
     ]
    },
    {
     "name": "stdout",
     "output_type": "stream",
     "text": [
      "MoviePy - Done.\n",
      "Moviepy - Writing video C:\\Users\\Abhishek Maurya\\Desktop\\strt\\trim\\clip_72.mp4\n",
      "\n"
     ]
    },
    {
     "name": "stderr",
     "output_type": "stream",
     "text": [
      "                                                                \n",
      "\u001b[A                                                                       \n",
      "chunk:   0%|          | 2/1985 [1:19:12<1308:48:28, 2376.05s/it, now=None]\u001b[A\n",
      "\u001b[A                                                                       \n",
      "chunk:   0%|          | 2/1985 [1:19:12<1308:48:38, 2376.06s/it, now=None]\u001b[A\n",
      "\u001b[A                                                                       \n",
      "chunk:   0%|          | 2/1985 [1:19:12<1308:48:39, 2376.06s/it, now=None]\u001b[A\n",
      "\u001b[A                                                                       \n",
      "chunk:   0%|          | 2/1985 [1:19:12<1308:48:43, 2376.06s/it, now=None]\u001b[A"
     ]
    },
    {
     "name": "stdout",
     "output_type": "stream",
     "text": [
      "Moviepy - Done !\n",
      "Moviepy - video ready C:\\Users\\Abhishek Maurya\\Desktop\\strt\\trim\\clip_72.mp4\n",
      "Moviepy - Building video C:\\Users\\Abhishek Maurya\\Desktop\\strt\\trim\\clip_73.mp4.\n",
      "MoviePy - Writing audio in clip_73TEMP_MPY_wvf_snd.mp3\n"
     ]
    },
    {
     "name": "stderr",
     "output_type": "stream",
     "text": [
      "                                                                      \n",
      "\u001b[A                                                                       \n",
      "chunk:   0%|          | 2/1985 [1:19:13<1309:19:41, 2377.00s/it, now=None]\u001b[A\n",
      "\u001b[A                                                                       \n",
      "chunk:   0%|          | 2/1985 [1:19:14<1309:19:51, 2377.00s/it, now=None]\u001b[A"
     ]
    },
    {
     "name": "stdout",
     "output_type": "stream",
     "text": [
      "MoviePy - Done.\n",
      "Moviepy - Writing video C:\\Users\\Abhishek Maurya\\Desktop\\strt\\trim\\clip_73.mp4\n",
      "\n"
     ]
    },
    {
     "name": "stderr",
     "output_type": "stream",
     "text": [
      "                                                                \n",
      "\u001b[A                                                                       \n",
      "chunk:   0%|          | 2/1985 [1:19:53<1320:16:06, 2396.86s/it, now=None]\u001b[A\n",
      "\u001b[A                                                                       \n",
      "chunk:   0%|          | 2/1985 [1:19:53<1320:16:06, 2396.86s/it, now=None]\u001b[A\n",
      "\u001b[A                                                                       \n",
      "chunk:   0%|          | 2/1985 [1:19:53<1320:16:21, 2396.86s/it, now=None]\u001b[A\n",
      "\u001b[A                                                                       \n",
      "chunk:   0%|          | 2/1985 [1:19:53<1320:16:21, 2396.86s/it, now=None]\u001b[A"
     ]
    },
    {
     "name": "stdout",
     "output_type": "stream",
     "text": [
      "Moviepy - Done !\n",
      "Moviepy - video ready C:\\Users\\Abhishek Maurya\\Desktop\\strt\\trim\\clip_73.mp4\n",
      "Moviepy - Building video C:\\Users\\Abhishek Maurya\\Desktop\\strt\\trim\\clip_74.mp4.\n",
      "MoviePy - Writing audio in clip_74TEMP_MPY_wvf_snd.mp3\n"
     ]
    },
    {
     "name": "stderr",
     "output_type": "stream",
     "text": [
      "                                                                      \n",
      "\u001b[A                                                                       \n",
      "chunk:   0%|          | 2/1985 [1:19:55<1320:49:13, 2397.86s/it, now=None]\u001b[A\n",
      "\u001b[A                                                                       \n",
      "chunk:   0%|          | 2/1985 [1:19:55<1320:49:26, 2397.86s/it, now=None]\u001b[A"
     ]
    },
    {
     "name": "stdout",
     "output_type": "stream",
     "text": [
      "MoviePy - Done.\n",
      "Moviepy - Writing video C:\\Users\\Abhishek Maurya\\Desktop\\strt\\trim\\clip_74.mp4\n",
      "\n"
     ]
    },
    {
     "name": "stderr",
     "output_type": "stream",
     "text": [
      "                                                                \n",
      "\u001b[A                                                                       \n",
      "chunk:   0%|          | 2/1985 [1:20:48<1335:29:34, 2424.50s/it, now=None]\u001b[A\n",
      "\u001b[A                                                                       \n",
      "chunk:   0%|          | 2/1985 [1:20:48<1335:29:38, 2424.50s/it, now=None]\u001b[A\n",
      "\u001b[A                                                                       \n",
      "chunk:   0%|          | 2/1985 [1:20:49<1335:29:43, 2424.50s/it, now=None]\u001b[A\n",
      "\u001b[A                                                                       \n",
      "chunk:   0%|          | 2/1985 [1:20:49<1335:29:47, 2424.50s/it, now=None]\u001b[A"
     ]
    },
    {
     "name": "stdout",
     "output_type": "stream",
     "text": [
      "Moviepy - Done !\n",
      "Moviepy - video ready C:\\Users\\Abhishek Maurya\\Desktop\\strt\\trim\\clip_74.mp4\n",
      "Moviepy - Building video C:\\Users\\Abhishek Maurya\\Desktop\\strt\\trim\\clip_75.mp4.\n",
      "MoviePy - Writing audio in clip_75TEMP_MPY_wvf_snd.mp3\n"
     ]
    },
    {
     "name": "stderr",
     "output_type": "stream",
     "text": [
      "                                                                      \n",
      "\u001b[A                                                                       \n",
      "chunk:   0%|          | 2/1985 [1:20:50<1336:02:36, 2425.49s/it, now=None]\u001b[A\n",
      "\u001b[A                                                                       \n",
      "chunk:   0%|          | 2/1985 [1:20:50<1336:02:46, 2425.50s/it, now=None]\u001b[A"
     ]
    },
    {
     "name": "stdout",
     "output_type": "stream",
     "text": [
      "MoviePy - Done.\n",
      "Moviepy - Writing video C:\\Users\\Abhishek Maurya\\Desktop\\strt\\trim\\clip_75.mp4\n",
      "\n"
     ]
    },
    {
     "name": "stderr",
     "output_type": "stream",
     "text": [
      "                                                                \n",
      "\u001b[A                                                                       \n",
      "chunk:   0%|          | 2/1985 [1:21:38<1349:10:55, 2449.35s/it, now=None]\u001b[A\n",
      "\u001b[A                                                                       \n",
      "chunk:   0%|          | 2/1985 [1:21:38<1349:11:01, 2449.35s/it, now=None]\u001b[A\n",
      "\u001b[A                                                                       \n",
      "chunk:   0%|          | 2/1985 [1:21:38<1349:11:04, 2449.35s/it, now=None]\u001b[A\n",
      "\u001b[A                                                                       \n",
      "chunk:   0%|          | 2/1985 [1:21:38<1349:11:07, 2449.35s/it, now=None]\u001b[A"
     ]
    },
    {
     "name": "stdout",
     "output_type": "stream",
     "text": [
      "Moviepy - Done !\n",
      "Moviepy - video ready C:\\Users\\Abhishek Maurya\\Desktop\\strt\\trim\\clip_75.mp4\n",
      "Moviepy - Building video C:\\Users\\Abhishek Maurya\\Desktop\\strt\\trim\\clip_76.mp4.\n",
      "MoviePy - Writing audio in clip_76TEMP_MPY_wvf_snd.mp3\n"
     ]
    },
    {
     "name": "stderr",
     "output_type": "stream",
     "text": [
      "                                                                      \n",
      "\u001b[A                                                                       \n",
      "chunk:   0%|          | 2/1985 [1:21:40<1349:43:30, 2450.33s/it, now=None]\u001b[A\n",
      "\u001b[A                                                                       \n",
      "chunk:   0%|          | 2/1985 [1:21:40<1349:43:33, 2450.33s/it, now=None]\u001b[A"
     ]
    },
    {
     "name": "stdout",
     "output_type": "stream",
     "text": [
      "MoviePy - Done.\n",
      "Moviepy - Writing video C:\\Users\\Abhishek Maurya\\Desktop\\strt\\trim\\clip_76.mp4\n",
      "\n"
     ]
    },
    {
     "name": "stderr",
     "output_type": "stream",
     "text": [
      "                                                                \n",
      "\u001b[A                                                                       \n",
      "chunk:   0%|          | 2/1985 [1:22:39<1365:53:27, 2479.68s/it, now=None]\u001b[A\n",
      "\u001b[A                                                                       \n",
      "chunk:   0%|          | 2/1985 [1:22:39<1365:53:45, 2479.69s/it, now=None]\u001b[A\n",
      "\u001b[A                                                                       \n",
      "chunk:   0%|          | 2/1985 [1:22:39<1365:53:50, 2479.69s/it, now=None]\u001b[A\n",
      "\u001b[A                                                                       \n",
      "chunk:   0%|          | 2/1985 [1:22:39<1365:53:53, 2479.69s/it, now=None]\u001b[A"
     ]
    },
    {
     "name": "stdout",
     "output_type": "stream",
     "text": [
      "Moviepy - Done !\n",
      "Moviepy - video ready C:\\Users\\Abhishek Maurya\\Desktop\\strt\\trim\\clip_76.mp4\n",
      "Moviepy - Building video C:\\Users\\Abhishek Maurya\\Desktop\\strt\\trim\\clip_77.mp4.\n",
      "MoviePy - Writing audio in clip_77TEMP_MPY_wvf_snd.mp3\n"
     ]
    },
    {
     "name": "stderr",
     "output_type": "stream",
     "text": [
      "                                                                      \n",
      "\u001b[A                                                                       \n",
      "chunk:   0%|          | 2/1985 [1:22:41<1366:24:45, 2480.63s/it, now=None]\u001b[A\n",
      "\u001b[A                                                                       \n",
      "chunk:   0%|          | 2/1985 [1:22:41<1366:24:47, 2480.63s/it, now=None]\u001b[A"
     ]
    },
    {
     "name": "stdout",
     "output_type": "stream",
     "text": [
      "MoviePy - Done.\n",
      "Moviepy - Writing video C:\\Users\\Abhishek Maurya\\Desktop\\strt\\trim\\clip_77.mp4\n",
      "\n"
     ]
    },
    {
     "name": "stderr",
     "output_type": "stream",
     "text": [
      "                                                                \n",
      "\u001b[A                                                                       \n",
      "chunk:   0%|          | 2/1985 [1:23:28<1379:28:23, 2504.34s/it, now=None]\u001b[A\n",
      "\u001b[A                                                                       \n",
      "chunk:   0%|          | 2/1985 [1:23:28<1379:28:29, 2504.34s/it, now=None]\u001b[A\n",
      "\u001b[A                                                                       \n",
      "chunk:   0%|          | 2/1985 [1:23:28<1379:28:32, 2504.34s/it, now=None]\u001b[A\n",
      "\u001b[A                                                                       \n",
      "chunk:   0%|          | 2/1985 [1:23:28<1379:28:34, 2504.34s/it, now=None]\u001b[A"
     ]
    },
    {
     "name": "stdout",
     "output_type": "stream",
     "text": [
      "Moviepy - Done !\n",
      "Moviepy - video ready C:\\Users\\Abhishek Maurya\\Desktop\\strt\\trim\\clip_77.mp4\n",
      "Moviepy - Building video C:\\Users\\Abhishek Maurya\\Desktop\\strt\\trim\\clip_78.mp4.\n",
      "MoviePy - Writing audio in clip_78TEMP_MPY_wvf_snd.mp3\n"
     ]
    },
    {
     "name": "stderr",
     "output_type": "stream",
     "text": [
      "                                                                      \n",
      "\u001b[A                                                                       \n",
      "chunk:   0%|          | 2/1985 [1:23:30<1380:01:41, 2505.35s/it, now=None]\u001b[A\n",
      "\u001b[A                                                                       \n",
      "chunk:   0%|          | 2/1985 [1:23:30<1380:01:44, 2505.35s/it, now=None]\u001b[A"
     ]
    },
    {
     "name": "stdout",
     "output_type": "stream",
     "text": [
      "MoviePy - Done.\n",
      "Moviepy - Writing video C:\\Users\\Abhishek Maurya\\Desktop\\strt\\trim\\clip_78.mp4\n",
      "\n"
     ]
    },
    {
     "name": "stderr",
     "output_type": "stream",
     "text": [
      "                                                                \n",
      "\u001b[A                                                                       \n",
      "chunk:   0%|          | 2/1985 [1:24:27<1395:37:12, 2533.65s/it, now=None]\u001b[A\n",
      "\u001b[A                                                                       \n",
      "chunk:   0%|          | 2/1985 [1:24:27<1395:37:35, 2533.66s/it, now=None]\u001b[A\n",
      "\u001b[A                                                                       \n",
      "chunk:   0%|          | 2/1985 [1:24:27<1395:37:39, 2533.67s/it, now=None]\u001b[A\n",
      "\u001b[A                                                                       \n",
      "chunk:   0%|          | 2/1985 [1:24:27<1395:37:45, 2533.67s/it, now=None]\u001b[A"
     ]
    },
    {
     "name": "stdout",
     "output_type": "stream",
     "text": [
      "Moviepy - Done !\n",
      "Moviepy - video ready C:\\Users\\Abhishek Maurya\\Desktop\\strt\\trim\\clip_78.mp4\n",
      "Moviepy - Building video C:\\Users\\Abhishek Maurya\\Desktop\\strt\\trim\\clip_79.mp4.\n",
      "MoviePy - Writing audio in clip_79TEMP_MPY_wvf_snd.mp3\n"
     ]
    },
    {
     "name": "stderr",
     "output_type": "stream",
     "text": [
      "                                                                      \n",
      "\u001b[A                                                                       \n",
      "chunk:   0%|          | 2/1985 [1:24:29<1396:09:34, 2534.63s/it, now=None]\u001b[A\n",
      "\u001b[A                                                                       \n",
      "chunk:   0%|          | 2/1985 [1:24:29<1396:09:42, 2534.64s/it, now=None]\u001b[A"
     ]
    },
    {
     "name": "stdout",
     "output_type": "stream",
     "text": [
      "MoviePy - Done.\n",
      "Moviepy - Writing video C:\\Users\\Abhishek Maurya\\Desktop\\strt\\trim\\clip_79.mp4\n",
      "\n"
     ]
    },
    {
     "name": "stderr",
     "output_type": "stream",
     "text": [
      "                                                                \n",
      "\u001b[A                                                                       \n",
      "chunk:   0%|          | 2/1985 [1:25:21<1410:30:41, 2560.69s/it, now=None]\u001b[A\n",
      "\u001b[A                                                                       \n",
      "chunk:   0%|          | 2/1985 [1:25:21<1410:30:49, 2560.69s/it, now=None]\u001b[A\n",
      "\u001b[A                                                                       \n",
      "chunk:   0%|          | 2/1985 [1:25:21<1410:30:53, 2560.69s/it, now=None]\u001b[A\n",
      "\u001b[A                                                                       \n",
      "chunk:   0%|          | 2/1985 [1:25:21<1410:30:53, 2560.69s/it, now=None]\u001b[A"
     ]
    },
    {
     "name": "stdout",
     "output_type": "stream",
     "text": [
      "Moviepy - Done !\n",
      "Moviepy - video ready C:\\Users\\Abhishek Maurya\\Desktop\\strt\\trim\\clip_79.mp4\n",
      "Moviepy - Building video C:\\Users\\Abhishek Maurya\\Desktop\\strt\\trim\\clip_80.mp4.\n",
      "MoviePy - Writing audio in clip_80TEMP_MPY_wvf_snd.mp3\n"
     ]
    },
    {
     "name": "stderr",
     "output_type": "stream",
     "text": [
      "                                                                     \n",
      "\u001b[A                                                                       \n",
      "chunk:   0%|          | 2/1985 [1:25:23<1411:12:13, 2561.94s/it, now=None]\u001b[A\n",
      "\u001b[A                                                                       \n",
      "chunk:   0%|          | 2/1985 [1:25:23<1411:12:18, 2561.95s/it, now=None]\u001b[A"
     ]
    },
    {
     "name": "stdout",
     "output_type": "stream",
     "text": [
      "MoviePy - Done.\n",
      "Moviepy - Writing video C:\\Users\\Abhishek Maurya\\Desktop\\strt\\trim\\clip_80.mp4\n",
      "\n"
     ]
    },
    {
     "name": "stderr",
     "output_type": "stream",
     "text": [
      "                                                                \n",
      "\u001b[A                                                                       \n",
      "chunk:   0%|          | 2/1985 [1:26:26<1428:26:15, 2593.23s/it, now=None]\u001b[A\n",
      "\u001b[A                                                                       \n",
      "chunk:   0%|          | 2/1985 [1:26:26<1428:26:19, 2593.23s/it, now=None]\u001b[A\n",
      "\u001b[A                                                                       \n",
      "chunk:   0%|          | 2/1985 [1:26:26<1428:26:22, 2593.23s/it, now=None]\u001b[A\n",
      "\u001b[A                                                                       \n",
      "chunk:   0%|          | 2/1985 [1:26:26<1428:26:31, 2593.24s/it, now=None]\u001b[A"
     ]
    },
    {
     "name": "stdout",
     "output_type": "stream",
     "text": [
      "Moviepy - Done !\n",
      "Moviepy - video ready C:\\Users\\Abhishek Maurya\\Desktop\\strt\\trim\\clip_80.mp4\n",
      "Moviepy - Building video C:\\Users\\Abhishek Maurya\\Desktop\\strt\\trim\\clip_81.mp4.\n",
      "MoviePy - Writing audio in clip_81TEMP_MPY_wvf_snd.mp3\n"
     ]
    },
    {
     "name": "stderr",
     "output_type": "stream",
     "text": [
      "                                                                     \n",
      "\u001b[A                                                                       \n",
      "chunk:   0%|          | 2/1985 [1:26:29<1429:08:42, 2594.51s/it, now=None]\u001b[A\n",
      "\u001b[A                                                                       \n",
      "chunk:   0%|          | 2/1985 [1:26:29<1429:08:47, 2594.52s/it, now=None]\u001b[A"
     ]
    },
    {
     "name": "stdout",
     "output_type": "stream",
     "text": [
      "MoviePy - Done.\n",
      "Moviepy - Writing video C:\\Users\\Abhishek Maurya\\Desktop\\strt\\trim\\clip_81.mp4\n",
      "\n"
     ]
    },
    {
     "name": "stderr",
     "output_type": "stream",
     "text": [
      "                                                                \n",
      "\u001b[A                                                                       \n",
      "chunk:   0%|          | 2/1985 [1:27:28<1445:39:00, 2624.48s/it, now=None]\u001b[A\n",
      "\u001b[A                                                                       \n",
      "chunk:   0%|          | 2/1985 [1:27:28<1445:39:03, 2624.48s/it, now=None]\u001b[A\n",
      "\u001b[A                                                                       \n",
      "chunk:   0%|          | 2/1985 [1:27:28<1445:39:06, 2624.48s/it, now=None]\u001b[A\n",
      "\u001b[A                                                                       \n",
      "chunk:   0%|          | 2/1985 [1:27:28<1445:39:10, 2624.48s/it, now=None]\u001b[A"
     ]
    },
    {
     "name": "stdout",
     "output_type": "stream",
     "text": [
      "Moviepy - Done !\n",
      "Moviepy - video ready C:\\Users\\Abhishek Maurya\\Desktop\\strt\\trim\\clip_81.mp4\n",
      "Moviepy - Building video C:\\Users\\Abhishek Maurya\\Desktop\\strt\\trim\\clip_82.mp4.\n",
      "MoviePy - Writing audio in clip_82TEMP_MPY_wvf_snd.mp3\n"
     ]
    },
    {
     "name": "stderr",
     "output_type": "stream",
     "text": [
      "                                                                      \n",
      "\u001b[A                                                                       \n",
      "chunk:   0%|          | 2/1985 [1:27:31<1446:16:53, 2625.62s/it, now=None]\u001b[A\n",
      "\u001b[A                                                                       \n",
      "chunk:   0%|          | 2/1985 [1:27:31<1446:17:13, 2625.63s/it, now=None]\u001b[A"
     ]
    },
    {
     "name": "stdout",
     "output_type": "stream",
     "text": [
      "MoviePy - Done.\n",
      "Moviepy - Writing video C:\\Users\\Abhishek Maurya\\Desktop\\strt\\trim\\clip_82.mp4\n",
      "\n"
     ]
    },
    {
     "name": "stderr",
     "output_type": "stream",
     "text": [
      "                                                                \n",
      "\u001b[A                                                                       \n",
      "chunk:   0%|          | 2/1985 [1:28:21<1459:59:52, 2650.53s/it, now=None]\u001b[A\n",
      "\u001b[A                                                                       \n",
      "chunk:   0%|          | 2/1985 [1:28:21<1459:59:56, 2650.53s/it, now=None]\u001b[A\n",
      "\u001b[A                                                                       \n",
      "chunk:   0%|          | 2/1985 [1:28:21<1459:59:58, 2650.53s/it, now=None]\u001b[A\n",
      "\u001b[A                                                                       \n",
      "chunk:   0%|          | 2/1985 [1:28:21<1460:00:07, 2650.53s/it, now=None]\u001b[A"
     ]
    },
    {
     "name": "stdout",
     "output_type": "stream",
     "text": [
      "Moviepy - Done !\n",
      "Moviepy - video ready C:\\Users\\Abhishek Maurya\\Desktop\\strt\\trim\\clip_82.mp4\n",
      "Moviepy - Building video C:\\Users\\Abhishek Maurya\\Desktop\\strt\\trim\\clip_83.mp4.\n",
      "MoviePy - Writing audio in clip_83TEMP_MPY_wvf_snd.mp3\n"
     ]
    },
    {
     "name": "stderr",
     "output_type": "stream",
     "text": [
      "                                                                     \n",
      "\u001b[A                                                                       \n",
      "chunk:   0%|          | 2/1985 [1:28:23<1460:45:08, 2651.90s/it, now=None]\u001b[A\n",
      "\u001b[A                                                                       \n",
      "chunk:   0%|          | 2/1985 [1:28:23<1460:45:22, 2651.90s/it, now=None]\u001b[A"
     ]
    },
    {
     "name": "stdout",
     "output_type": "stream",
     "text": [
      "MoviePy - Done.\n",
      "Moviepy - Writing video C:\\Users\\Abhishek Maurya\\Desktop\\strt\\trim\\clip_83.mp4\n",
      "\n"
     ]
    },
    {
     "name": "stderr",
     "output_type": "stream",
     "text": [
      "                                                                \n",
      "\u001b[A                                                                       \n",
      "chunk:   0%|          | 2/1985 [1:29:21<1476:38:46, 2680.75s/it, now=None]\u001b[A\n",
      "\u001b[A                                                                       \n",
      "chunk:   0%|          | 2/1985 [1:29:21<1476:38:50, 2680.75s/it, now=None]\u001b[A\n",
      "\u001b[A                                                                       \n",
      "chunk:   0%|          | 2/1985 [1:29:21<1476:38:53, 2680.75s/it, now=None]\u001b[A\n",
      "\u001b[A                                                                       \n",
      "chunk:   0%|          | 2/1985 [1:29:21<1476:38:59, 2680.76s/it, now=None]\u001b[A"
     ]
    },
    {
     "name": "stdout",
     "output_type": "stream",
     "text": [
      "Moviepy - Done !\n",
      "Moviepy - video ready C:\\Users\\Abhishek Maurya\\Desktop\\strt\\trim\\clip_83.mp4\n",
      "Moviepy - Building video C:\\Users\\Abhishek Maurya\\Desktop\\strt\\trim\\clip_84.mp4.\n",
      "MoviePy - Writing audio in clip_84TEMP_MPY_wvf_snd.mp3\n"
     ]
    },
    {
     "name": "stderr",
     "output_type": "stream",
     "text": [
      "                                                                      \n",
      "\u001b[A                                                                       \n",
      "chunk:   0%|          | 2/1985 [1:29:23<1477:17:05, 2681.91s/it, now=None]\u001b[A\n",
      "\u001b[A                                                                       \n",
      "chunk:   0%|          | 2/1985 [1:29:23<1477:17:05, 2681.91s/it, now=None]\u001b[A"
     ]
    },
    {
     "name": "stdout",
     "output_type": "stream",
     "text": [
      "MoviePy - Done.\n",
      "Moviepy - Writing video C:\\Users\\Abhishek Maurya\\Desktop\\strt\\trim\\clip_84.mp4\n",
      "\n"
     ]
    },
    {
     "name": "stderr",
     "output_type": "stream",
     "text": [
      "                                                                \n",
      "\u001b[A                                                                       \n",
      "chunk:   0%|          | 2/1985 [1:30:28<1495:07:45, 2714.30s/it, now=None]\u001b[A\n",
      "\u001b[A                                                                       \n",
      "chunk:   0%|          | 2/1985 [1:30:28<1495:07:56, 2714.31s/it, now=None]\u001b[A\n",
      "\u001b[A                                                                       \n",
      "chunk:   0%|          | 2/1985 [1:30:28<1495:08:02, 2714.31s/it, now=None]\u001b[A\n",
      "\u001b[A                                                                       \n",
      "chunk:   0%|          | 2/1985 [1:30:28<1495:08:02, 2714.31s/it, now=None]\u001b[A"
     ]
    },
    {
     "name": "stdout",
     "output_type": "stream",
     "text": [
      "Moviepy - Done !\n",
      "Moviepy - video ready C:\\Users\\Abhishek Maurya\\Desktop\\strt\\trim\\clip_84.mp4\n",
      "Moviepy - Building video C:\\Users\\Abhishek Maurya\\Desktop\\strt\\trim\\clip_85.mp4.\n",
      "MoviePy - Writing audio in clip_85TEMP_MPY_wvf_snd.mp3\n"
     ]
    },
    {
     "name": "stderr",
     "output_type": "stream",
     "text": [
      "                                                                     \n",
      "\u001b[A                                                                       \n",
      "chunk:   0%|          | 2/1985 [1:30:31<1495:48:38, 2715.54s/it, now=None]\u001b[A\n",
      "\u001b[A                                                                       \n",
      "chunk:   0%|          | 2/1985 [1:30:31<1495:48:48, 2715.55s/it, now=None]\u001b[A"
     ]
    },
    {
     "name": "stdout",
     "output_type": "stream",
     "text": [
      "MoviePy - Done.\n",
      "Moviepy - Writing video C:\\Users\\Abhishek Maurya\\Desktop\\strt\\trim\\clip_85.mp4\n",
      "\n"
     ]
    },
    {
     "name": "stderr",
     "output_type": "stream",
     "text": [
      "                                                                \n",
      "\u001b[A                                                                       \n",
      "chunk:   0%|          | 2/1985 [1:31:33<1512:52:32, 2746.52s/it, now=None]\u001b[A\n",
      "\u001b[A                                                                       \n",
      "chunk:   0%|          | 2/1985 [1:31:33<1512:52:34, 2746.52s/it, now=None]\u001b[A\n",
      "\u001b[A                                                                       \n",
      "chunk:   0%|          | 2/1985 [1:31:33<1512:52:34, 2746.52s/it, now=None]\u001b[A\n",
      "\u001b[A                                                                       \n",
      "chunk:   0%|          | 2/1985 [1:31:33<1512:53:03, 2746.54s/it, now=None]\u001b[A"
     ]
    },
    {
     "name": "stdout",
     "output_type": "stream",
     "text": [
      "Moviepy - Done !\n",
      "Moviepy - video ready C:\\Users\\Abhishek Maurya\\Desktop\\strt\\trim\\clip_85.mp4\n",
      "Moviepy - Building video C:\\Users\\Abhishek Maurya\\Desktop\\strt\\trim\\clip_86.mp4.\n",
      "MoviePy - Writing audio in clip_86TEMP_MPY_wvf_snd.mp3\n"
     ]
    },
    {
     "name": "stderr",
     "output_type": "stream",
     "text": [
      "                                                                     \n",
      "\u001b[A                                                                       \n",
      "chunk:   0%|          | 2/1985 [1:31:35<1513:36:33, 2747.85s/it, now=None]\u001b[A\n",
      "\u001b[A                                                                       \n",
      "chunk:   0%|          | 2/1985 [1:31:35<1513:36:33, 2747.85s/it, now=None]\u001b[A"
     ]
    },
    {
     "name": "stdout",
     "output_type": "stream",
     "text": [
      "MoviePy - Done.\n",
      "Moviepy - Writing video C:\\Users\\Abhishek Maurya\\Desktop\\strt\\trim\\clip_86.mp4\n",
      "\n"
     ]
    },
    {
     "name": "stderr",
     "output_type": "stream",
     "text": [
      "                                                                \n",
      "\u001b[A                                                                       \n",
      "chunk:   0%|          | 2/1985 [1:32:34<1529:55:52, 2777.48s/it, now=None]\u001b[A\n",
      "\u001b[A                                                                       \n",
      "chunk:   0%|          | 2/1985 [1:32:34<1529:56:10, 2777.49s/it, now=None]\u001b[A\n",
      "\u001b[A                                                                       \n",
      "chunk:   0%|          | 2/1985 [1:32:34<1529:56:10, 2777.49s/it, now=None]\u001b[A\n",
      "\u001b[A                                                                       \n",
      "chunk:   0%|          | 2/1985 [1:32:35<1529:56:27, 2777.50s/it, now=None]\u001b[A"
     ]
    },
    {
     "name": "stdout",
     "output_type": "stream",
     "text": [
      "Moviepy - Done !\n",
      "Moviepy - video ready C:\\Users\\Abhishek Maurya\\Desktop\\strt\\trim\\clip_86.mp4\n",
      "Moviepy - Building video C:\\Users\\Abhishek Maurya\\Desktop\\strt\\trim\\clip_87.mp4.\n",
      "MoviePy - Writing audio in clip_87TEMP_MPY_wvf_snd.mp3\n"
     ]
    },
    {
     "name": "stderr",
     "output_type": "stream",
     "text": [
      "                                                                     \n",
      "\u001b[A                                                                       \n",
      "chunk:   0%|          | 2/1985 [1:32:37<1530:38:18, 2778.77s/it, now=None]\u001b[A\n",
      "\u001b[A                                                                       \n",
      "chunk:   0%|          | 2/1985 [1:32:37<1530:38:18, 2778.77s/it, now=None]\u001b[A"
     ]
    },
    {
     "name": "stdout",
     "output_type": "stream",
     "text": [
      "MoviePy - Done.\n",
      "Moviepy - Writing video C:\\Users\\Abhishek Maurya\\Desktop\\strt\\trim\\clip_87.mp4\n",
      "\n"
     ]
    },
    {
     "name": "stderr",
     "output_type": "stream",
     "text": [
      "                                                                \n",
      "\u001b[A                                                                       \n",
      "chunk:   0%|          | 2/1985 [1:33:41<1548:15:12, 2810.75s/it, now=None]\u001b[A\n",
      "\u001b[A                                                                       \n",
      "chunk:   0%|          | 2/1985 [1:33:41<1548:15:27, 2810.76s/it, now=None]\u001b[A\n",
      "\u001b[A                                                                       \n",
      "chunk:   0%|          | 2/1985 [1:33:41<1548:15:32, 2810.76s/it, now=None]\u001b[A\n",
      "\u001b[A                                                                       \n",
      "chunk:   0%|          | 2/1985 [1:33:41<1548:15:42, 2810.76s/it, now=None]\u001b[A"
     ]
    },
    {
     "name": "stdout",
     "output_type": "stream",
     "text": [
      "Moviepy - Done !\n",
      "Moviepy - video ready C:\\Users\\Abhishek Maurya\\Desktop\\strt\\trim\\clip_87.mp4\n",
      "Moviepy - Building video C:\\Users\\Abhishek Maurya\\Desktop\\strt\\trim\\clip_88.mp4.\n",
      "MoviePy - Writing audio in clip_88TEMP_MPY_wvf_snd.mp3\n"
     ]
    },
    {
     "name": "stderr",
     "output_type": "stream",
     "text": [
      "                                                                     \n",
      "\u001b[A                                                                       \n",
      "chunk:   0%|          | 2/1985 [1:33:44<1549:04:19, 2812.23s/it, now=None]\u001b[A\n",
      "\u001b[A                                                                       \n",
      "chunk:   0%|          | 2/1985 [1:33:44<1549:04:27, 2812.24s/it, now=None]\u001b[A"
     ]
    },
    {
     "name": "stdout",
     "output_type": "stream",
     "text": [
      "MoviePy - Done.\n",
      "Moviepy - Writing video C:\\Users\\Abhishek Maurya\\Desktop\\strt\\trim\\clip_88.mp4\n",
      "\n"
     ]
    },
    {
     "name": "stderr",
     "output_type": "stream",
     "text": [
      "                                                                \n",
      "\u001b[A                                                                       \n",
      "chunk:   0%|          | 2/1985 [1:34:35<1563:10:50, 2837.85s/it, now=None]\u001b[A\n",
      "\u001b[A                                                                       \n",
      "chunk:   0%|          | 2/1985 [1:34:35<1563:11:07, 2837.86s/it, now=None]\u001b[A\n",
      "\u001b[A                                                                       \n",
      "chunk:   0%|          | 2/1985 [1:34:35<1563:11:09, 2837.86s/it, now=None]\u001b[A\n",
      "\u001b[A                                                                       \n",
      "chunk:   0%|          | 2/1985 [1:34:35<1563:11:10, 2837.86s/it, now=None]\u001b[A"
     ]
    },
    {
     "name": "stdout",
     "output_type": "stream",
     "text": [
      "Moviepy - Done !\n",
      "Moviepy - video ready C:\\Users\\Abhishek Maurya\\Desktop\\strt\\trim\\clip_88.mp4\n",
      "Moviepy - Building video C:\\Users\\Abhishek Maurya\\Desktop\\strt\\trim\\clip_89.mp4.\n",
      "MoviePy - Writing audio in clip_89TEMP_MPY_wvf_snd.mp3\n"
     ]
    },
    {
     "name": "stderr",
     "output_type": "stream",
     "text": [
      "                                                                      \n",
      "\u001b[A                                                                       \n",
      "chunk:   0%|          | 2/1985 [1:34:37<1563:47:48, 2838.97s/it, now=None]\u001b[A\n",
      "\u001b[A                                                                       \n",
      "chunk:   0%|          | 2/1985 [1:34:37<1563:47:56, 2838.97s/it, now=None]\u001b[A"
     ]
    },
    {
     "name": "stdout",
     "output_type": "stream",
     "text": [
      "MoviePy - Done.\n",
      "Moviepy - Writing video C:\\Users\\Abhishek Maurya\\Desktop\\strt\\trim\\clip_89.mp4\n",
      "\n"
     ]
    },
    {
     "name": "stderr",
     "output_type": "stream",
     "text": [
      "                                                                \n",
      "\u001b[A                                                                       \n",
      "chunk:   0%|          | 2/1985 [1:35:36<1580:00:12, 2868.39s/it, now=None]\u001b[A\n",
      "\u001b[A                                                                       \n",
      "chunk:   0%|          | 2/1985 [1:35:36<1580:00:28, 2868.40s/it, now=None]\u001b[A\n",
      "\u001b[A                                                                       \n",
      "chunk:   0%|          | 2/1985 [1:35:36<1580:00:42, 2868.40s/it, now=None]\u001b[A\n",
      "\u001b[A                                                                       \n",
      "chunk:   0%|          | 2/1985 [1:35:36<1580:00:48, 2868.41s/it, now=None]\u001b[A"
     ]
    },
    {
     "name": "stdout",
     "output_type": "stream",
     "text": [
      "Moviepy - Done !\n",
      "Moviepy - video ready C:\\Users\\Abhishek Maurya\\Desktop\\strt\\trim\\clip_89.mp4\n",
      "Moviepy - Building video C:\\Users\\Abhishek Maurya\\Desktop\\strt\\trim\\clip_90.mp4.\n",
      "MoviePy - Writing audio in clip_90TEMP_MPY_wvf_snd.mp3\n"
     ]
    },
    {
     "name": "stderr",
     "output_type": "stream",
     "text": [
      "                                                                     \n",
      "\u001b[A                                                                       \n",
      "chunk:   0%|          | 2/1985 [1:35:39<1580:45:00, 2869.74s/it, now=None]\u001b[A\n",
      "\u001b[A                                                                       \n",
      "chunk:   0%|          | 2/1985 [1:35:39<1580:45:08, 2869.75s/it, now=None]\u001b[A"
     ]
    },
    {
     "name": "stdout",
     "output_type": "stream",
     "text": [
      "MoviePy - Done.\n",
      "Moviepy - Writing video C:\\Users\\Abhishek Maurya\\Desktop\\strt\\trim\\clip_90.mp4\n",
      "\n"
     ]
    },
    {
     "name": "stderr",
     "output_type": "stream",
     "text": [
      "                                                                \n",
      "\u001b[A                                                                       \n",
      "chunk:   0%|          | 2/1985 [1:36:32<1595:27:18, 2896.44s/it, now=None]\u001b[A\n",
      "\u001b[A                                                                       \n",
      "chunk:   0%|          | 2/1985 [1:36:32<1595:27:18, 2896.44s/it, now=None]\u001b[A\n",
      "\u001b[A                                                                       \n",
      "chunk:   0%|          | 2/1985 [1:36:32<1595:27:18, 2896.44s/it, now=None]\u001b[A\n",
      "\u001b[A                                                                       \n",
      "chunk:   0%|          | 2/1985 [1:36:32<1595:27:36, 2896.45s/it, now=None]\u001b[A"
     ]
    },
    {
     "name": "stdout",
     "output_type": "stream",
     "text": [
      "Moviepy - Done !\n",
      "Moviepy - video ready C:\\Users\\Abhishek Maurya\\Desktop\\strt\\trim\\clip_90.mp4\n",
      "Moviepy - Building video C:\\Users\\Abhishek Maurya\\Desktop\\strt\\trim\\clip_91.mp4.\n",
      "MoviePy - Writing audio in clip_91TEMP_MPY_wvf_snd.mp3\n"
     ]
    },
    {
     "name": "stderr",
     "output_type": "stream",
     "text": [
      "                                                                     \n",
      "\u001b[A                                                                       \n",
      "chunk:   0%|          | 2/1985 [1:36:35<1596:12:09, 2897.80s/it, now=None]\u001b[A\n",
      "\u001b[A                                                                       \n",
      "chunk:   0%|          | 2/1985 [1:36:35<1596:12:11, 2897.80s/it, now=None]\u001b[A"
     ]
    },
    {
     "name": "stdout",
     "output_type": "stream",
     "text": [
      "MoviePy - Done.\n",
      "Moviepy - Writing video C:\\Users\\Abhishek Maurya\\Desktop\\strt\\trim\\clip_91.mp4\n",
      "\n"
     ]
    },
    {
     "name": "stderr",
     "output_type": "stream",
     "text": [
      "                                                                \n",
      "\u001b[A                                                                       \n",
      "chunk:   0%|          | 2/1985 [1:37:27<1610:35:42, 2923.92s/it, now=None]\u001b[A\n",
      "\u001b[A                                                                       \n",
      "chunk:   0%|          | 2/1985 [1:37:27<1610:35:47, 2923.93s/it, now=None]\u001b[A\n",
      "\u001b[A                                                                       \n",
      "chunk:   0%|          | 2/1985 [1:37:27<1610:35:52, 2923.93s/it, now=None]\u001b[A\n",
      "\u001b[A                                                                       \n",
      "chunk:   0%|          | 2/1985 [1:37:27<1610:35:52, 2923.93s/it, now=None]\u001b[A"
     ]
    },
    {
     "name": "stdout",
     "output_type": "stream",
     "text": [
      "Moviepy - Done !\n",
      "Moviepy - video ready C:\\Users\\Abhishek Maurya\\Desktop\\strt\\trim\\clip_91.mp4\n",
      "Moviepy - Building video C:\\Users\\Abhishek Maurya\\Desktop\\strt\\trim\\clip_92.mp4.\n",
      "MoviePy - Writing audio in clip_92TEMP_MPY_wvf_snd.mp3\n"
     ]
    },
    {
     "name": "stderr",
     "output_type": "stream",
     "text": [
      "                                                                     \n",
      "\u001b[A                                                                       \n",
      "chunk:   0%|          | 2/1985 [1:37:30<1611:20:06, 2925.27s/it, now=None]\u001b[A\n",
      "\u001b[A                                                                       \n",
      "chunk:   0%|          | 2/1985 [1:37:30<1611:20:12, 2925.27s/it, now=None]\u001b[A"
     ]
    },
    {
     "name": "stdout",
     "output_type": "stream",
     "text": [
      "MoviePy - Done.\n",
      "Moviepy - Writing video C:\\Users\\Abhishek Maurya\\Desktop\\strt\\trim\\clip_92.mp4\n",
      "\n"
     ]
    },
    {
     "name": "stderr",
     "output_type": "stream",
     "text": [
      "                                                                \n",
      "\u001b[A                                                                       \n",
      "chunk:   0%|          | 2/1985 [1:38:29<1627:26:19, 2954.50s/it, now=None]\u001b[A\n",
      "\u001b[A                                                                       \n",
      "chunk:   0%|          | 2/1985 [1:38:29<1627:26:26, 2954.51s/it, now=None]\u001b[A\n",
      "\u001b[A                                                                       \n",
      "chunk:   0%|          | 2/1985 [1:38:29<1627:26:30, 2954.51s/it, now=None]\u001b[A\n",
      "\u001b[A                                                                       \n",
      "chunk:   0%|          | 2/1985 [1:38:29<1627:26:30, 2954.51s/it, now=None]\u001b[A"
     ]
    },
    {
     "name": "stdout",
     "output_type": "stream",
     "text": [
      "Moviepy - Done !\n",
      "Moviepy - video ready C:\\Users\\Abhishek Maurya\\Desktop\\strt\\trim\\clip_92.mp4\n",
      "Moviepy - Building video C:\\Users\\Abhishek Maurya\\Desktop\\strt\\trim\\clip_93.mp4.\n",
      "MoviePy - Writing audio in clip_93TEMP_MPY_wvf_snd.mp3\n"
     ]
    },
    {
     "name": "stderr",
     "output_type": "stream",
     "text": [
      "                                                                     \n",
      "\u001b[A                                                                       \n",
      "chunk:   0%|          | 2/1985 [1:38:31<1628:07:05, 2955.74s/it, now=None]\u001b[A\n",
      "\u001b[A                                                                       \n",
      "chunk:   0%|          | 2/1985 [1:38:31<1628:07:05, 2955.74s/it, now=None]\u001b[A"
     ]
    },
    {
     "name": "stdout",
     "output_type": "stream",
     "text": [
      "MoviePy - Done.\n",
      "Moviepy - Writing video C:\\Users\\Abhishek Maurya\\Desktop\\strt\\trim\\clip_93.mp4\n",
      "\n"
     ]
    },
    {
     "name": "stderr",
     "output_type": "stream",
     "text": [
      "                                                                \n",
      "\u001b[A                                                                       \n",
      "chunk:   0%|          | 2/1985 [1:39:28<1643:48:45, 2984.23s/it, now=None]\u001b[A\n",
      "\u001b[A                                                                       \n",
      "chunk:   0%|          | 2/1985 [1:39:28<1643:48:56, 2984.23s/it, now=None]\u001b[A\n",
      "\u001b[A                                                                       \n",
      "chunk:   0%|          | 2/1985 [1:39:28<1643:48:58, 2984.24s/it, now=None]\u001b[A\n",
      "\u001b[A                                                                       \n",
      "chunk:   0%|          | 2/1985 [1:39:28<1643:49:01, 2984.24s/it, now=None]\u001b[A"
     ]
    },
    {
     "name": "stdout",
     "output_type": "stream",
     "text": [
      "Moviepy - Done !\n",
      "Moviepy - video ready C:\\Users\\Abhishek Maurya\\Desktop\\strt\\trim\\clip_93.mp4\n",
      "Moviepy - Building video C:\\Users\\Abhishek Maurya\\Desktop\\strt\\trim\\clip_94.mp4.\n",
      "MoviePy - Writing audio in clip_94TEMP_MPY_wvf_snd.mp3\n"
     ]
    },
    {
     "name": "stderr",
     "output_type": "stream",
     "text": [
      "                                                                      \n",
      "\u001b[A                                                                       \n",
      "chunk:   0%|          | 2/1985 [1:39:30<1644:22:15, 2985.24s/it, now=None]\u001b[A\n",
      "\u001b[A                                                                       \n",
      "chunk:   0%|          | 2/1985 [1:39:30<1644:22:22, 2985.25s/it, now=None]\u001b[A"
     ]
    },
    {
     "name": "stdout",
     "output_type": "stream",
     "text": [
      "MoviePy - Done.\n",
      "Moviepy - Writing video C:\\Users\\Abhishek Maurya\\Desktop\\strt\\trim\\clip_94.mp4\n",
      "\n"
     ]
    },
    {
     "name": "stderr",
     "output_type": "stream",
     "text": [
      "                                                                \n",
      "\u001b[A                                                                       \n",
      "chunk:   0%|          | 2/1985 [1:40:23<1658:58:27, 3011.75s/it, now=None]\u001b[A\n",
      "\u001b[A                                                                       \n",
      "chunk:   0%|          | 2/1985 [1:40:23<1658:58:33, 3011.76s/it, now=None]\u001b[A\n",
      "\u001b[A                                                                       \n",
      "chunk:   0%|          | 2/1985 [1:40:23<1658:58:42, 3011.76s/it, now=None]\u001b[A\n",
      "\u001b[A                                                                       \n",
      "chunk:   0%|          | 2/1985 [1:40:23<1658:58:47, 3011.76s/it, now=None]\u001b[A"
     ]
    },
    {
     "name": "stdout",
     "output_type": "stream",
     "text": [
      "Moviepy - Done !\n",
      "Moviepy - video ready C:\\Users\\Abhishek Maurya\\Desktop\\strt\\trim\\clip_94.mp4\n",
      "Moviepy - Building video C:\\Users\\Abhishek Maurya\\Desktop\\strt\\trim\\clip_95.mp4.\n",
      "MoviePy - Writing audio in clip_95TEMP_MPY_wvf_snd.mp3\n"
     ]
    },
    {
     "name": "stderr",
     "output_type": "stream",
     "text": [
      "                                                                     \n",
      "\u001b[A                                                                       \n",
      "chunk:   0%|          | 2/1985 [1:40:26<1659:45:51, 3013.19s/it, now=None]\u001b[A\n",
      "\u001b[A                                                                       \n",
      "chunk:   0%|          | 2/1985 [1:40:26<1659:45:57, 3013.19s/it, now=None]\u001b[A"
     ]
    },
    {
     "name": "stdout",
     "output_type": "stream",
     "text": [
      "MoviePy - Done.\n",
      "Moviepy - Writing video C:\\Users\\Abhishek Maurya\\Desktop\\strt\\trim\\clip_95.mp4\n",
      "\n"
     ]
    },
    {
     "name": "stderr",
     "output_type": "stream",
     "text": [
      "                                                                \n",
      "\u001b[A                                                                       \n",
      "chunk:   0%|          | 2/1985 [1:41:18<1674:14:34, 3039.47s/it, now=None]\u001b[A\n",
      "\u001b[A                                                                       \n",
      "chunk:   0%|          | 2/1985 [1:41:18<1674:14:40, 3039.48s/it, now=None]\u001b[A\n",
      "\u001b[A                                                                       \n",
      "chunk:   0%|          | 2/1985 [1:41:18<1674:14:43, 3039.48s/it, now=None]\u001b[A\n",
      "\u001b[A                                                                       \n",
      "chunk:   0%|          | 2/1985 [1:41:18<1674:14:47, 3039.48s/it, now=None]\u001b[A"
     ]
    },
    {
     "name": "stdout",
     "output_type": "stream",
     "text": [
      "Moviepy - Done !\n",
      "Moviepy - video ready C:\\Users\\Abhishek Maurya\\Desktop\\strt\\trim\\clip_95.mp4\n",
      "Moviepy - Building video C:\\Users\\Abhishek Maurya\\Desktop\\strt\\trim\\clip_96.mp4.\n",
      "MoviePy - Writing audio in clip_96TEMP_MPY_wvf_snd.mp3\n"
     ]
    },
    {
     "name": "stderr",
     "output_type": "stream",
     "text": [
      "                                                                      \n",
      "\u001b[A                                                                       \n",
      "chunk:   0%|          | 2/1985 [1:41:21<1674:55:06, 3040.70s/it, now=None]\u001b[A\n",
      "\u001b[A                                                                       \n",
      "chunk:   0%|          | 2/1985 [1:41:21<1674:55:07, 3040.70s/it, now=None]\u001b[A"
     ]
    },
    {
     "name": "stdout",
     "output_type": "stream",
     "text": [
      "MoviePy - Done.\n",
      "Moviepy - Writing video C:\\Users\\Abhishek Maurya\\Desktop\\strt\\trim\\clip_96.mp4\n",
      "\n"
     ]
    },
    {
     "name": "stderr",
     "output_type": "stream",
     "text": [
      "                                                                \n",
      "\u001b[A                                                                       \n",
      "chunk:   0%|          | 2/1985 [1:42:37<1695:45:04, 3078.52s/it, now=None]\u001b[A\n",
      "\u001b[A                                                                       \n",
      "chunk:   0%|          | 2/1985 [1:42:37<1695:45:33, 3078.53s/it, now=None]\u001b[A\n",
      "\u001b[A                                                                       \n",
      "chunk:   0%|          | 2/1985 [1:42:37<1695:45:43, 3078.54s/it, now=None]\u001b[A\n",
      "\u001b[A                                                                       \n",
      "chunk:   0%|          | 2/1985 [1:42:37<1695:45:49, 3078.54s/it, now=None]\u001b[A"
     ]
    },
    {
     "name": "stdout",
     "output_type": "stream",
     "text": [
      "Moviepy - Done !\n",
      "Moviepy - video ready C:\\Users\\Abhishek Maurya\\Desktop\\strt\\trim\\clip_96.mp4\n",
      "Moviepy - Building video C:\\Users\\Abhishek Maurya\\Desktop\\strt\\trim\\clip_97.mp4.\n",
      "MoviePy - Writing audio in clip_97TEMP_MPY_wvf_snd.mp3\n"
     ]
    },
    {
     "name": "stderr",
     "output_type": "stream",
     "text": [
      "                                                                      \n",
      "\u001b[A                                                                       \n",
      "chunk:   0%|          | 2/1985 [1:42:39<1696:24:02, 3079.70s/it, now=None]\u001b[A\n",
      "\u001b[A                                                                       \n",
      "chunk:   0%|          | 2/1985 [1:42:39<1696:24:04, 3079.70s/it, now=None]\u001b[A"
     ]
    },
    {
     "name": "stdout",
     "output_type": "stream",
     "text": [
      "MoviePy - Done.\n",
      "Moviepy - Writing video C:\\Users\\Abhishek Maurya\\Desktop\\strt\\trim\\clip_97.mp4\n",
      "\n"
     ]
    },
    {
     "name": "stderr",
     "output_type": "stream",
     "text": [
      "                                                                \n",
      "\u001b[A                                                                       \n",
      "chunk:   0%|          | 2/1985 [1:43:38<1712:45:09, 3109.38s/it, now=None]\u001b[A\n",
      "\u001b[A                                                                       \n",
      "chunk:   0%|          | 2/1985 [1:43:38<1712:45:09, 3109.38s/it, now=None]\u001b[A\n",
      "\u001b[A                                                                       \n",
      "chunk:   0%|          | 2/1985 [1:43:38<1712:45:24, 3109.39s/it, now=None]\u001b[A\n",
      "\u001b[A                                                                       \n",
      "chunk:   0%|          | 2/1985 [1:43:38<1712:45:24, 3109.39s/it, now=None]\u001b[A"
     ]
    },
    {
     "name": "stdout",
     "output_type": "stream",
     "text": [
      "Moviepy - Done !\n",
      "Moviepy - video ready C:\\Users\\Abhishek Maurya\\Desktop\\strt\\trim\\clip_97.mp4\n",
      "Moviepy - Building video C:\\Users\\Abhishek Maurya\\Desktop\\strt\\trim\\clip_98.mp4.\n",
      "MoviePy - Writing audio in clip_98TEMP_MPY_wvf_snd.mp3\n"
     ]
    },
    {
     "name": "stderr",
     "output_type": "stream",
     "text": [
      "                                                                      \n",
      "\u001b[A                                                                       \n",
      "chunk:   0%|          | 2/1985 [1:43:40<1713:17:39, 3110.37s/it, now=None]\u001b[A\n",
      "\u001b[A                                                                       \n",
      "chunk:   0%|          | 2/1985 [1:43:40<1713:17:42, 3110.37s/it, now=None]\u001b[A"
     ]
    },
    {
     "name": "stdout",
     "output_type": "stream",
     "text": [
      "MoviePy - Done.\n",
      "Moviepy - Writing video C:\\Users\\Abhishek Maurya\\Desktop\\strt\\trim\\clip_98.mp4\n",
      "\n"
     ]
    },
    {
     "name": "stderr",
     "output_type": "stream",
     "text": [
      "                                                                \n",
      "\u001b[A                                                                       \n",
      "chunk:   0%|          | 2/1985 [1:44:29<1726:38:55, 3134.61s/it, now=None]\u001b[A\n",
      "\u001b[A                                                                       \n",
      "chunk:   0%|          | 2/1985 [1:44:29<1726:38:55, 3134.61s/it, now=None]\u001b[A\n",
      "\u001b[A                                                                       \n",
      "chunk:   0%|          | 2/1985 [1:44:29<1726:39:14, 3134.62s/it, now=None]\u001b[A\n",
      "\u001b[A                                                                       \n",
      "chunk:   0%|          | 2/1985 [1:44:29<1726:39:14, 3134.62s/it, now=None]\u001b[A"
     ]
    },
    {
     "name": "stdout",
     "output_type": "stream",
     "text": [
      "Moviepy - Done !\n",
      "Moviepy - video ready C:\\Users\\Abhishek Maurya\\Desktop\\strt\\trim\\clip_98.mp4\n",
      "Moviepy - Building video C:\\Users\\Abhishek Maurya\\Desktop\\strt\\trim\\clip_99.mp4.\n",
      "MoviePy - Writing audio in clip_99TEMP_MPY_wvf_snd.mp3\n"
     ]
    },
    {
     "name": "stderr",
     "output_type": "stream",
     "text": [
      "                                                                     \n",
      "\u001b[A                                                                       \n",
      "chunk:   0%|          | 2/1985 [1:44:31<1727:19:48, 3135.85s/it, now=None]\u001b[A\n",
      "\u001b[A                                                                       \n",
      "chunk:   0%|          | 2/1985 [1:44:31<1727:19:58, 3135.85s/it, now=None]\u001b[A"
     ]
    },
    {
     "name": "stdout",
     "output_type": "stream",
     "text": [
      "MoviePy - Done.\n",
      "Moviepy - Writing video C:\\Users\\Abhishek Maurya\\Desktop\\strt\\trim\\clip_99.mp4\n",
      "\n"
     ]
    },
    {
     "name": "stderr",
     "output_type": "stream",
     "text": [
      "                                                                \n",
      "\u001b[A                                                                       \n",
      "chunk:   0%|          | 2/1985 [1:45:27<1742:49:48, 3163.99s/it, now=None]\u001b[A\n",
      "\u001b[A                                                                       \n",
      "chunk:   0%|          | 2/1985 [1:45:27<1742:50:05, 3164.00s/it, now=None]\u001b[A\n",
      "\u001b[A                                                                       \n",
      "chunk:   0%|          | 2/1985 [1:45:27<1742:50:07, 3164.00s/it, now=None]\u001b[A\n",
      "\u001b[A                                                                       \n",
      "chunk:   0%|          | 2/1985 [1:45:27<1742:50:07, 3164.00s/it, now=None]\u001b[A"
     ]
    },
    {
     "name": "stdout",
     "output_type": "stream",
     "text": [
      "Moviepy - Done !\n",
      "Moviepy - video ready C:\\Users\\Abhishek Maurya\\Desktop\\strt\\trim\\clip_99.mp4\n",
      "Moviepy - Building video C:\\Users\\Abhishek Maurya\\Desktop\\strt\\trim\\clip_100.mp4.\n",
      "MoviePy - Writing audio in clip_100TEMP_MPY_wvf_snd.mp3\n"
     ]
    },
    {
     "name": "stderr",
     "output_type": "stream",
     "text": [
      "                                                                      \n",
      "\u001b[A                                                                       \n",
      "chunk:   0%|          | 2/1985 [1:45:30<1743:31:52, 3165.26s/it, now=None]\u001b[A\n",
      "\u001b[A                                                                       \n",
      "chunk:   0%|          | 2/1985 [1:45:30<1743:31:56, 3165.26s/it, now=None]\u001b[A"
     ]
    },
    {
     "name": "stdout",
     "output_type": "stream",
     "text": [
      "MoviePy - Done.\n",
      "Moviepy - Writing video C:\\Users\\Abhishek Maurya\\Desktop\\strt\\trim\\clip_100.mp4\n",
      "\n"
     ]
    },
    {
     "name": "stderr",
     "output_type": "stream",
     "text": [
      "                                                                \n",
      "\u001b[A                                                                       \n",
      "chunk:   0%|          | 2/1985 [1:46:36<1761:35:35, 3198.05s/it, now=None]\u001b[A\n",
      "\u001b[A                                                                       \n",
      "chunk:   0%|          | 2/1985 [1:46:36<1761:35:35, 3198.05s/it, now=None]\u001b[A\n",
      "\u001b[A                                                                       \n",
      "chunk:   0%|          | 2/1985 [1:46:36<1761:35:35, 3198.05s/it, now=None]\u001b[A\n",
      "\u001b[A                                                                       \n",
      "chunk:   0%|          | 2/1985 [1:46:36<1761:35:53, 3198.06s/it, now=None]\u001b[A"
     ]
    },
    {
     "name": "stdout",
     "output_type": "stream",
     "text": [
      "Moviepy - Done !\n",
      "Moviepy - video ready C:\\Users\\Abhishek Maurya\\Desktop\\strt\\trim\\clip_100.mp4\n",
      "Moviepy - Building video C:\\Users\\Abhishek Maurya\\Desktop\\strt\\trim\\clip_101.mp4.\n",
      "MoviePy - Writing audio in clip_101TEMP_MPY_wvf_snd.mp3\n"
     ]
    },
    {
     "name": "stderr",
     "output_type": "stream",
     "text": [
      "                                                                      \n",
      "\u001b[A                                                                       \n",
      "chunk:   0%|          | 2/1985 [1:46:38<1762:17:30, 3199.32s/it, now=None]\u001b[A\n",
      "\u001b[A                                                                       \n",
      "chunk:   0%|          | 2/1985 [1:46:38<1762:17:30, 3199.32s/it, now=None]\u001b[A"
     ]
    },
    {
     "name": "stdout",
     "output_type": "stream",
     "text": [
      "MoviePy - Done.\n",
      "Moviepy - Writing video C:\\Users\\Abhishek Maurya\\Desktop\\strt\\trim\\clip_101.mp4\n",
      "\n"
     ]
    },
    {
     "name": "stderr",
     "output_type": "stream",
     "text": [
      "                                                                \n",
      "\u001b[A                                                                       \n",
      "chunk:   0%|          | 2/1985 [1:47:48<1781:28:29, 3234.14s/it, now=None]\u001b[A\n",
      "\u001b[A                                                                       \n",
      "chunk:   0%|          | 2/1985 [1:47:48<1781:28:29, 3234.14s/it, now=None]\u001b[A\n",
      "\u001b[A                                                                       \n",
      "chunk:   0%|          | 2/1985 [1:47:48<1781:28:42, 3234.15s/it, now=None]\u001b[A\n",
      "\u001b[A                                                                       \n",
      "chunk:   0%|          | 2/1985 [1:47:48<1781:28:47, 3234.15s/it, now=None]\u001b[A"
     ]
    },
    {
     "name": "stdout",
     "output_type": "stream",
     "text": [
      "Moviepy - Done !\n",
      "Moviepy - video ready C:\\Users\\Abhishek Maurya\\Desktop\\strt\\trim\\clip_101.mp4\n",
      "Moviepy - Building video C:\\Users\\Abhishek Maurya\\Desktop\\strt\\trim\\clip_102.mp4.\n",
      "MoviePy - Writing audio in clip_102TEMP_MPY_wvf_snd.mp3\n"
     ]
    },
    {
     "name": "stderr",
     "output_type": "stream",
     "text": [
      "                                                                     \n",
      "\u001b[A                                                                       \n",
      "chunk:   0%|          | 2/1985 [1:47:50<1782:08:51, 3235.37s/it, now=None]\u001b[A\n",
      "\u001b[A                                                                       \n",
      "chunk:   0%|          | 2/1985 [1:47:50<1782:08:58, 3235.37s/it, now=None]\u001b[A"
     ]
    },
    {
     "name": "stdout",
     "output_type": "stream",
     "text": [
      "MoviePy - Done.\n",
      "Moviepy - Writing video C:\\Users\\Abhishek Maurya\\Desktop\\strt\\trim\\clip_102.mp4\n",
      "\n"
     ]
    },
    {
     "name": "stderr",
     "output_type": "stream",
     "text": [
      "                                                                \n",
      "\u001b[A                                                                       \n",
      "chunk:   0%|          | 2/1985 [1:48:39<1795:34:06, 3259.73s/it, now=None]\u001b[A\n",
      "\u001b[A                                                                       \n",
      "chunk:   0%|          | 2/1985 [1:48:39<1795:34:16, 3259.74s/it, now=None]\u001b[A\n",
      "\u001b[A                                                                       \n",
      "chunk:   0%|          | 2/1985 [1:48:39<1795:34:21, 3259.74s/it, now=None]\u001b[A\n",
      "\u001b[A                                                                       \n",
      "chunk:   0%|          | 2/1985 [1:48:39<1795:34:25, 3259.74s/it, now=None]\u001b[A"
     ]
    },
    {
     "name": "stdout",
     "output_type": "stream",
     "text": [
      "Moviepy - Done !\n",
      "Moviepy - video ready C:\\Users\\Abhishek Maurya\\Desktop\\strt\\trim\\clip_102.mp4\n",
      "Moviepy - Building video C:\\Users\\Abhishek Maurya\\Desktop\\strt\\trim\\clip_103.mp4.\n",
      "MoviePy - Writing audio in clip_103TEMP_MPY_wvf_snd.mp3\n"
     ]
    },
    {
     "name": "stderr",
     "output_type": "stream",
     "text": [
      "                                                                     \n",
      "\u001b[A                                                                       \n",
      "chunk:   0%|          | 2/1985 [1:48:42<1796:18:10, 3261.06s/it, now=None]\u001b[A\n",
      "\u001b[A                                                                       \n",
      "chunk:   0%|          | 2/1985 [1:48:42<1796:18:21, 3261.07s/it, now=None]\u001b[A"
     ]
    },
    {
     "name": "stdout",
     "output_type": "stream",
     "text": [
      "MoviePy - Done.\n",
      "Moviepy - Writing video C:\\Users\\Abhishek Maurya\\Desktop\\strt\\trim\\clip_103.mp4\n",
      "\n"
     ]
    },
    {
     "name": "stderr",
     "output_type": "stream",
     "text": [
      "                                                                \n",
      "\u001b[A                                                                       \n",
      "chunk:   0%|          | 2/1985 [1:49:30<1809:39:44, 3285.32s/it, now=None]\u001b[A\n",
      "\u001b[A                                                                       \n",
      "chunk:   0%|          | 2/1985 [1:49:30<1809:39:44, 3285.32s/it, now=None]\u001b[A\n",
      "\u001b[A                                                                       \n",
      "chunk:   0%|          | 2/1985 [1:49:30<1809:40:03, 3285.33s/it, now=None]\u001b[A\n",
      "\u001b[A                                                                       \n",
      "chunk:   0%|          | 2/1985 [1:49:30<1809:40:06, 3285.33s/it, now=None]\u001b[A"
     ]
    },
    {
     "name": "stdout",
     "output_type": "stream",
     "text": [
      "Moviepy - Done !\n",
      "Moviepy - video ready C:\\Users\\Abhishek Maurya\\Desktop\\strt\\trim\\clip_103.mp4\n",
      "Moviepy - Building video C:\\Users\\Abhishek Maurya\\Desktop\\strt\\trim\\clip_104.mp4.\n",
      "MoviePy - Writing audio in clip_104TEMP_MPY_wvf_snd.mp3\n"
     ]
    },
    {
     "name": "stderr",
     "output_type": "stream",
     "text": [
      "                                                                      \n",
      "\u001b[A                                                                       \n",
      "chunk:   0%|          | 2/1985 [1:49:32<1810:17:58, 3286.47s/it, now=None]\u001b[A\n",
      "\u001b[A                                                                       \n",
      "chunk:   0%|          | 2/1985 [1:49:32<1810:17:58, 3286.47s/it, now=None]\u001b[A"
     ]
    },
    {
     "name": "stdout",
     "output_type": "stream",
     "text": [
      "MoviePy - Done.\n",
      "Moviepy - Writing video C:\\Users\\Abhishek Maurya\\Desktop\\strt\\trim\\clip_104.mp4\n",
      "\n"
     ]
    },
    {
     "name": "stderr",
     "output_type": "stream",
     "text": [
      "                                                                \n",
      "\u001b[A                                                                       \n",
      "chunk:   0%|          | 2/1985 [1:50:33<1826:50:34, 3316.51s/it, now=None]\u001b[A\n",
      "\u001b[A                                                                       \n",
      "chunk:   0%|          | 2/1985 [1:50:33<1826:50:54, 3316.52s/it, now=None]\u001b[A\n",
      "\u001b[A                                                                       \n",
      "chunk:   0%|          | 2/1985 [1:50:33<1826:51:01, 3316.52s/it, now=None]\u001b[A\n",
      "\u001b[A                                                                       \n",
      "chunk:   0%|          | 2/1985 [1:50:33<1826:51:05, 3316.52s/it, now=None]\u001b[A"
     ]
    },
    {
     "name": "stdout",
     "output_type": "stream",
     "text": [
      "Moviepy - Done !\n",
      "Moviepy - video ready C:\\Users\\Abhishek Maurya\\Desktop\\strt\\trim\\clip_104.mp4\n",
      "Moviepy - Building video C:\\Users\\Abhishek Maurya\\Desktop\\strt\\trim\\clip_105.mp4.\n",
      "MoviePy - Writing audio in clip_105TEMP_MPY_wvf_snd.mp3\n"
     ]
    },
    {
     "name": "stderr",
     "output_type": "stream",
     "text": [
      "                                                                      \n",
      "\u001b[A                                                                       \n",
      "chunk:   0%|          | 2/1985 [1:50:35<1827:28:34, 3317.66s/it, now=None]\u001b[A\n",
      "\u001b[A                                                                       \n",
      "chunk:   0%|          | 2/1985 [1:50:35<1827:28:34, 3317.66s/it, now=None]\u001b[A"
     ]
    },
    {
     "name": "stdout",
     "output_type": "stream",
     "text": [
      "MoviePy - Done.\n",
      "Moviepy - Writing video C:\\Users\\Abhishek Maurya\\Desktop\\strt\\trim\\clip_105.mp4\n",
      "\n"
     ]
    },
    {
     "name": "stderr",
     "output_type": "stream",
     "text": [
      "                                                                \n",
      "\u001b[A                                                                       \n",
      "chunk:   0%|          | 2/1985 [1:51:31<1842:57:58, 3345.78s/it, now=None]\u001b[A\n",
      "\u001b[A                                                                       \n",
      "chunk:   0%|          | 2/1985 [1:51:31<1842:58:05, 3345.78s/it, now=None]\u001b[A\n",
      "\u001b[A                                                                       \n",
      "chunk:   0%|          | 2/1985 [1:51:31<1842:58:11, 3345.78s/it, now=None]\u001b[A\n",
      "\u001b[A                                                                       \n",
      "chunk:   0%|          | 2/1985 [1:51:31<1842:58:16, 3345.79s/it, now=None]\u001b[A"
     ]
    },
    {
     "name": "stdout",
     "output_type": "stream",
     "text": [
      "Moviepy - Done !\n",
      "Moviepy - video ready C:\\Users\\Abhishek Maurya\\Desktop\\strt\\trim\\clip_105.mp4\n",
      "Moviepy - Building video C:\\Users\\Abhishek Maurya\\Desktop\\strt\\trim\\clip_106.mp4.\n",
      "MoviePy - Writing audio in clip_106TEMP_MPY_wvf_snd.mp3\n"
     ]
    },
    {
     "name": "stderr",
     "output_type": "stream",
     "text": [
      "                                                                     \n",
      "\u001b[A                                                                       \n",
      "chunk:   0%|          | 2/1985 [1:51:33<1843:37:35, 3346.98s/it, now=None]\u001b[A\n",
      "\u001b[A                                                                       \n",
      "chunk:   0%|          | 2/1985 [1:51:33<1843:37:40, 3346.98s/it, now=None]\u001b[A"
     ]
    },
    {
     "name": "stdout",
     "output_type": "stream",
     "text": [
      "MoviePy - Done.\n",
      "Moviepy - Writing video C:\\Users\\Abhishek Maurya\\Desktop\\strt\\trim\\clip_106.mp4\n",
      "\n"
     ]
    },
    {
     "name": "stderr",
     "output_type": "stream",
     "text": [
      "                                                                 \n",
      "\u001b[A                                                                       \n",
      "chunk:   0%|          | 2/1985 [1:52:38<1861:16:34, 3379.02s/it, now=None]\u001b[A\n",
      "\u001b[A                                                                       \n",
      "chunk:   0%|          | 2/1985 [1:52:38<1861:17:18, 3379.04s/it, now=None]\u001b[A\n",
      "\u001b[A                                                                       \n",
      "chunk:   0%|          | 2/1985 [1:52:38<1861:17:21, 3379.04s/it, now=None]\u001b[A\n",
      "\u001b[A                                                                       \n",
      "chunk:   0%|          | 2/1985 [1:52:38<1861:17:25, 3379.04s/it, now=None]\u001b[A"
     ]
    },
    {
     "name": "stdout",
     "output_type": "stream",
     "text": [
      "Moviepy - Done !\n",
      "Moviepy - video ready C:\\Users\\Abhishek Maurya\\Desktop\\strt\\trim\\clip_106.mp4\n",
      "Moviepy - Building video C:\\Users\\Abhishek Maurya\\Desktop\\strt\\trim\\clip_107.mp4.\n",
      "MoviePy - Writing audio in clip_107TEMP_MPY_wvf_snd.mp3\n"
     ]
    },
    {
     "name": "stderr",
     "output_type": "stream",
     "text": [
      "                                                                     \n",
      "\u001b[A                                                                       \n",
      "chunk:   0%|          | 2/1985 [1:52:40<1862:02:01, 3380.39s/it, now=None]\u001b[A\n",
      "\u001b[A                                                                       \n",
      "chunk:   0%|          | 2/1985 [1:52:40<1862:02:01, 3380.39s/it, now=None]\u001b[A"
     ]
    },
    {
     "name": "stdout",
     "output_type": "stream",
     "text": [
      "MoviePy - Done.\n",
      "Moviepy - Writing video C:\\Users\\Abhishek Maurya\\Desktop\\strt\\trim\\clip_107.mp4\n",
      "\n"
     ]
    },
    {
     "name": "stderr",
     "output_type": "stream",
     "text": [
      "                                                                \n",
      "\u001b[A                                                                       \n",
      "chunk:   0%|          | 2/1985 [1:53:46<1880:16:06, 3413.50s/it, now=None]\u001b[A\n",
      "\u001b[A                                                                       \n",
      "chunk:   0%|          | 2/1985 [1:53:47<1880:16:12, 3413.50s/it, now=None]\u001b[A\n",
      "\u001b[A                                                                       \n",
      "chunk:   0%|          | 2/1985 [1:53:47<1880:16:20, 3413.51s/it, now=None]\u001b[A\n",
      "\u001b[A                                                                       \n",
      "chunk:   0%|          | 2/1985 [1:53:47<1880:16:20, 3413.51s/it, now=None]\u001b[A"
     ]
    },
    {
     "name": "stdout",
     "output_type": "stream",
     "text": [
      "Moviepy - Done !\n",
      "Moviepy - video ready C:\\Users\\Abhishek Maurya\\Desktop\\strt\\trim\\clip_107.mp4\n",
      "Moviepy - Building video C:\\Users\\Abhishek Maurya\\Desktop\\strt\\trim\\clip_108.mp4.\n",
      "MoviePy - Writing audio in clip_108TEMP_MPY_wvf_snd.mp3\n"
     ]
    },
    {
     "name": "stderr",
     "output_type": "stream",
     "text": [
      "                                                                     \n",
      "\u001b[A                                                                       \n",
      "chunk:   0%|          | 2/1985 [1:53:49<1880:58:43, 3414.79s/it, now=None]\u001b[A\n",
      "\u001b[A                                                                       \n",
      "chunk:   0%|          | 2/1985 [1:53:49<1880:58:43, 3414.79s/it, now=None]\u001b[A"
     ]
    },
    {
     "name": "stdout",
     "output_type": "stream",
     "text": [
      "MoviePy - Done.\n",
      "Moviepy - Writing video C:\\Users\\Abhishek Maurya\\Desktop\\strt\\trim\\clip_108.mp4\n",
      "\n"
     ]
    },
    {
     "name": "stderr",
     "output_type": "stream",
     "text": [
      "                                                                \n",
      "\u001b[A                                                                       \n",
      "chunk:   0%|          | 2/1985 [1:54:38<1894:20:08, 3439.04s/it, now=None]\u001b[A\n",
      "\u001b[A                                                                       \n",
      "chunk:   0%|          | 2/1985 [1:54:38<1894:20:08, 3439.04s/it, now=None]\u001b[A\n",
      "\u001b[A                                                                       \n",
      "chunk:   0%|          | 2/1985 [1:54:38<1894:20:29, 3439.05s/it, now=None]\u001b[A\n",
      "\u001b[A                                                                       \n",
      "chunk:   0%|          | 2/1985 [1:54:38<1894:20:33, 3439.05s/it, now=None]\u001b[A"
     ]
    },
    {
     "name": "stdout",
     "output_type": "stream",
     "text": [
      "Moviepy - Done !\n",
      "Moviepy - video ready C:\\Users\\Abhishek Maurya\\Desktop\\strt\\trim\\clip_108.mp4\n",
      "Moviepy - Building video C:\\Users\\Abhishek Maurya\\Desktop\\strt\\trim\\clip_109.mp4.\n",
      "MoviePy - Writing audio in clip_109TEMP_MPY_wvf_snd.mp3\n"
     ]
    },
    {
     "name": "stderr",
     "output_type": "stream",
     "text": [
      "                                                                      \n",
      "\u001b[A                                                                       \n",
      "chunk:   0%|          | 2/1985 [1:54:40<1894:58:55, 3440.21s/it, now=None]\u001b[A\n",
      "\u001b[A                                                                       \n",
      "chunk:   0%|          | 2/1985 [1:54:40<1894:59:11, 3440.22s/it, now=None]\u001b[A"
     ]
    },
    {
     "name": "stdout",
     "output_type": "stream",
     "text": [
      "MoviePy - Done.\n",
      "Moviepy - Writing video C:\\Users\\Abhishek Maurya\\Desktop\\strt\\trim\\clip_109.mp4\n",
      "\n"
     ]
    },
    {
     "name": "stderr",
     "output_type": "stream",
     "text": [
      "                                                                 \n",
      "\u001b[A                                                                       \n",
      "chunk:   0%|          | 2/1985 [1:55:13<1903:59:12, 3456.56s/it, now=None]\u001b[A\n",
      "\u001b[A                                                                       \n",
      "chunk:   0%|          | 2/1985 [1:55:13<1903:59:25, 3456.56s/it, now=None]\u001b[A"
     ]
    },
    {
     "name": "stdout",
     "output_type": "stream",
     "text": [
      "Moviepy - Done !\n",
      "Moviepy - video ready C:\\Users\\Abhishek Maurya\\Desktop\\strt\\trim\\clip_109.mp4\n"
     ]
    }
   ],
   "source": [
    "# Import the moviepy and os modules\n",
    "from moviepy.editor import *\n",
    "import os\n",
    "\n",
    "# Specify the input video path and the output folder path\n",
    "input_video_path = r\"C:\\Users\\Abhishek Maurya\\Desktop\\strt\\main\\charlie.mp4\"\n",
    "output_folder_path = r\"C:\\Users\\Abhishek Maurya\\Desktop\\strt\\trim\"\n",
    "\n",
    "# Load the video file\n",
    "video = VideoFileClip(input_video_path)\n",
    "\n",
    "# Get the duration of the video in seconds\n",
    "duration = video.duration\n",
    "\n",
    "# Initialize a list to store the trimmed clips\n",
    "clips = []\n",
    "\n",
    "# Loop through the video with a step of 90 seconds\n",
    "for i in range(0, int(duration), 90):\n",
    "    # Get the start and end time of the current segment\n",
    "    start = i\n",
    "    end = min(i + 90, duration)\n",
    "\n",
    "    # Trim the video from start to end\n",
    "    clip = video.subclip(start, end)\n",
    "\n",
    "    # Append the clip to the list\n",
    "    clips.append(clip)\n",
    "\n",
    "# Reverse the order of the clips\n",
    "clips.reverse()\n",
    "\n",
    "# Write the clips to separate video files in the output folder\n",
    "for i, clip in enumerate(clips):\n",
    "    # Generate a file name with the index\n",
    "    file_name = f\"clip_{i}.mp4\"\n",
    "\n",
    "    # Join the output folder path and the file name\n",
    "    output_file_path = os.path.join(output_folder_path, file_name)\n",
    "\n",
    "    # Write the clip to the file\n",
    "    clip.write_videofile(output_file_path)\n"
   ]
  },
  {
   "cell_type": "code",
   "execution_count": null,
   "id": "a66e0048",
   "metadata": {},
   "outputs": [],
   "source": [
    "C:\\Users\\Abhishek Maurya\\Desktop\\strt\\main"
   ]
  }
 ],
 "metadata": {
  "kernelspec": {
   "display_name": "Python 3 (ipykernel)",
   "language": "python",
   "name": "python3"
  },
  "language_info": {
   "codemirror_mode": {
    "name": "ipython",
    "version": 3
   },
   "file_extension": ".py",
   "mimetype": "text/x-python",
   "name": "python",
   "nbconvert_exporter": "python",
   "pygments_lexer": "ipython3",
   "version": "3.11.4"
  }
 },
 "nbformat": 4,
 "nbformat_minor": 5
}
